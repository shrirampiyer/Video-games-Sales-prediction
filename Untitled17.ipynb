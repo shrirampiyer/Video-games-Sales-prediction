{
  "nbformat": 4,
  "nbformat_minor": 0,
  "metadata": {
    "colab": {
      "name": "Untitled17.ipynb",
      "provenance": [],
      "collapsed_sections": [],
      "authorship_tag": "ABX9TyN+yMwfwt/0/Qopu0TDSmPT",
      "include_colab_link": true
    },
    "kernelspec": {
      "name": "ir",
      "display_name": "R"
    },
    "language_info": {
      "name": "R"
    }
  },
  "cells": [
    {
      "cell_type": "markdown",
      "metadata": {
        "id": "view-in-github",
        "colab_type": "text"
      },
      "source": [
        "<a href=\"https://colab.research.google.com/github/shrirampiyer/Video-games-Sales-prediction/blob/main/Untitled17.ipynb\" target=\"_parent\"><img src=\"https://colab.research.google.com/assets/colab-badge.svg\" alt=\"Open In Colab\"/></a>"
      ]
    },
    {
      "cell_type": "code",
      "metadata": {
        "colab": {
          "base_uri": "https://localhost:8080/",
          "height": 217
        },
        "id": "ElAnKG4kuVWE",
        "outputId": "8e0329c8-b102-46ce-e52c-bb6bd493a60e"
      },
      "source": [
        "library(dplyr)\n",
        "library(tidyr)\n",
        "library(stringr)\n",
        "library(ggplot2)\n",
        "library(corrplot)\n",
        "library(dummies)\n",
        "library(broom)\n",
        "library(mice)\n",
        "library(DataExplorer)\n",
        "library(gridExtra)\n",
        "library(caret)\n",
        "library(RColorBrewer)\n",
        "library(missForest)\n",
        "library(caTools)\n",
        "library(jtools)\n",
        "library(randomForest)\n",
        "library(e1071)\n",
        "library(ROCR)\n",
        "library(klaR)\n"
      ],
      "execution_count": 82,
      "outputs": [
        {
          "output_type": "stream",
          "name": "stderr",
          "text": [
            "corrplot 0.90 loaded\n",
            "\n",
            "dummies-1.5.6 provided by Decision Patterns\n",
            "\n",
            "\n"
          ]
        },
        {
          "output_type": "error",
          "ename": "ERROR",
          "evalue": "ignored",
          "traceback": [
            "Error in library(mice): there is no package called ‘mice’\nTraceback:\n",
            "1. library(mice)"
          ]
        }
      ]
    },
    {
      "cell_type": "code",
      "metadata": {
        "colab": {
          "base_uri": "https://localhost:8080/"
        },
        "id": "5Ihp1OVWuV98",
        "outputId": "0c03cb9c-9deb-47e1-e4b2-49e68aec6466"
      },
      "source": [
        "install.packages(\"dummies\")"
      ],
      "execution_count": 2,
      "outputs": [
        {
          "output_type": "stream",
          "name": "stderr",
          "text": [
            "Installing package into ‘/usr/local/lib/R/site-library’\n",
            "(as ‘lib’ is unspecified)\n",
            "\n"
          ]
        }
      ]
    },
    {
      "cell_type": "code",
      "metadata": {
        "id": "j0R-_vA7uc2j"
      },
      "source": [
        "sales_data <- read.csv(\"/content/M4_Videogame.csv\")\n"
      ],
      "execution_count": 3,
      "outputs": []
    },
    {
      "cell_type": "code",
      "metadata": {
        "colab": {
          "base_uri": "https://localhost:8080/"
        },
        "id": "Or9eTCZ6vAWX",
        "outputId": "e6d86960-3ba5-4d71-d73c-56da7d983ca0"
      },
      "source": [
        "glimpse(sales_data)"
      ],
      "execution_count": 4,
      "outputs": [
        {
          "output_type": "stream",
          "name": "stdout",
          "text": [
            "Rows: 16,719\n",
            "Columns: 17\n",
            "$ X               \u001b[3m\u001b[90m<int>\u001b[39m\u001b[23m 1, 2, 3, 4, 5, 6, 7, 8, 9, 10, 11, 12, 13, 14, 15, 16,…\n",
            "$ Name            \u001b[3m\u001b[90m<chr>\u001b[39m\u001b[23m \"Wii Sports\", \"Super Mario Bros.\", \"Mario Kart Wii\", \"…\n",
            "$ Platform        \u001b[3m\u001b[90m<chr>\u001b[39m\u001b[23m \"Wii\", \"NES\", \"Wii\", \"Wii\", \"GB\", \"GB\", \"DS\", \"Wii\", \"…\n",
            "$ Year_of_Release \u001b[3m\u001b[90m<chr>\u001b[39m\u001b[23m \"2006\", \"1985\", \"2008\", \"2009\", \"1996\", \"1989\", \"2006\"…\n",
            "$ Genre           \u001b[3m\u001b[90m<chr>\u001b[39m\u001b[23m \"Sports\", \"Platform\", \"Racing\", \"Sports\", \"Role-Playin…\n",
            "$ Publisher       \u001b[3m\u001b[90m<chr>\u001b[39m\u001b[23m \"Nintendo\", \"Nintendo\", \"Nintendo\", \"Nintendo\", \"Ninte…\n",
            "$ NA_players      \u001b[3m\u001b[90m<dbl>\u001b[39m\u001b[23m 41.36, 29.08, 15.68, 15.61, 11.27, 23.20, 11.28, 13.96…\n",
            "$ EU_players      \u001b[3m\u001b[90m<dbl>\u001b[39m\u001b[23m 28.96, 3.58, 12.76, 10.93, 8.89, 2.26, 9.14, 9.18, 6.9…\n",
            "$ JP_players      \u001b[3m\u001b[90m<dbl>\u001b[39m\u001b[23m 3.77, 6.81, 3.79, 3.28, 10.22, 4.22, 6.50, 2.93, 4.70,…\n",
            "$ Other_players   \u001b[3m\u001b[90m<dbl>\u001b[39m\u001b[23m 8.45, 0.77, 3.29, 2.95, 1.00, 0.58, 2.88, 2.84, 2.24, …\n",
            "$ Global_players  \u001b[3m\u001b[90m<dbl>\u001b[39m\u001b[23m 82.53, 40.24, 35.52, 32.77, 31.37, 30.26, 29.80, 28.92…\n",
            "$ Critic_Score    \u001b[3m\u001b[90m<int>\u001b[39m\u001b[23m 76, NA, 82, 80, NA, NA, 89, 58, 87, NA, NA, 91, NA, 80…\n",
            "$ Critic_Count    \u001b[3m\u001b[90m<int>\u001b[39m\u001b[23m 51, NA, 73, 73, NA, NA, 65, 41, 80, NA, NA, 64, NA, 63…\n",
            "$ User_Score      \u001b[3m\u001b[90m<chr>\u001b[39m\u001b[23m \"8\", \"\", \"8.3\", \"8\", \"\", \"\", \"8.5\", \"6.6\", \"8.4\", \"\", …\n",
            "$ User_Count      \u001b[3m\u001b[90m<int>\u001b[39m\u001b[23m 322, NA, 709, 192, NA, NA, 431, 129, 594, NA, NA, 464,…\n",
            "$ Developer       \u001b[3m\u001b[90m<chr>\u001b[39m\u001b[23m \"Nintendo\", \"\", \"Nintendo\", \"Nintendo\", \"\", \"\", \"Ninte…\n",
            "$ Rating          \u001b[3m\u001b[90m<chr>\u001b[39m\u001b[23m \"E\", \"\", \"E\", \"E\", \"\", \"\", \"E\", \"E\", \"E\", \"\", \"\", \"E\",…\n"
          ]
        }
      ]
    },
    {
      "cell_type": "code",
      "metadata": {
        "id": "jwwIVGVCvFlz",
        "colab": {
          "base_uri": "https://localhost:8080/"
        },
        "outputId": "74da525f-c8e0-4df7-af3a-5cec397f5f18"
      },
      "source": [
        "sales_data$Platform = as.factor(sales_data$Platform)\n",
        "sales_data$Year_of_Release = as.numeric(sales_data$Year_of_Release)\n",
        "sales_data$Genre = as.factor(sales_data$Genre)\n",
        "sales_data$Publisher = as.factor(sales_data$Publisher)\n",
        "sales_data$Developer=as.factor(sales_data$Developer)\n",
        "sales_data$Rating=as.factor(sales_data$Rating)"
      ],
      "execution_count": 5,
      "outputs": [
        {
          "output_type": "stream",
          "name": "stderr",
          "text": [
            "Warning message in eval(expr, envir, enclos):\n",
            "“NAs introduced by coercion”\n"
          ]
        }
      ]
    },
    {
      "cell_type": "code",
      "metadata": {
        "colab": {
          "base_uri": "https://localhost:8080/",
          "height": 129
        },
        "id": "ngYQKSm8vdS5",
        "outputId": "fe8d9e05-42ea-46f7-9a29-3226b1b4d976"
      },
      "source": [
        "sales_data %>% summarise(n_distinct(Name))"
      ],
      "execution_count": 6,
      "outputs": [
        {
          "output_type": "display_data",
          "data": {
            "text/plain": [
              "  n_distinct(Name)\n",
              "1 11563           "
            ],
            "text/latex": "A data.frame: 1 × 1\n\\begin{tabular}{l}\n n\\_distinct(Name)\\\\\n <int>\\\\\n\\hline\n\t 11563\\\\\n\\end{tabular}\n",
            "text/markdown": "\nA data.frame: 1 × 1\n\n| n_distinct(Name) &lt;int&gt; |\n|---|\n| 11563 |\n\n",
            "text/html": [
              "<table class=\"dataframe\">\n",
              "<caption>A data.frame: 1 × 1</caption>\n",
              "<thead>\n",
              "\t<tr><th scope=col>n_distinct(Name)</th></tr>\n",
              "\t<tr><th scope=col>&lt;int&gt;</th></tr>\n",
              "</thead>\n",
              "<tbody>\n",
              "\t<tr><td>11563</td></tr>\n",
              "</tbody>\n",
              "</table>\n"
            ]
          },
          "metadata": {}
        }
      ]
    },
    {
      "cell_type": "code",
      "metadata": {
        "colab": {
          "base_uri": "https://localhost:8080/",
          "height": 1000
        },
        "id": "VvUj6U_D5SpZ",
        "outputId": "bf2baaff-808b-4f35-9b07-02709db89d70"
      },
      "source": [
        "sales_data <- subset(sales_data, sales_data$Platform != \"PS2\")\n",
        "sales_data %>%\n",
        "  group_by(Platform) %>%\n",
        "  summarise(Count = n(),Perc=round(n()/nrow(.)*100,2)) %>%\n",
        "  arrange(desc(Count))"
      ],
      "execution_count": 7,
      "outputs": [
        {
          "output_type": "display_data",
          "data": {
            "text/plain": [
              "   Platform Count Perc \n",
              "1  DS       2152  14.78\n",
              "2  PS3      1331   9.14\n",
              "3  Wii      1320   9.07\n",
              "4  X360     1262   8.67\n",
              "5  PSP      1209   8.30\n",
              "6  PS       1197   8.22\n",
              "7  PC        974   6.69\n",
              "8  XB        824   5.66\n",
              "9  GBA       822   5.65\n",
              "10 GC        556   3.82\n",
              "11 3DS       520   3.57\n",
              "12 PSV       432   2.97\n",
              "13 PS4       393   2.70\n",
              "14 N64       319   2.19\n",
              "15 XOne      247   1.70\n",
              "16 SNES      239   1.64\n",
              "17 SAT       173   1.19\n",
              "18 WiiU      147   1.01\n",
              "19 2600      133   0.91\n",
              "20 GB         98   0.67\n",
              "21 NES        98   0.67\n",
              "22 DC         52   0.36\n",
              "23 GEN        29   0.20\n",
              "24 NG         12   0.08\n",
              "25 SCD         6   0.04\n",
              "26 WS          6   0.04\n",
              "27 3DO         3   0.02\n",
              "28 TG16        2   0.01\n",
              "29 GG          1   0.01\n",
              "30 PCFX        1   0.01"
            ],
            "text/latex": "A tibble: 30 × 3\n\\begin{tabular}{lll}\n Platform & Count & Perc\\\\\n <fct> & <int> & <dbl>\\\\\n\\hline\n\t DS   & 2152 & 14.78\\\\\n\t PS3  & 1331 &  9.14\\\\\n\t Wii  & 1320 &  9.07\\\\\n\t X360 & 1262 &  8.67\\\\\n\t PSP  & 1209 &  8.30\\\\\n\t PS   & 1197 &  8.22\\\\\n\t PC   &  974 &  6.69\\\\\n\t XB   &  824 &  5.66\\\\\n\t GBA  &  822 &  5.65\\\\\n\t GC   &  556 &  3.82\\\\\n\t 3DS  &  520 &  3.57\\\\\n\t PSV  &  432 &  2.97\\\\\n\t PS4  &  393 &  2.70\\\\\n\t N64  &  319 &  2.19\\\\\n\t XOne &  247 &  1.70\\\\\n\t SNES &  239 &  1.64\\\\\n\t SAT  &  173 &  1.19\\\\\n\t WiiU &  147 &  1.01\\\\\n\t 2600 &  133 &  0.91\\\\\n\t GB   &   98 &  0.67\\\\\n\t NES  &   98 &  0.67\\\\\n\t DC   &   52 &  0.36\\\\\n\t GEN  &   29 &  0.20\\\\\n\t NG   &   12 &  0.08\\\\\n\t SCD  &    6 &  0.04\\\\\n\t WS   &    6 &  0.04\\\\\n\t 3DO  &    3 &  0.02\\\\\n\t TG16 &    2 &  0.01\\\\\n\t GG   &    1 &  0.01\\\\\n\t PCFX &    1 &  0.01\\\\\n\\end{tabular}\n",
            "text/markdown": "\nA tibble: 30 × 3\n\n| Platform &lt;fct&gt; | Count &lt;int&gt; | Perc &lt;dbl&gt; |\n|---|---|---|\n| DS   | 2152 | 14.78 |\n| PS3  | 1331 |  9.14 |\n| Wii  | 1320 |  9.07 |\n| X360 | 1262 |  8.67 |\n| PSP  | 1209 |  8.30 |\n| PS   | 1197 |  8.22 |\n| PC   |  974 |  6.69 |\n| XB   |  824 |  5.66 |\n| GBA  |  822 |  5.65 |\n| GC   |  556 |  3.82 |\n| 3DS  |  520 |  3.57 |\n| PSV  |  432 |  2.97 |\n| PS4  |  393 |  2.70 |\n| N64  |  319 |  2.19 |\n| XOne |  247 |  1.70 |\n| SNES |  239 |  1.64 |\n| SAT  |  173 |  1.19 |\n| WiiU |  147 |  1.01 |\n| 2600 |  133 |  0.91 |\n| GB   |   98 |  0.67 |\n| NES  |   98 |  0.67 |\n| DC   |   52 |  0.36 |\n| GEN  |   29 |  0.20 |\n| NG   |   12 |  0.08 |\n| SCD  |    6 |  0.04 |\n| WS   |    6 |  0.04 |\n| 3DO  |    3 |  0.02 |\n| TG16 |    2 |  0.01 |\n| GG   |    1 |  0.01 |\n| PCFX |    1 |  0.01 |\n\n",
            "text/html": [
              "<table class=\"dataframe\">\n",
              "<caption>A tibble: 30 × 3</caption>\n",
              "<thead>\n",
              "\t<tr><th scope=col>Platform</th><th scope=col>Count</th><th scope=col>Perc</th></tr>\n",
              "\t<tr><th scope=col>&lt;fct&gt;</th><th scope=col>&lt;int&gt;</th><th scope=col>&lt;dbl&gt;</th></tr>\n",
              "</thead>\n",
              "<tbody>\n",
              "\t<tr><td>DS  </td><td>2152</td><td>14.78</td></tr>\n",
              "\t<tr><td>PS3 </td><td>1331</td><td> 9.14</td></tr>\n",
              "\t<tr><td>Wii </td><td>1320</td><td> 9.07</td></tr>\n",
              "\t<tr><td>X360</td><td>1262</td><td> 8.67</td></tr>\n",
              "\t<tr><td>PSP </td><td>1209</td><td> 8.30</td></tr>\n",
              "\t<tr><td>PS  </td><td>1197</td><td> 8.22</td></tr>\n",
              "\t<tr><td>PC  </td><td> 974</td><td> 6.69</td></tr>\n",
              "\t<tr><td>XB  </td><td> 824</td><td> 5.66</td></tr>\n",
              "\t<tr><td>GBA </td><td> 822</td><td> 5.65</td></tr>\n",
              "\t<tr><td>GC  </td><td> 556</td><td> 3.82</td></tr>\n",
              "\t<tr><td>3DS </td><td> 520</td><td> 3.57</td></tr>\n",
              "\t<tr><td>PSV </td><td> 432</td><td> 2.97</td></tr>\n",
              "\t<tr><td>PS4 </td><td> 393</td><td> 2.70</td></tr>\n",
              "\t<tr><td>N64 </td><td> 319</td><td> 2.19</td></tr>\n",
              "\t<tr><td>XOne</td><td> 247</td><td> 1.70</td></tr>\n",
              "\t<tr><td>SNES</td><td> 239</td><td> 1.64</td></tr>\n",
              "\t<tr><td>SAT </td><td> 173</td><td> 1.19</td></tr>\n",
              "\t<tr><td>WiiU</td><td> 147</td><td> 1.01</td></tr>\n",
              "\t<tr><td>2600</td><td> 133</td><td> 0.91</td></tr>\n",
              "\t<tr><td>GB  </td><td>  98</td><td> 0.67</td></tr>\n",
              "\t<tr><td>NES </td><td>  98</td><td> 0.67</td></tr>\n",
              "\t<tr><td>DC  </td><td>  52</td><td> 0.36</td></tr>\n",
              "\t<tr><td>GEN </td><td>  29</td><td> 0.20</td></tr>\n",
              "\t<tr><td>NG  </td><td>  12</td><td> 0.08</td></tr>\n",
              "\t<tr><td>SCD </td><td>   6</td><td> 0.04</td></tr>\n",
              "\t<tr><td>WS  </td><td>   6</td><td> 0.04</td></tr>\n",
              "\t<tr><td>3DO </td><td>   3</td><td> 0.02</td></tr>\n",
              "\t<tr><td>TG16</td><td>   2</td><td> 0.01</td></tr>\n",
              "\t<tr><td>GG  </td><td>   1</td><td> 0.01</td></tr>\n",
              "\t<tr><td>PCFX</td><td>   1</td><td> 0.01</td></tr>\n",
              "</tbody>\n",
              "</table>\n"
            ]
          },
          "metadata": {}
        }
      ]
    },
    {
      "cell_type": "code",
      "metadata": {
        "colab": {
          "base_uri": "https://localhost:8080/",
          "height": 504
        },
        "id": "h28CA_Og544b",
        "outputId": "a03387de-7dbb-437c-dbcd-c582a37fe3ff"
      },
      "source": [
        "sales_data %>%\n",
        "  group_by(Genre) %>%\n",
        "  summarise(Count = n(),Perc=round(n()/nrow(.)*100,2)) %>%\n",
        "  arrange(desc(Count))"
      ],
      "execution_count": 8,
      "outputs": [
        {
          "output_type": "display_data",
          "data": {
            "text/plain": [
              "   Genre        Count Perc \n",
              "1  Action       3022  20.76\n",
              "2  Sports       1948  13.38\n",
              "3  Misc         1528  10.50\n",
              "4  Role-Playing 1313   9.02\n",
              "5  Shooter      1163   7.99\n",
              "6  Adventure    1107   7.60\n",
              "7  Racing       1033   7.10\n",
              "8  Platform      785   5.39\n",
              "9  Simulation    784   5.39\n",
              "10 Fighting      699   4.80\n",
              "11 Strategy      612   4.20\n",
              "12 Puzzle        562   3.86\n",
              "13                 2   0.01"
            ],
            "text/latex": "A tibble: 13 × 3\n\\begin{tabular}{lll}\n Genre & Count & Perc\\\\\n <fct> & <int> & <dbl>\\\\\n\\hline\n\t Action       & 3022 & 20.76\\\\\n\t Sports       & 1948 & 13.38\\\\\n\t Misc         & 1528 & 10.50\\\\\n\t Role-Playing & 1313 &  9.02\\\\\n\t Shooter      & 1163 &  7.99\\\\\n\t Adventure    & 1107 &  7.60\\\\\n\t Racing       & 1033 &  7.10\\\\\n\t Platform     &  785 &  5.39\\\\\n\t Simulation   &  784 &  5.39\\\\\n\t Fighting     &  699 &  4.80\\\\\n\t Strategy     &  612 &  4.20\\\\\n\t Puzzle       &  562 &  3.86\\\\\n\t              &    2 &  0.01\\\\\n\\end{tabular}\n",
            "text/markdown": "\nA tibble: 13 × 3\n\n| Genre &lt;fct&gt; | Count &lt;int&gt; | Perc &lt;dbl&gt; |\n|---|---|---|\n| Action       | 3022 | 20.76 |\n| Sports       | 1948 | 13.38 |\n| Misc         | 1528 | 10.50 |\n| Role-Playing | 1313 |  9.02 |\n| Shooter      | 1163 |  7.99 |\n| Adventure    | 1107 |  7.60 |\n| Racing       | 1033 |  7.10 |\n| Platform     |  785 |  5.39 |\n| Simulation   |  784 |  5.39 |\n| Fighting     |  699 |  4.80 |\n| Strategy     |  612 |  4.20 |\n| Puzzle       |  562 |  3.86 |\n| <!----> |    2 |  0.01 |\n\n",
            "text/html": [
              "<table class=\"dataframe\">\n",
              "<caption>A tibble: 13 × 3</caption>\n",
              "<thead>\n",
              "\t<tr><th scope=col>Genre</th><th scope=col>Count</th><th scope=col>Perc</th></tr>\n",
              "\t<tr><th scope=col>&lt;fct&gt;</th><th scope=col>&lt;int&gt;</th><th scope=col>&lt;dbl&gt;</th></tr>\n",
              "</thead>\n",
              "<tbody>\n",
              "\t<tr><td>Action      </td><td>3022</td><td>20.76</td></tr>\n",
              "\t<tr><td>Sports      </td><td>1948</td><td>13.38</td></tr>\n",
              "\t<tr><td>Misc        </td><td>1528</td><td>10.50</td></tr>\n",
              "\t<tr><td>Role-Playing</td><td>1313</td><td> 9.02</td></tr>\n",
              "\t<tr><td>Shooter     </td><td>1163</td><td> 7.99</td></tr>\n",
              "\t<tr><td>Adventure   </td><td>1107</td><td> 7.60</td></tr>\n",
              "\t<tr><td>Racing      </td><td>1033</td><td> 7.10</td></tr>\n",
              "\t<tr><td>Platform    </td><td> 785</td><td> 5.39</td></tr>\n",
              "\t<tr><td>Simulation  </td><td> 784</td><td> 5.39</td></tr>\n",
              "\t<tr><td>Fighting    </td><td> 699</td><td> 4.80</td></tr>\n",
              "\t<tr><td>Strategy    </td><td> 612</td><td> 4.20</td></tr>\n",
              "\t<tr><td>Puzzle      </td><td> 562</td><td> 3.86</td></tr>\n",
              "\t<tr><td>            </td><td>   2</td><td> 0.01</td></tr>\n",
              "</tbody>\n",
              "</table>\n"
            ]
          },
          "metadata": {}
        }
      ]
    },
    {
      "cell_type": "code",
      "metadata": {
        "colab": {
          "base_uri": "https://localhost:8080/",
          "height": 1000
        },
        "id": "USo5Ki4H720K",
        "outputId": "937f4cab-ac4c-4af6-da48-96daa438c63c"
      },
      "source": [
        "sales_data %>%\n",
        "  group_by(Publisher) %>%\n",
        "  summarise(Count = n(),Perc=round(n()/nrow(.)*100,2)) %>%\n",
        "  arrange(desc(Count))"
      ],
      "execution_count": 9,
      "outputs": [
        {
          "output_type": "display_data",
          "data": {
            "text/plain": [
              "    Publisher                              Count Perc\n",
              "1   Electronic Arts                        1157  7.95\n",
              "2   Activision                              882  6.06\n",
              "3   Ubisoft                                 863  5.93\n",
              "4   Namco Bandai Games                      832  5.72\n",
              "5   Nintendo                                706  4.85\n",
              "6   Konami Digital Entertainment            671  4.61\n",
              "7   THQ                                     615  4.22\n",
              "8   Sega                                    555  3.81\n",
              "9   Sony Computer Entertainment             483  3.32\n",
              "10  Take-Two Interactive                    362  2.49\n",
              "11  Capcom                                  325  2.23\n",
              "12  Atari                                   297  2.04\n",
              "13  Tecmo Koei                              263  1.81\n",
              "14  Warner Bros. Interactive Entertainment  227  1.56\n",
              "15  Square Enix                             208  1.43\n",
              "16  Disney Interactive Studios              201  1.38\n",
              "17  Microsoft Game Studios                  191  1.31\n",
              "18  Unknown                                 177  1.22\n",
              "19  505 Games                               169  1.16\n",
              "20  D3Publisher                             160  1.10\n",
              "21  Eidos Interactive                       154  1.06\n",
              "22  Acclaim Entertainment                   153  1.05\n",
              "23  Midway Games                            148  1.02\n",
              "24  Codemasters                             133  0.91\n",
              "25  Vivendi Games                           133  0.91\n",
              "26  Deep Silver                             121  0.83\n",
              "27  Idea Factory                            116  0.80\n",
              "28  Nippon Ichi Software                    101  0.69\n",
              "29  Zoo Digital Publishing                   93  0.64\n",
              "30  Majesco Entertainment                    91  0.63\n",
              "⋮   ⋮                                      ⋮     ⋮   \n",
              "523 Summitsoft                             1     0.01\n",
              "524 Sunflowers                             1     0.01\n",
              "525 T&E Soft                               1     0.01\n",
              "526 Takuyo                                 1     0.01\n",
              "527 TalonSoft                              1     0.01\n",
              "528 Team17 Software                        1     0.01\n",
              "529 Technos Japan Corporation              1     0.01\n",
              "530 TechnoSoft                             1     0.01\n",
              "531 Tetris Online                          1     0.01\n",
              "532 The Learning Company                   1     0.01\n",
              "533 TOHO                                   1     0.01\n",
              "534 TYO                                    1     0.01\n",
              "535 Type-Moon                              1     0.01\n",
              "536 UEP Systems                            1     0.01\n",
              "537 UIG Entertainment                      1     0.01\n",
              "538 Ultravision                            1     0.01\n",
              "539 Universal Gamex                        1     0.01\n",
              "540 Valve                                  1     0.01\n",
              "541 Vap                                    1     0.01\n",
              "542 Visco                                  1     0.01\n",
              "543 Warashi                                1     0.01\n",
              "544 Wargaming.net                          1     0.01\n",
              "545 Warp                                   1     0.01\n",
              "546 WayForward Technologies                1     0.01\n",
              "547 Westwood Studios                       1     0.01\n",
              "548 White Park Bay Software                1     0.01\n",
              "549 Wizard Video Games                     1     0.01\n",
              "550 Xing Entertainment                     1     0.01\n",
              "551 Yamasa Entertainment                   1     0.01\n",
              "552 Yumedia                                1     0.01"
            ],
            "text/latex": "A tibble: 552 × 3\n\\begin{tabular}{lll}\n Publisher & Count & Perc\\\\\n <fct> & <int> & <dbl>\\\\\n\\hline\n\t Electronic Arts                        & 1157 & 7.95\\\\\n\t Activision                             &  882 & 6.06\\\\\n\t Ubisoft                                &  863 & 5.93\\\\\n\t Namco Bandai Games                     &  832 & 5.72\\\\\n\t Nintendo                               &  706 & 4.85\\\\\n\t Konami Digital Entertainment           &  671 & 4.61\\\\\n\t THQ                                    &  615 & 4.22\\\\\n\t Sega                                   &  555 & 3.81\\\\\n\t Sony Computer Entertainment            &  483 & 3.32\\\\\n\t Take-Two Interactive                   &  362 & 2.49\\\\\n\t Capcom                                 &  325 & 2.23\\\\\n\t Atari                                  &  297 & 2.04\\\\\n\t Tecmo Koei                             &  263 & 1.81\\\\\n\t Warner Bros. Interactive Entertainment &  227 & 1.56\\\\\n\t Square Enix                            &  208 & 1.43\\\\\n\t Disney Interactive Studios             &  201 & 1.38\\\\\n\t Microsoft Game Studios                 &  191 & 1.31\\\\\n\t Unknown                                &  177 & 1.22\\\\\n\t 505 Games                              &  169 & 1.16\\\\\n\t D3Publisher                            &  160 & 1.10\\\\\n\t Eidos Interactive                      &  154 & 1.06\\\\\n\t Acclaim Entertainment                  &  153 & 1.05\\\\\n\t Midway Games                           &  148 & 1.02\\\\\n\t Codemasters                            &  133 & 0.91\\\\\n\t Vivendi Games                          &  133 & 0.91\\\\\n\t Deep Silver                            &  121 & 0.83\\\\\n\t Idea Factory                           &  116 & 0.80\\\\\n\t Nippon Ichi Software                   &  101 & 0.69\\\\\n\t Zoo Digital Publishing                 &   93 & 0.64\\\\\n\t Majesco Entertainment                  &   91 & 0.63\\\\\n\t ⋮ & ⋮ & ⋮\\\\\n\t Summitsoft                & 1 & 0.01\\\\\n\t Sunflowers                & 1 & 0.01\\\\\n\t T\\&E Soft                  & 1 & 0.01\\\\\n\t Takuyo                    & 1 & 0.01\\\\\n\t TalonSoft                 & 1 & 0.01\\\\\n\t Team17 Software           & 1 & 0.01\\\\\n\t Technos Japan Corporation & 1 & 0.01\\\\\n\t TechnoSoft                & 1 & 0.01\\\\\n\t Tetris Online             & 1 & 0.01\\\\\n\t The Learning Company      & 1 & 0.01\\\\\n\t TOHO                      & 1 & 0.01\\\\\n\t TYO                       & 1 & 0.01\\\\\n\t Type-Moon                 & 1 & 0.01\\\\\n\t UEP Systems               & 1 & 0.01\\\\\n\t UIG Entertainment         & 1 & 0.01\\\\\n\t Ultravision               & 1 & 0.01\\\\\n\t Universal Gamex           & 1 & 0.01\\\\\n\t Valve                     & 1 & 0.01\\\\\n\t Vap                       & 1 & 0.01\\\\\n\t Visco                     & 1 & 0.01\\\\\n\t Warashi                   & 1 & 0.01\\\\\n\t Wargaming.net             & 1 & 0.01\\\\\n\t Warp                      & 1 & 0.01\\\\\n\t WayForward Technologies   & 1 & 0.01\\\\\n\t Westwood Studios          & 1 & 0.01\\\\\n\t White Park Bay Software   & 1 & 0.01\\\\\n\t Wizard Video Games        & 1 & 0.01\\\\\n\t Xing Entertainment        & 1 & 0.01\\\\\n\t Yamasa Entertainment      & 1 & 0.01\\\\\n\t Yumedia                   & 1 & 0.01\\\\\n\\end{tabular}\n",
            "text/markdown": "\nA tibble: 552 × 3\n\n| Publisher &lt;fct&gt; | Count &lt;int&gt; | Perc &lt;dbl&gt; |\n|---|---|---|\n| Electronic Arts                        | 1157 | 7.95 |\n| Activision                             |  882 | 6.06 |\n| Ubisoft                                |  863 | 5.93 |\n| Namco Bandai Games                     |  832 | 5.72 |\n| Nintendo                               |  706 | 4.85 |\n| Konami Digital Entertainment           |  671 | 4.61 |\n| THQ                                    |  615 | 4.22 |\n| Sega                                   |  555 | 3.81 |\n| Sony Computer Entertainment            |  483 | 3.32 |\n| Take-Two Interactive                   |  362 | 2.49 |\n| Capcom                                 |  325 | 2.23 |\n| Atari                                  |  297 | 2.04 |\n| Tecmo Koei                             |  263 | 1.81 |\n| Warner Bros. Interactive Entertainment |  227 | 1.56 |\n| Square Enix                            |  208 | 1.43 |\n| Disney Interactive Studios             |  201 | 1.38 |\n| Microsoft Game Studios                 |  191 | 1.31 |\n| Unknown                                |  177 | 1.22 |\n| 505 Games                              |  169 | 1.16 |\n| D3Publisher                            |  160 | 1.10 |\n| Eidos Interactive                      |  154 | 1.06 |\n| Acclaim Entertainment                  |  153 | 1.05 |\n| Midway Games                           |  148 | 1.02 |\n| Codemasters                            |  133 | 0.91 |\n| Vivendi Games                          |  133 | 0.91 |\n| Deep Silver                            |  121 | 0.83 |\n| Idea Factory                           |  116 | 0.80 |\n| Nippon Ichi Software                   |  101 | 0.69 |\n| Zoo Digital Publishing                 |   93 | 0.64 |\n| Majesco Entertainment                  |   91 | 0.63 |\n| ⋮ | ⋮ | ⋮ |\n| Summitsoft                | 1 | 0.01 |\n| Sunflowers                | 1 | 0.01 |\n| T&amp;E Soft                  | 1 | 0.01 |\n| Takuyo                    | 1 | 0.01 |\n| TalonSoft                 | 1 | 0.01 |\n| Team17 Software           | 1 | 0.01 |\n| Technos Japan Corporation | 1 | 0.01 |\n| TechnoSoft                | 1 | 0.01 |\n| Tetris Online             | 1 | 0.01 |\n| The Learning Company      | 1 | 0.01 |\n| TOHO                      | 1 | 0.01 |\n| TYO                       | 1 | 0.01 |\n| Type-Moon                 | 1 | 0.01 |\n| UEP Systems               | 1 | 0.01 |\n| UIG Entertainment         | 1 | 0.01 |\n| Ultravision               | 1 | 0.01 |\n| Universal Gamex           | 1 | 0.01 |\n| Valve                     | 1 | 0.01 |\n| Vap                       | 1 | 0.01 |\n| Visco                     | 1 | 0.01 |\n| Warashi                   | 1 | 0.01 |\n| Wargaming.net             | 1 | 0.01 |\n| Warp                      | 1 | 0.01 |\n| WayForward Technologies   | 1 | 0.01 |\n| Westwood Studios          | 1 | 0.01 |\n| White Park Bay Software   | 1 | 0.01 |\n| Wizard Video Games        | 1 | 0.01 |\n| Xing Entertainment        | 1 | 0.01 |\n| Yamasa Entertainment      | 1 | 0.01 |\n| Yumedia                   | 1 | 0.01 |\n\n",
            "text/html": [
              "<table class=\"dataframe\">\n",
              "<caption>A tibble: 552 × 3</caption>\n",
              "<thead>\n",
              "\t<tr><th scope=col>Publisher</th><th scope=col>Count</th><th scope=col>Perc</th></tr>\n",
              "\t<tr><th scope=col>&lt;fct&gt;</th><th scope=col>&lt;int&gt;</th><th scope=col>&lt;dbl&gt;</th></tr>\n",
              "</thead>\n",
              "<tbody>\n",
              "\t<tr><td>Electronic Arts                       </td><td>1157</td><td>7.95</td></tr>\n",
              "\t<tr><td>Activision                            </td><td> 882</td><td>6.06</td></tr>\n",
              "\t<tr><td>Ubisoft                               </td><td> 863</td><td>5.93</td></tr>\n",
              "\t<tr><td>Namco Bandai Games                    </td><td> 832</td><td>5.72</td></tr>\n",
              "\t<tr><td>Nintendo                              </td><td> 706</td><td>4.85</td></tr>\n",
              "\t<tr><td>Konami Digital Entertainment          </td><td> 671</td><td>4.61</td></tr>\n",
              "\t<tr><td>THQ                                   </td><td> 615</td><td>4.22</td></tr>\n",
              "\t<tr><td>Sega                                  </td><td> 555</td><td>3.81</td></tr>\n",
              "\t<tr><td>Sony Computer Entertainment           </td><td> 483</td><td>3.32</td></tr>\n",
              "\t<tr><td>Take-Two Interactive                  </td><td> 362</td><td>2.49</td></tr>\n",
              "\t<tr><td>Capcom                                </td><td> 325</td><td>2.23</td></tr>\n",
              "\t<tr><td>Atari                                 </td><td> 297</td><td>2.04</td></tr>\n",
              "\t<tr><td>Tecmo Koei                            </td><td> 263</td><td>1.81</td></tr>\n",
              "\t<tr><td>Warner Bros. Interactive Entertainment</td><td> 227</td><td>1.56</td></tr>\n",
              "\t<tr><td>Square Enix                           </td><td> 208</td><td>1.43</td></tr>\n",
              "\t<tr><td>Disney Interactive Studios            </td><td> 201</td><td>1.38</td></tr>\n",
              "\t<tr><td>Microsoft Game Studios                </td><td> 191</td><td>1.31</td></tr>\n",
              "\t<tr><td>Unknown                               </td><td> 177</td><td>1.22</td></tr>\n",
              "\t<tr><td>505 Games                             </td><td> 169</td><td>1.16</td></tr>\n",
              "\t<tr><td>D3Publisher                           </td><td> 160</td><td>1.10</td></tr>\n",
              "\t<tr><td>Eidos Interactive                     </td><td> 154</td><td>1.06</td></tr>\n",
              "\t<tr><td>Acclaim Entertainment                 </td><td> 153</td><td>1.05</td></tr>\n",
              "\t<tr><td>Midway Games                          </td><td> 148</td><td>1.02</td></tr>\n",
              "\t<tr><td>Codemasters                           </td><td> 133</td><td>0.91</td></tr>\n",
              "\t<tr><td>Vivendi Games                         </td><td> 133</td><td>0.91</td></tr>\n",
              "\t<tr><td>Deep Silver                           </td><td> 121</td><td>0.83</td></tr>\n",
              "\t<tr><td>Idea Factory                          </td><td> 116</td><td>0.80</td></tr>\n",
              "\t<tr><td>Nippon Ichi Software                  </td><td> 101</td><td>0.69</td></tr>\n",
              "\t<tr><td>Zoo Digital Publishing                </td><td>  93</td><td>0.64</td></tr>\n",
              "\t<tr><td>Majesco Entertainment                 </td><td>  91</td><td>0.63</td></tr>\n",
              "\t<tr><td>⋮</td><td>⋮</td><td>⋮</td></tr>\n",
              "\t<tr><td>Summitsoft               </td><td>1</td><td>0.01</td></tr>\n",
              "\t<tr><td>Sunflowers               </td><td>1</td><td>0.01</td></tr>\n",
              "\t<tr><td><span style=white-space:pre-wrap>T&amp;E Soft                 </span></td><td>1</td><td>0.01</td></tr>\n",
              "\t<tr><td>Takuyo                   </td><td>1</td><td>0.01</td></tr>\n",
              "\t<tr><td>TalonSoft                </td><td>1</td><td>0.01</td></tr>\n",
              "\t<tr><td>Team17 Software          </td><td>1</td><td>0.01</td></tr>\n",
              "\t<tr><td>Technos Japan Corporation</td><td>1</td><td>0.01</td></tr>\n",
              "\t<tr><td>TechnoSoft               </td><td>1</td><td>0.01</td></tr>\n",
              "\t<tr><td>Tetris Online            </td><td>1</td><td>0.01</td></tr>\n",
              "\t<tr><td>The Learning Company     </td><td>1</td><td>0.01</td></tr>\n",
              "\t<tr><td>TOHO                     </td><td>1</td><td>0.01</td></tr>\n",
              "\t<tr><td>TYO                      </td><td>1</td><td>0.01</td></tr>\n",
              "\t<tr><td>Type-Moon                </td><td>1</td><td>0.01</td></tr>\n",
              "\t<tr><td>UEP Systems              </td><td>1</td><td>0.01</td></tr>\n",
              "\t<tr><td>UIG Entertainment        </td><td>1</td><td>0.01</td></tr>\n",
              "\t<tr><td>Ultravision              </td><td>1</td><td>0.01</td></tr>\n",
              "\t<tr><td>Universal Gamex          </td><td>1</td><td>0.01</td></tr>\n",
              "\t<tr><td>Valve                    </td><td>1</td><td>0.01</td></tr>\n",
              "\t<tr><td>Vap                      </td><td>1</td><td>0.01</td></tr>\n",
              "\t<tr><td>Visco                    </td><td>1</td><td>0.01</td></tr>\n",
              "\t<tr><td>Warashi                  </td><td>1</td><td>0.01</td></tr>\n",
              "\t<tr><td>Wargaming.net            </td><td>1</td><td>0.01</td></tr>\n",
              "\t<tr><td>Warp                     </td><td>1</td><td>0.01</td></tr>\n",
              "\t<tr><td>WayForward Technologies  </td><td>1</td><td>0.01</td></tr>\n",
              "\t<tr><td>Westwood Studios         </td><td>1</td><td>0.01</td></tr>\n",
              "\t<tr><td>White Park Bay Software  </td><td>1</td><td>0.01</td></tr>\n",
              "\t<tr><td>Wizard Video Games       </td><td>1</td><td>0.01</td></tr>\n",
              "\t<tr><td>Xing Entertainment       </td><td>1</td><td>0.01</td></tr>\n",
              "\t<tr><td>Yamasa Entertainment     </td><td>1</td><td>0.01</td></tr>\n",
              "\t<tr><td>Yumedia                  </td><td>1</td><td>0.01</td></tr>\n",
              "</tbody>\n",
              "</table>\n"
            ]
          },
          "metadata": {}
        }
      ]
    },
    {
      "cell_type": "code",
      "metadata": {
        "colab": {
          "base_uri": "https://localhost:8080/",
          "height": 1000
        },
        "id": "iCWCSkeu8HVv",
        "outputId": "6943c4d9-8cdf-49ae-bf48-8fb3ea79286a"
      },
      "source": [
        "sales_data %>%\n",
        "  group_by(Developer) %>%\n",
        "  summarise(Count = n(),Perc=round(n()/nrow(.)*100,2)) %>%\n",
        "  arrange(desc(Count))"
      ],
      "execution_count": 10,
      "outputs": [
        {
          "output_type": "display_data",
          "data": {
            "text/plain": [
              "     Developer                                                                       \n",
              "1                                                                                    \n",
              "2    Ubisoft                                                                         \n",
              "3    EA Canada                                                                       \n",
              "4    EA Sports                                                                       \n",
              "5    Konami                                                                          \n",
              "6    Capcom                                                                          \n",
              "7    Ubisoft Montreal                                                                \n",
              "8    Electronic Arts                                                                 \n",
              "9    EA Tiburon                                                                      \n",
              "10   Visual Concepts                                                                 \n",
              "11   Vicarious Visions                                                               \n",
              "12   Nintendo                                                                        \n",
              "13   TT Games                                                                        \n",
              "14   Activision                                                                      \n",
              "15   Traveller's Tales                                                               \n",
              "16   THQ                                                                             \n",
              "17   Omega Force                                                                     \n",
              "18   Codemasters                                                                     \n",
              "19   Yuke's                                                                          \n",
              "20   Artificial Mind and Movement                                                    \n",
              "21   Maxis                                                                           \n",
              "22   High Voltage Software                                                           \n",
              "23   FUN Labs                                                                        \n",
              "24   Arc System Works                                                                \n",
              "25   TOSE                                                                            \n",
              "26   Midway                                                                          \n",
              "27   WayForward                                                                      \n",
              "28   Neversoft Entertainment                                                         \n",
              "29   Griptonite Games                                                                \n",
              "30   Harmonix Music Systems                                                          \n",
              "⋮    ⋮                                                                               \n",
              "1592 Volition Inc., CD Projekt Red Studio, CD Projekt, CD Projekt Localisation Centre\n",
              "1593 Volition Inc., Reactor Zero                                                     \n",
              "1594 Voxler                                                                          \n",
              "1595 War Drum Studios                                                                \n",
              "1596 Warashi                                                                         \n",
              "1597 Warner Bros. Interactive Entertainment                                          \n",
              "1598 Westwood Studios                                                                \n",
              "1599 White Birds Productions                                                         \n",
              "1600 Wicked Studios                                                                  \n",
              "1601 Wide Games                                                                      \n",
              "1602 Wildfire Studios                                                                \n",
              "1603 WildTangent                                                                     \n",
              "1604 Will                                                                            \n",
              "1605 XPEC Entertainment Inc.                                                         \n",
              "1606 XS Games                                                                        \n",
              "1607 Y's K                                                                           \n",
              "1608 Yoostar Entertainment Group                                                     \n",
              "1609 Yuke's, Yuke's Company of America                                               \n",
              "1610 Zed Two Limited                                                                 \n",
              "1611 ZeptoLab                                                                        \n",
              "1612 Zeroscale                                                                       \n",
              "1613 ZigZagIsland                                                                    \n",
              "1614 Zindagi Games                                                                   \n",
              "1615 Zombie                                                                          \n",
              "1616 Zono Inc.                                                                       \n",
              "1617 Zoo Digital Publishing                                                          \n",
              "1618 Zoonami Ltd.                                                                    \n",
              "1619 zSlide                                                                          \n",
              "1620 Zushi Games Ltd                                                                 \n",
              "1621 Zuxxez                                                                          \n",
              "     Count Perc \n",
              "1    5943  40.82\n",
              "2     188   1.29\n",
              "3     136   0.93\n",
              "4     133   0.91\n",
              "5     127   0.87\n",
              "6     107   0.73\n",
              "7      96   0.66\n",
              "8      90   0.62\n",
              "9      86   0.59\n",
              "10     80   0.55\n",
              "11     73   0.50\n",
              "12     72   0.49\n",
              "13     72   0.49\n",
              "14     70   0.48\n",
              "15     69   0.47\n",
              "16     64   0.44\n",
              "17     63   0.43\n",
              "18     58   0.40\n",
              "19     50   0.34\n",
              "20     48   0.33\n",
              "21     45   0.31\n",
              "22     44   0.30\n",
              "23     42   0.29\n",
              "24     41   0.28\n",
              "25     41   0.28\n",
              "26     40   0.27\n",
              "27     40   0.27\n",
              "28     39   0.27\n",
              "29     38   0.26\n",
              "30     37   0.25\n",
              "⋮    ⋮     ⋮    \n",
              "1592 1     0.01 \n",
              "1593 1     0.01 \n",
              "1594 1     0.01 \n",
              "1595 1     0.01 \n",
              "1596 1     0.01 \n",
              "1597 1     0.01 \n",
              "1598 1     0.01 \n",
              "1599 1     0.01 \n",
              "1600 1     0.01 \n",
              "1601 1     0.01 \n",
              "1602 1     0.01 \n",
              "1603 1     0.01 \n",
              "1604 1     0.01 \n",
              "1605 1     0.01 \n",
              "1606 1     0.01 \n",
              "1607 1     0.01 \n",
              "1608 1     0.01 \n",
              "1609 1     0.01 \n",
              "1610 1     0.01 \n",
              "1611 1     0.01 \n",
              "1612 1     0.01 \n",
              "1613 1     0.01 \n",
              "1614 1     0.01 \n",
              "1615 1     0.01 \n",
              "1616 1     0.01 \n",
              "1617 1     0.01 \n",
              "1618 1     0.01 \n",
              "1619 1     0.01 \n",
              "1620 1     0.01 \n",
              "1621 1     0.01 "
            ],
            "text/latex": "A tibble: 1621 × 3\n\\begin{tabular}{lll}\n Developer & Count & Perc\\\\\n <fct> & <int> & <dbl>\\\\\n\\hline\n\t                              & 5943 & 40.82\\\\\n\t Ubisoft                      &  188 &  1.29\\\\\n\t EA Canada                    &  136 &  0.93\\\\\n\t EA Sports                    &  133 &  0.91\\\\\n\t Konami                       &  127 &  0.87\\\\\n\t Capcom                       &  107 &  0.73\\\\\n\t Ubisoft Montreal             &   96 &  0.66\\\\\n\t Electronic Arts              &   90 &  0.62\\\\\n\t EA Tiburon                   &   86 &  0.59\\\\\n\t Visual Concepts              &   80 &  0.55\\\\\n\t Vicarious Visions            &   73 &  0.50\\\\\n\t Nintendo                     &   72 &  0.49\\\\\n\t TT Games                     &   72 &  0.49\\\\\n\t Activision                   &   70 &  0.48\\\\\n\t Traveller's Tales            &   69 &  0.47\\\\\n\t THQ                          &   64 &  0.44\\\\\n\t Omega Force                  &   63 &  0.43\\\\\n\t Codemasters                  &   58 &  0.40\\\\\n\t Yuke's                       &   50 &  0.34\\\\\n\t Artificial Mind and Movement &   48 &  0.33\\\\\n\t Maxis                        &   45 &  0.31\\\\\n\t High Voltage Software        &   44 &  0.30\\\\\n\t FUN Labs                     &   42 &  0.29\\\\\n\t Arc System Works             &   41 &  0.28\\\\\n\t TOSE                         &   41 &  0.28\\\\\n\t Midway                       &   40 &  0.27\\\\\n\t WayForward                   &   40 &  0.27\\\\\n\t Neversoft Entertainment      &   39 &  0.27\\\\\n\t Griptonite Games             &   38 &  0.26\\\\\n\t Harmonix Music Systems       &   37 &  0.25\\\\\n\t ⋮ & ⋮ & ⋮\\\\\n\t Volition Inc., CD Projekt Red Studio, CD Projekt, CD Projekt Localisation Centre & 1 & 0.01\\\\\n\t Volition Inc., Reactor Zero                                                      & 1 & 0.01\\\\\n\t Voxler                                                                           & 1 & 0.01\\\\\n\t War Drum Studios                                                                 & 1 & 0.01\\\\\n\t Warashi                                                                          & 1 & 0.01\\\\\n\t Warner Bros. Interactive Entertainment                                           & 1 & 0.01\\\\\n\t Westwood Studios                                                                 & 1 & 0.01\\\\\n\t White Birds Productions                                                          & 1 & 0.01\\\\\n\t Wicked Studios                                                                   & 1 & 0.01\\\\\n\t Wide Games                                                                       & 1 & 0.01\\\\\n\t Wildfire Studios                                                                 & 1 & 0.01\\\\\n\t WildTangent                                                                      & 1 & 0.01\\\\\n\t Will                                                                             & 1 & 0.01\\\\\n\t XPEC Entertainment Inc.                                                          & 1 & 0.01\\\\\n\t XS Games                                                                         & 1 & 0.01\\\\\n\t Y's K                                                                            & 1 & 0.01\\\\\n\t Yoostar Entertainment Group                                                      & 1 & 0.01\\\\\n\t Yuke's, Yuke's Company of America                                                & 1 & 0.01\\\\\n\t Zed Two Limited                                                                  & 1 & 0.01\\\\\n\t ZeptoLab                                                                         & 1 & 0.01\\\\\n\t Zeroscale                                                                        & 1 & 0.01\\\\\n\t ZigZagIsland                                                                     & 1 & 0.01\\\\\n\t Zindagi Games                                                                    & 1 & 0.01\\\\\n\t Zombie                                                                           & 1 & 0.01\\\\\n\t Zono Inc.                                                                        & 1 & 0.01\\\\\n\t Zoo Digital Publishing                                                           & 1 & 0.01\\\\\n\t Zoonami Ltd.                                                                     & 1 & 0.01\\\\\n\t zSlide                                                                           & 1 & 0.01\\\\\n\t Zushi Games Ltd                                                                  & 1 & 0.01\\\\\n\t Zuxxez                                                                           & 1 & 0.01\\\\\n\\end{tabular}\n",
            "text/markdown": "\nA tibble: 1621 × 3\n\n| Developer &lt;fct&gt; | Count &lt;int&gt; | Perc &lt;dbl&gt; |\n|---|---|---|\n| <!----> | 5943 | 40.82 |\n| Ubisoft                      |  188 |  1.29 |\n| EA Canada                    |  136 |  0.93 |\n| EA Sports                    |  133 |  0.91 |\n| Konami                       |  127 |  0.87 |\n| Capcom                       |  107 |  0.73 |\n| Ubisoft Montreal             |   96 |  0.66 |\n| Electronic Arts              |   90 |  0.62 |\n| EA Tiburon                   |   86 |  0.59 |\n| Visual Concepts              |   80 |  0.55 |\n| Vicarious Visions            |   73 |  0.50 |\n| Nintendo                     |   72 |  0.49 |\n| TT Games                     |   72 |  0.49 |\n| Activision                   |   70 |  0.48 |\n| Traveller's Tales            |   69 |  0.47 |\n| THQ                          |   64 |  0.44 |\n| Omega Force                  |   63 |  0.43 |\n| Codemasters                  |   58 |  0.40 |\n| Yuke's                       |   50 |  0.34 |\n| Artificial Mind and Movement |   48 |  0.33 |\n| Maxis                        |   45 |  0.31 |\n| High Voltage Software        |   44 |  0.30 |\n| FUN Labs                     |   42 |  0.29 |\n| Arc System Works             |   41 |  0.28 |\n| TOSE                         |   41 |  0.28 |\n| Midway                       |   40 |  0.27 |\n| WayForward                   |   40 |  0.27 |\n| Neversoft Entertainment      |   39 |  0.27 |\n| Griptonite Games             |   38 |  0.26 |\n| Harmonix Music Systems       |   37 |  0.25 |\n| ⋮ | ⋮ | ⋮ |\n| Volition Inc., CD Projekt Red Studio, CD Projekt, CD Projekt Localisation Centre | 1 | 0.01 |\n| Volition Inc., Reactor Zero                                                      | 1 | 0.01 |\n| Voxler                                                                           | 1 | 0.01 |\n| War Drum Studios                                                                 | 1 | 0.01 |\n| Warashi                                                                          | 1 | 0.01 |\n| Warner Bros. Interactive Entertainment                                           | 1 | 0.01 |\n| Westwood Studios                                                                 | 1 | 0.01 |\n| White Birds Productions                                                          | 1 | 0.01 |\n| Wicked Studios                                                                   | 1 | 0.01 |\n| Wide Games                                                                       | 1 | 0.01 |\n| Wildfire Studios                                                                 | 1 | 0.01 |\n| WildTangent                                                                      | 1 | 0.01 |\n| Will                                                                             | 1 | 0.01 |\n| XPEC Entertainment Inc.                                                          | 1 | 0.01 |\n| XS Games                                                                         | 1 | 0.01 |\n| Y's K                                                                            | 1 | 0.01 |\n| Yoostar Entertainment Group                                                      | 1 | 0.01 |\n| Yuke's, Yuke's Company of America                                                | 1 | 0.01 |\n| Zed Two Limited                                                                  | 1 | 0.01 |\n| ZeptoLab                                                                         | 1 | 0.01 |\n| Zeroscale                                                                        | 1 | 0.01 |\n| ZigZagIsland                                                                     | 1 | 0.01 |\n| Zindagi Games                                                                    | 1 | 0.01 |\n| Zombie                                                                           | 1 | 0.01 |\n| Zono Inc.                                                                        | 1 | 0.01 |\n| Zoo Digital Publishing                                                           | 1 | 0.01 |\n| Zoonami Ltd.                                                                     | 1 | 0.01 |\n| zSlide                                                                           | 1 | 0.01 |\n| Zushi Games Ltd                                                                  | 1 | 0.01 |\n| Zuxxez                                                                           | 1 | 0.01 |\n\n",
            "text/html": [
              "<table class=\"dataframe\">\n",
              "<caption>A tibble: 1621 × 3</caption>\n",
              "<thead>\n",
              "\t<tr><th scope=col>Developer</th><th scope=col>Count</th><th scope=col>Perc</th></tr>\n",
              "\t<tr><th scope=col>&lt;fct&gt;</th><th scope=col>&lt;int&gt;</th><th scope=col>&lt;dbl&gt;</th></tr>\n",
              "</thead>\n",
              "<tbody>\n",
              "\t<tr><td>                            </td><td>5943</td><td>40.82</td></tr>\n",
              "\t<tr><td>Ubisoft                     </td><td> 188</td><td> 1.29</td></tr>\n",
              "\t<tr><td>EA Canada                   </td><td> 136</td><td> 0.93</td></tr>\n",
              "\t<tr><td>EA Sports                   </td><td> 133</td><td> 0.91</td></tr>\n",
              "\t<tr><td>Konami                      </td><td> 127</td><td> 0.87</td></tr>\n",
              "\t<tr><td>Capcom                      </td><td> 107</td><td> 0.73</td></tr>\n",
              "\t<tr><td>Ubisoft Montreal            </td><td>  96</td><td> 0.66</td></tr>\n",
              "\t<tr><td>Electronic Arts             </td><td>  90</td><td> 0.62</td></tr>\n",
              "\t<tr><td>EA Tiburon                  </td><td>  86</td><td> 0.59</td></tr>\n",
              "\t<tr><td>Visual Concepts             </td><td>  80</td><td> 0.55</td></tr>\n",
              "\t<tr><td>Vicarious Visions           </td><td>  73</td><td> 0.50</td></tr>\n",
              "\t<tr><td>Nintendo                    </td><td>  72</td><td> 0.49</td></tr>\n",
              "\t<tr><td>TT Games                    </td><td>  72</td><td> 0.49</td></tr>\n",
              "\t<tr><td>Activision                  </td><td>  70</td><td> 0.48</td></tr>\n",
              "\t<tr><td>Traveller's Tales           </td><td>  69</td><td> 0.47</td></tr>\n",
              "\t<tr><td>THQ                         </td><td>  64</td><td> 0.44</td></tr>\n",
              "\t<tr><td>Omega Force                 </td><td>  63</td><td> 0.43</td></tr>\n",
              "\t<tr><td>Codemasters                 </td><td>  58</td><td> 0.40</td></tr>\n",
              "\t<tr><td>Yuke's                      </td><td>  50</td><td> 0.34</td></tr>\n",
              "\t<tr><td>Artificial Mind and Movement</td><td>  48</td><td> 0.33</td></tr>\n",
              "\t<tr><td>Maxis                       </td><td>  45</td><td> 0.31</td></tr>\n",
              "\t<tr><td>High Voltage Software       </td><td>  44</td><td> 0.30</td></tr>\n",
              "\t<tr><td>FUN Labs                    </td><td>  42</td><td> 0.29</td></tr>\n",
              "\t<tr><td>Arc System Works            </td><td>  41</td><td> 0.28</td></tr>\n",
              "\t<tr><td>TOSE                        </td><td>  41</td><td> 0.28</td></tr>\n",
              "\t<tr><td>Midway                      </td><td>  40</td><td> 0.27</td></tr>\n",
              "\t<tr><td>WayForward                  </td><td>  40</td><td> 0.27</td></tr>\n",
              "\t<tr><td>Neversoft Entertainment     </td><td>  39</td><td> 0.27</td></tr>\n",
              "\t<tr><td>Griptonite Games            </td><td>  38</td><td> 0.26</td></tr>\n",
              "\t<tr><td>Harmonix Music Systems      </td><td>  37</td><td> 0.25</td></tr>\n",
              "\t<tr><td>⋮</td><td>⋮</td><td>⋮</td></tr>\n",
              "\t<tr><td>Volition Inc., CD Projekt Red Studio, CD Projekt, CD Projekt Localisation Centre</td><td>1</td><td>0.01</td></tr>\n",
              "\t<tr><td>Volition Inc., Reactor Zero                                                     </td><td>1</td><td>0.01</td></tr>\n",
              "\t<tr><td>Voxler                                                                          </td><td>1</td><td>0.01</td></tr>\n",
              "\t<tr><td>War Drum Studios                                                                </td><td>1</td><td>0.01</td></tr>\n",
              "\t<tr><td>Warashi                                                                         </td><td>1</td><td>0.01</td></tr>\n",
              "\t<tr><td>Warner Bros. Interactive Entertainment                                          </td><td>1</td><td>0.01</td></tr>\n",
              "\t<tr><td>Westwood Studios                                                                </td><td>1</td><td>0.01</td></tr>\n",
              "\t<tr><td>White Birds Productions                                                         </td><td>1</td><td>0.01</td></tr>\n",
              "\t<tr><td>Wicked Studios                                                                  </td><td>1</td><td>0.01</td></tr>\n",
              "\t<tr><td>Wide Games                                                                      </td><td>1</td><td>0.01</td></tr>\n",
              "\t<tr><td>Wildfire Studios                                                                </td><td>1</td><td>0.01</td></tr>\n",
              "\t<tr><td>WildTangent                                                                     </td><td>1</td><td>0.01</td></tr>\n",
              "\t<tr><td>Will                                                                            </td><td>1</td><td>0.01</td></tr>\n",
              "\t<tr><td>XPEC Entertainment Inc.                                                         </td><td>1</td><td>0.01</td></tr>\n",
              "\t<tr><td>XS Games                                                                        </td><td>1</td><td>0.01</td></tr>\n",
              "\t<tr><td>Y's K                                                                           </td><td>1</td><td>0.01</td></tr>\n",
              "\t<tr><td>Yoostar Entertainment Group                                                     </td><td>1</td><td>0.01</td></tr>\n",
              "\t<tr><td>Yuke's, Yuke's Company of America                                               </td><td>1</td><td>0.01</td></tr>\n",
              "\t<tr><td>Zed Two Limited                                                                 </td><td>1</td><td>0.01</td></tr>\n",
              "\t<tr><td>ZeptoLab                                                                        </td><td>1</td><td>0.01</td></tr>\n",
              "\t<tr><td>Zeroscale                                                                       </td><td>1</td><td>0.01</td></tr>\n",
              "\t<tr><td>ZigZagIsland                                                                    </td><td>1</td><td>0.01</td></tr>\n",
              "\t<tr><td>Zindagi Games                                                                   </td><td>1</td><td>0.01</td></tr>\n",
              "\t<tr><td>Zombie                                                                          </td><td>1</td><td>0.01</td></tr>\n",
              "\t<tr><td>Zono Inc.                                                                       </td><td>1</td><td>0.01</td></tr>\n",
              "\t<tr><td>Zoo Digital Publishing                                                          </td><td>1</td><td>0.01</td></tr>\n",
              "\t<tr><td>Zoonami Ltd.                                                                    </td><td>1</td><td>0.01</td></tr>\n",
              "\t<tr><td>zSlide                                                                          </td><td>1</td><td>0.01</td></tr>\n",
              "\t<tr><td>Zushi Games Ltd                                                                 </td><td>1</td><td>0.01</td></tr>\n",
              "\t<tr><td>Zuxxez                                                                          </td><td>1</td><td>0.01</td></tr>\n",
              "</tbody>\n",
              "</table>\n"
            ]
          },
          "metadata": {}
        }
      ]
    },
    {
      "cell_type": "code",
      "metadata": {
        "id": "k5_kCLXW5l36",
        "colab": {
          "base_uri": "https://localhost:8080/",
          "height": 379
        },
        "outputId": "0c5b9b09-3667-448b-f4a0-7df93ddb9619"
      },
      "source": [
        "sales_data %>%\n",
        "  group_by(Rating) %>%\n",
        "  summarise(Count = n(),Perc=round(n()/nrow(.)*100,2)) %>%\n",
        "  arrange(desc(Count))"
      ],
      "execution_count": 11,
      "outputs": [
        {
          "output_type": "display_data",
          "data": {
            "text/plain": [
              "  Rating Count Perc \n",
              "1        6089  41.83\n",
              "2 E      3435  23.60\n",
              "3 T      2385  16.38\n",
              "4 M      1340   9.20\n",
              "5 E10+   1295   8.90\n",
              "6 EC        7   0.05\n",
              "7 K-A       3   0.02\n",
              "8 RP        3   0.02\n",
              "9 AO        1   0.01"
            ],
            "text/latex": "A tibble: 9 × 3\n\\begin{tabular}{lll}\n Rating & Count & Perc\\\\\n <fct> & <int> & <dbl>\\\\\n\\hline\n\t      & 6089 & 41.83\\\\\n\t E    & 3435 & 23.60\\\\\n\t T    & 2385 & 16.38\\\\\n\t M    & 1340 &  9.20\\\\\n\t E10+ & 1295 &  8.90\\\\\n\t EC   &    7 &  0.05\\\\\n\t K-A  &    3 &  0.02\\\\\n\t RP   &    3 &  0.02\\\\\n\t AO   &    1 &  0.01\\\\\n\\end{tabular}\n",
            "text/markdown": "\nA tibble: 9 × 3\n\n| Rating &lt;fct&gt; | Count &lt;int&gt; | Perc &lt;dbl&gt; |\n|---|---|---|\n| <!----> | 6089 | 41.83 |\n| E    | 3435 | 23.60 |\n| T    | 2385 | 16.38 |\n| M    | 1340 |  9.20 |\n| E10+ | 1295 |  8.90 |\n| EC   |    7 |  0.05 |\n| K-A  |    3 |  0.02 |\n| RP   |    3 |  0.02 |\n| AO   |    1 |  0.01 |\n\n",
            "text/html": [
              "<table class=\"dataframe\">\n",
              "<caption>A tibble: 9 × 3</caption>\n",
              "<thead>\n",
              "\t<tr><th scope=col>Rating</th><th scope=col>Count</th><th scope=col>Perc</th></tr>\n",
              "\t<tr><th scope=col>&lt;fct&gt;</th><th scope=col>&lt;int&gt;</th><th scope=col>&lt;dbl&gt;</th></tr>\n",
              "</thead>\n",
              "<tbody>\n",
              "\t<tr><td>    </td><td>6089</td><td>41.83</td></tr>\n",
              "\t<tr><td>E   </td><td>3435</td><td>23.60</td></tr>\n",
              "\t<tr><td>T   </td><td>2385</td><td>16.38</td></tr>\n",
              "\t<tr><td>M   </td><td>1340</td><td> 9.20</td></tr>\n",
              "\t<tr><td>E10+</td><td>1295</td><td> 8.90</td></tr>\n",
              "\t<tr><td>EC  </td><td>   7</td><td> 0.05</td></tr>\n",
              "\t<tr><td>K-A </td><td>   3</td><td> 0.02</td></tr>\n",
              "\t<tr><td>RP  </td><td>   3</td><td> 0.02</td></tr>\n",
              "\t<tr><td>AO  </td><td>   1</td><td> 0.01</td></tr>\n",
              "</tbody>\n",
              "</table>\n"
            ]
          },
          "metadata": {}
        }
      ]
    },
    {
      "cell_type": "code",
      "metadata": {
        "colab": {
          "base_uri": "https://localhost:8080/",
          "height": 129
        },
        "id": "xxfR6es98UM7",
        "outputId": "888bfe51-d58a-4118-ed3a-ef01bbc08543"
      },
      "source": [
        "sales_data %>%\n",
        "  summarise(is_NULL=sum(is.na(NA_players)==1),\n",
        "            is_NOT_NULL=sum(!is.na(NA_players)==1)\n",
        "            )"
      ],
      "execution_count": 12,
      "outputs": [
        {
          "output_type": "display_data",
          "data": {
            "text/plain": [
              "  is_NULL is_NOT_NULL\n",
              "1 0       14558      "
            ],
            "text/latex": "A data.frame: 1 × 2\n\\begin{tabular}{ll}\n is\\_NULL & is\\_NOT\\_NULL\\\\\n <int> & <int>\\\\\n\\hline\n\t 0 & 14558\\\\\n\\end{tabular}\n",
            "text/markdown": "\nA data.frame: 1 × 2\n\n| is_NULL &lt;int&gt; | is_NOT_NULL &lt;int&gt; |\n|---|---|\n| 0 | 14558 |\n\n",
            "text/html": [
              "<table class=\"dataframe\">\n",
              "<caption>A data.frame: 1 × 2</caption>\n",
              "<thead>\n",
              "\t<tr><th scope=col>is_NULL</th><th scope=col>is_NOT_NULL</th></tr>\n",
              "\t<tr><th scope=col>&lt;int&gt;</th><th scope=col>&lt;int&gt;</th></tr>\n",
              "</thead>\n",
              "<tbody>\n",
              "\t<tr><td>0</td><td>14558</td></tr>\n",
              "</tbody>\n",
              "</table>\n"
            ]
          },
          "metadata": {}
        }
      ]
    },
    {
      "cell_type": "code",
      "metadata": {
        "colab": {
          "base_uri": "https://localhost:8080/",
          "height": 129
        },
        "id": "b4MGXQBb8ooV",
        "outputId": "49ab48be-bee9-4ee0-8a04-f9055568e47c"
      },
      "source": [
        "sales_data%>%\n",
        "  filter(!is.na(NA_players))%>%\n",
        "  summarise(\n",
        "    Max=max(NA_players),\n",
        "    Min=min(NA_players),\n",
        "    Mean=mean(NA_players),\n",
        "    Median=median(NA_players),\n",
        "    QUA1=quantile(NA_players,1/4),\n",
        "    QUA3=quantile(NA_players,3/4),\n",
        "    IQR=IQR(NA_players)\n",
        ")"
      ],
      "execution_count": 13,
      "outputs": [
        {
          "output_type": "display_data",
          "data": {
            "text/plain": [
              "  Max   Min Mean      Median QUA1 QUA3 IQR \n",
              "1 41.36 0   0.2623149 0.08   0    0.23 0.23"
            ],
            "text/latex": "A data.frame: 1 × 7\n\\begin{tabular}{lllllll}\n Max & Min & Mean & Median & QUA1 & QUA3 & IQR\\\\\n <dbl> & <dbl> & <dbl> & <dbl> & <dbl> & <dbl> & <dbl>\\\\\n\\hline\n\t 41.36 & 0 & 0.2623149 & 0.08 & 0 & 0.23 & 0.23\\\\\n\\end{tabular}\n",
            "text/markdown": "\nA data.frame: 1 × 7\n\n| Max &lt;dbl&gt; | Min &lt;dbl&gt; | Mean &lt;dbl&gt; | Median &lt;dbl&gt; | QUA1 &lt;dbl&gt; | QUA3 &lt;dbl&gt; | IQR &lt;dbl&gt; |\n|---|---|---|---|---|---|---|\n| 41.36 | 0 | 0.2623149 | 0.08 | 0 | 0.23 | 0.23 |\n\n",
            "text/html": [
              "<table class=\"dataframe\">\n",
              "<caption>A data.frame: 1 × 7</caption>\n",
              "<thead>\n",
              "\t<tr><th scope=col>Max</th><th scope=col>Min</th><th scope=col>Mean</th><th scope=col>Median</th><th scope=col>QUA1</th><th scope=col>QUA3</th><th scope=col>IQR</th></tr>\n",
              "\t<tr><th scope=col>&lt;dbl&gt;</th><th scope=col>&lt;dbl&gt;</th><th scope=col>&lt;dbl&gt;</th><th scope=col>&lt;dbl&gt;</th><th scope=col>&lt;dbl&gt;</th><th scope=col>&lt;dbl&gt;</th><th scope=col>&lt;dbl&gt;</th></tr>\n",
              "</thead>\n",
              "<tbody>\n",
              "\t<tr><td>41.36</td><td>0</td><td>0.2623149</td><td>0.08</td><td>0</td><td>0.23</td><td>0.23</td></tr>\n",
              "</tbody>\n",
              "</table>\n"
            ]
          },
          "metadata": {}
        }
      ]
    },
    {
      "cell_type": "code",
      "metadata": {
        "colab": {
          "base_uri": "https://localhost:8080/",
          "height": 129
        },
        "id": "CJFg-3-29Nx9",
        "outputId": "679a7d93-7604-4214-c7a7-76fa3c66565c"
      },
      "source": [
        "sales_data %>%\n",
        "  summarise(is_NULL=sum(is.na(EU_players)==1),\n",
        "            is_NOT_NULL=sum(!is.na(EU_players)==1)\n",
        "            )"
      ],
      "execution_count": 14,
      "outputs": [
        {
          "output_type": "display_data",
          "data": {
            "text/plain": [
              "  is_NULL is_NOT_NULL\n",
              "1 0       14558      "
            ],
            "text/latex": "A data.frame: 1 × 2\n\\begin{tabular}{ll}\n is\\_NULL & is\\_NOT\\_NULL\\\\\n <int> & <int>\\\\\n\\hline\n\t 0 & 14558\\\\\n\\end{tabular}\n",
            "text/markdown": "\nA data.frame: 1 × 2\n\n| is_NULL &lt;int&gt; | is_NOT_NULL &lt;int&gt; |\n|---|---|\n| 0 | 14558 |\n\n",
            "text/html": [
              "<table class=\"dataframe\">\n",
              "<caption>A data.frame: 1 × 2</caption>\n",
              "<thead>\n",
              "\t<tr><th scope=col>is_NULL</th><th scope=col>is_NOT_NULL</th></tr>\n",
              "\t<tr><th scope=col>&lt;int&gt;</th><th scope=col>&lt;int&gt;</th></tr>\n",
              "</thead>\n",
              "<tbody>\n",
              "\t<tr><td>0</td><td>14558</td></tr>\n",
              "</tbody>\n",
              "</table>\n"
            ]
          },
          "metadata": {}
        }
      ]
    },
    {
      "cell_type": "code",
      "metadata": {
        "colab": {
          "base_uri": "https://localhost:8080/",
          "height": 129
        },
        "id": "BzfymdnI-ExY",
        "outputId": "6677d9ce-cf32-42be-a27c-ca0effed0289"
      },
      "source": [
        "sales_data%>%\n",
        "  filter(!is.na(EU_players))%>%\n",
        "  summarise(\n",
        "    Max=max(EU_players),\n",
        "    Min=min(EU_players),\n",
        "    Mean=mean(EU_players),\n",
        "    Median=median(EU_players),\n",
        "    QUA1=quantile(EU_players,1/4),\n",
        "    QUA3=quantile(EU_players,3/4),\n",
        "    IQR=IQR(EU_players)\n",
        ")"
      ],
      "execution_count": 15,
      "outputs": [
        {
          "output_type": "display_data",
          "data": {
            "text/plain": [
              "  Max   Min Mean      Median QUA1 QUA3 IQR\n",
              "1 28.96 0   0.1432463 0.02   0    0.1  0.1"
            ],
            "text/latex": "A data.frame: 1 × 7\n\\begin{tabular}{lllllll}\n Max & Min & Mean & Median & QUA1 & QUA3 & IQR\\\\\n <dbl> & <dbl> & <dbl> & <dbl> & <dbl> & <dbl> & <dbl>\\\\\n\\hline\n\t 28.96 & 0 & 0.1432463 & 0.02 & 0 & 0.1 & 0.1\\\\\n\\end{tabular}\n",
            "text/markdown": "\nA data.frame: 1 × 7\n\n| Max &lt;dbl&gt; | Min &lt;dbl&gt; | Mean &lt;dbl&gt; | Median &lt;dbl&gt; | QUA1 &lt;dbl&gt; | QUA3 &lt;dbl&gt; | IQR &lt;dbl&gt; |\n|---|---|---|---|---|---|---|\n| 28.96 | 0 | 0.1432463 | 0.02 | 0 | 0.1 | 0.1 |\n\n",
            "text/html": [
              "<table class=\"dataframe\">\n",
              "<caption>A data.frame: 1 × 7</caption>\n",
              "<thead>\n",
              "\t<tr><th scope=col>Max</th><th scope=col>Min</th><th scope=col>Mean</th><th scope=col>Median</th><th scope=col>QUA1</th><th scope=col>QUA3</th><th scope=col>IQR</th></tr>\n",
              "\t<tr><th scope=col>&lt;dbl&gt;</th><th scope=col>&lt;dbl&gt;</th><th scope=col>&lt;dbl&gt;</th><th scope=col>&lt;dbl&gt;</th><th scope=col>&lt;dbl&gt;</th><th scope=col>&lt;dbl&gt;</th><th scope=col>&lt;dbl&gt;</th></tr>\n",
              "</thead>\n",
              "<tbody>\n",
              "\t<tr><td>28.96</td><td>0</td><td>0.1432463</td><td>0.02</td><td>0</td><td>0.1</td><td>0.1</td></tr>\n",
              "</tbody>\n",
              "</table>\n"
            ]
          },
          "metadata": {}
        }
      ]
    },
    {
      "cell_type": "code",
      "metadata": {
        "colab": {
          "base_uri": "https://localhost:8080/",
          "height": 129
        },
        "id": "ER-w4vmj-bt4",
        "outputId": "aa24e571-8aee-41fe-a449-1ab7332ca7b2"
      },
      "source": [
        "sales_data %>%\n",
        "  summarise(is_NULL=sum(is.na(JP_players)==1),\n",
        "            is_NOT_NULL=sum(!is.na(JP_players)==1)\n",
        "            )"
      ],
      "execution_count": 16,
      "outputs": [
        {
          "output_type": "display_data",
          "data": {
            "text/plain": [
              "  is_NULL is_NOT_NULL\n",
              "1 0       14558      "
            ],
            "text/latex": "A data.frame: 1 × 2\n\\begin{tabular}{ll}\n is\\_NULL & is\\_NOT\\_NULL\\\\\n <int> & <int>\\\\\n\\hline\n\t 0 & 14558\\\\\n\\end{tabular}\n",
            "text/markdown": "\nA data.frame: 1 × 2\n\n| is_NULL &lt;int&gt; | is_NOT_NULL &lt;int&gt; |\n|---|---|\n| 0 | 14558 |\n\n",
            "text/html": [
              "<table class=\"dataframe\">\n",
              "<caption>A data.frame: 1 × 2</caption>\n",
              "<thead>\n",
              "\t<tr><th scope=col>is_NULL</th><th scope=col>is_NOT_NULL</th></tr>\n",
              "\t<tr><th scope=col>&lt;int&gt;</th><th scope=col>&lt;int&gt;</th></tr>\n",
              "</thead>\n",
              "<tbody>\n",
              "\t<tr><td>0</td><td>14558</td></tr>\n",
              "</tbody>\n",
              "</table>\n"
            ]
          },
          "metadata": {}
        }
      ]
    },
    {
      "cell_type": "code",
      "metadata": {
        "colab": {
          "base_uri": "https://localhost:8080/",
          "height": 129
        },
        "id": "uXMghuXb_LiO",
        "outputId": "61e7f50b-6360-4e59-8151-e902a921a66f"
      },
      "source": [
        "sales_data %>%\n",
        "  filter(!is.na(JP_players))%>%\n",
        "  summarise(\n",
        "    Max=max(JP_players),\n",
        "    Min=min(JP_players),\n",
        "    Mean=mean(JP_players),\n",
        "    Median=median(JP_players),\n",
        "    QUA1=quantile(JP_players,1/4),\n",
        "    QUA3=quantile(JP_players,3/4),\n",
        "    IQR=IQR(JP_players)\n",
        ")"
      ],
      "execution_count": 17,
      "outputs": [
        {
          "output_type": "display_data",
          "data": {
            "text/plain": [
              "  Max   Min Mean       Median QUA1 QUA3 IQR \n",
              "1 10.22 0   0.07955969 0      0    0.04 0.04"
            ],
            "text/latex": "A data.frame: 1 × 7\n\\begin{tabular}{lllllll}\n Max & Min & Mean & Median & QUA1 & QUA3 & IQR\\\\\n <dbl> & <dbl> & <dbl> & <dbl> & <dbl> & <dbl> & <dbl>\\\\\n\\hline\n\t 10.22 & 0 & 0.07955969 & 0 & 0 & 0.04 & 0.04\\\\\n\\end{tabular}\n",
            "text/markdown": "\nA data.frame: 1 × 7\n\n| Max &lt;dbl&gt; | Min &lt;dbl&gt; | Mean &lt;dbl&gt; | Median &lt;dbl&gt; | QUA1 &lt;dbl&gt; | QUA3 &lt;dbl&gt; | IQR &lt;dbl&gt; |\n|---|---|---|---|---|---|---|\n| 10.22 | 0 | 0.07955969 | 0 | 0 | 0.04 | 0.04 |\n\n",
            "text/html": [
              "<table class=\"dataframe\">\n",
              "<caption>A data.frame: 1 × 7</caption>\n",
              "<thead>\n",
              "\t<tr><th scope=col>Max</th><th scope=col>Min</th><th scope=col>Mean</th><th scope=col>Median</th><th scope=col>QUA1</th><th scope=col>QUA3</th><th scope=col>IQR</th></tr>\n",
              "\t<tr><th scope=col>&lt;dbl&gt;</th><th scope=col>&lt;dbl&gt;</th><th scope=col>&lt;dbl&gt;</th><th scope=col>&lt;dbl&gt;</th><th scope=col>&lt;dbl&gt;</th><th scope=col>&lt;dbl&gt;</th><th scope=col>&lt;dbl&gt;</th></tr>\n",
              "</thead>\n",
              "<tbody>\n",
              "\t<tr><td>10.22</td><td>0</td><td>0.07955969</td><td>0</td><td>0</td><td>0.04</td><td>0.04</td></tr>\n",
              "</tbody>\n",
              "</table>\n"
            ]
          },
          "metadata": {}
        }
      ]
    },
    {
      "cell_type": "code",
      "metadata": {
        "colab": {
          "base_uri": "https://localhost:8080/",
          "height": 129
        },
        "id": "quAJFBJR_Tlm",
        "outputId": "0cb13d46-a018-49e9-a7db-a904249551b3"
      },
      "source": [
        "sales_data %>%\n",
        "  summarise(is_NULL=sum(is.na(Other_players)==1),\n",
        "            is_NOT_NULL=sum(!is.na(Other_players)==1)\n",
        "            )"
      ],
      "execution_count": 18,
      "outputs": [
        {
          "output_type": "display_data",
          "data": {
            "text/plain": [
              "  is_NULL is_NOT_NULL\n",
              "1 0       14558      "
            ],
            "text/latex": "A data.frame: 1 × 2\n\\begin{tabular}{ll}\n is\\_NULL & is\\_NOT\\_NULL\\\\\n <int> & <int>\\\\\n\\hline\n\t 0 & 14558\\\\\n\\end{tabular}\n",
            "text/markdown": "\nA data.frame: 1 × 2\n\n| is_NULL &lt;int&gt; | is_NOT_NULL &lt;int&gt; |\n|---|---|\n| 0 | 14558 |\n\n",
            "text/html": [
              "<table class=\"dataframe\">\n",
              "<caption>A data.frame: 1 × 2</caption>\n",
              "<thead>\n",
              "\t<tr><th scope=col>is_NULL</th><th scope=col>is_NOT_NULL</th></tr>\n",
              "\t<tr><th scope=col>&lt;int&gt;</th><th scope=col>&lt;int&gt;</th></tr>\n",
              "</thead>\n",
              "<tbody>\n",
              "\t<tr><td>0</td><td>14558</td></tr>\n",
              "</tbody>\n",
              "</table>\n"
            ]
          },
          "metadata": {}
        }
      ]
    },
    {
      "cell_type": "code",
      "metadata": {
        "colab": {
          "base_uri": "https://localhost:8080/",
          "height": 129
        },
        "id": "6RPLQDhp_oQW",
        "outputId": "f8085899-bbb1-4a73-905c-7a8243125f76"
      },
      "source": [
        "sales_data %>%\n",
        "  filter(!is.na(Other_players))%>%\n",
        "  summarise(\n",
        "    Max=max(Other_players),\n",
        "    Min=min(Other_players),\n",
        "    Mean=mean(Other_players),\n",
        "    Median=median(Other_players),\n",
        "    QUA1=quantile(Other_players,1/4),\n",
        "    QUA3=quantile(Other_players,3/4),\n",
        "    IQR=IQR(Other_players)\n",
        ")"
      ],
      "execution_count": 19,
      "outputs": [
        {
          "output_type": "display_data",
          "data": {
            "text/plain": [
              "  Max  Min Mean      Median QUA1 QUA3 IQR \n",
              "1 8.45 0   0.0410702 0.01   0    0.03 0.03"
            ],
            "text/latex": "A data.frame: 1 × 7\n\\begin{tabular}{lllllll}\n Max & Min & Mean & Median & QUA1 & QUA3 & IQR\\\\\n <dbl> & <dbl> & <dbl> & <dbl> & <dbl> & <dbl> & <dbl>\\\\\n\\hline\n\t 8.45 & 0 & 0.0410702 & 0.01 & 0 & 0.03 & 0.03\\\\\n\\end{tabular}\n",
            "text/markdown": "\nA data.frame: 1 × 7\n\n| Max &lt;dbl&gt; | Min &lt;dbl&gt; | Mean &lt;dbl&gt; | Median &lt;dbl&gt; | QUA1 &lt;dbl&gt; | QUA3 &lt;dbl&gt; | IQR &lt;dbl&gt; |\n|---|---|---|---|---|---|---|\n| 8.45 | 0 | 0.0410702 | 0.01 | 0 | 0.03 | 0.03 |\n\n",
            "text/html": [
              "<table class=\"dataframe\">\n",
              "<caption>A data.frame: 1 × 7</caption>\n",
              "<thead>\n",
              "\t<tr><th scope=col>Max</th><th scope=col>Min</th><th scope=col>Mean</th><th scope=col>Median</th><th scope=col>QUA1</th><th scope=col>QUA3</th><th scope=col>IQR</th></tr>\n",
              "\t<tr><th scope=col>&lt;dbl&gt;</th><th scope=col>&lt;dbl&gt;</th><th scope=col>&lt;dbl&gt;</th><th scope=col>&lt;dbl&gt;</th><th scope=col>&lt;dbl&gt;</th><th scope=col>&lt;dbl&gt;</th><th scope=col>&lt;dbl&gt;</th></tr>\n",
              "</thead>\n",
              "<tbody>\n",
              "\t<tr><td>8.45</td><td>0</td><td>0.0410702</td><td>0.01</td><td>0</td><td>0.03</td><td>0.03</td></tr>\n",
              "</tbody>\n",
              "</table>\n"
            ]
          },
          "metadata": {}
        }
      ]
    },
    {
      "cell_type": "code",
      "metadata": {
        "colab": {
          "base_uri": "https://localhost:8080/",
          "height": 129
        },
        "id": "vDJFrp5x_uNF",
        "outputId": "be484673-f259-4c2a-ef64-36b8acc3e010"
      },
      "source": [
        "sales_data %>%\n",
        "  summarise(is_NULL=sum(is.na(Global_players)==1),\n",
        "            is_NOT_NULL=sum(!is.na(Global_players)==1)\n",
        "            )\n"
      ],
      "execution_count": 20,
      "outputs": [
        {
          "output_type": "display_data",
          "data": {
            "text/plain": [
              "  is_NULL is_NOT_NULL\n",
              "1 0       14558      "
            ],
            "text/latex": "A data.frame: 1 × 2\n\\begin{tabular}{ll}\n is\\_NULL & is\\_NOT\\_NULL\\\\\n <int> & <int>\\\\\n\\hline\n\t 0 & 14558\\\\\n\\end{tabular}\n",
            "text/markdown": "\nA data.frame: 1 × 2\n\n| is_NULL &lt;int&gt; | is_NOT_NULL &lt;int&gt; |\n|---|---|\n| 0 | 14558 |\n\n",
            "text/html": [
              "<table class=\"dataframe\">\n",
              "<caption>A data.frame: 1 × 2</caption>\n",
              "<thead>\n",
              "\t<tr><th scope=col>is_NULL</th><th scope=col>is_NOT_NULL</th></tr>\n",
              "\t<tr><th scope=col>&lt;int&gt;</th><th scope=col>&lt;int&gt;</th></tr>\n",
              "</thead>\n",
              "<tbody>\n",
              "\t<tr><td>0</td><td>14558</td></tr>\n",
              "</tbody>\n",
              "</table>\n"
            ]
          },
          "metadata": {}
        }
      ]
    },
    {
      "cell_type": "code",
      "metadata": {
        "colab": {
          "base_uri": "https://localhost:8080/",
          "height": 129
        },
        "id": "B-cNI5UoAbaO",
        "outputId": "9470b74d-cde4-49cf-a62d-18673180c520"
      },
      "source": [
        "sales_data%>%\n",
        "  filter(!is.na(Global_players))%>%\n",
        "  summarise(\n",
        "    Max=max(Global_players),\n",
        "    Min=min(Global_players),\n",
        "    Mean=mean(Global_players),\n",
        "    Median=median(Global_players),\n",
        "    QUA1=quantile(Global_players,1/4),\n",
        "    QUA3=quantile(Global_players,3/4),\n",
        "    IQR=IQR(Global_players)\n",
        ")\n"
      ],
      "execution_count": 21,
      "outputs": [
        {
          "output_type": "display_data",
          "data": {
            "text/plain": [
              "  Max   Min  Mean      Median QUA1 QUA3 IQR \n",
              "1 82.53 0.01 0.5264913 0.16   0.06 0.45 0.39"
            ],
            "text/latex": "A data.frame: 1 × 7\n\\begin{tabular}{lllllll}\n Max & Min & Mean & Median & QUA1 & QUA3 & IQR\\\\\n <dbl> & <dbl> & <dbl> & <dbl> & <dbl> & <dbl> & <dbl>\\\\\n\\hline\n\t 82.53 & 0.01 & 0.5264913 & 0.16 & 0.06 & 0.45 & 0.39\\\\\n\\end{tabular}\n",
            "text/markdown": "\nA data.frame: 1 × 7\n\n| Max &lt;dbl&gt; | Min &lt;dbl&gt; | Mean &lt;dbl&gt; | Median &lt;dbl&gt; | QUA1 &lt;dbl&gt; | QUA3 &lt;dbl&gt; | IQR &lt;dbl&gt; |\n|---|---|---|---|---|---|---|\n| 82.53 | 0.01 | 0.5264913 | 0.16 | 0.06 | 0.45 | 0.39 |\n\n",
            "text/html": [
              "<table class=\"dataframe\">\n",
              "<caption>A data.frame: 1 × 7</caption>\n",
              "<thead>\n",
              "\t<tr><th scope=col>Max</th><th scope=col>Min</th><th scope=col>Mean</th><th scope=col>Median</th><th scope=col>QUA1</th><th scope=col>QUA3</th><th scope=col>IQR</th></tr>\n",
              "\t<tr><th scope=col>&lt;dbl&gt;</th><th scope=col>&lt;dbl&gt;</th><th scope=col>&lt;dbl&gt;</th><th scope=col>&lt;dbl&gt;</th><th scope=col>&lt;dbl&gt;</th><th scope=col>&lt;dbl&gt;</th><th scope=col>&lt;dbl&gt;</th></tr>\n",
              "</thead>\n",
              "<tbody>\n",
              "\t<tr><td>82.53</td><td>0.01</td><td>0.5264913</td><td>0.16</td><td>0.06</td><td>0.45</td><td>0.39</td></tr>\n",
              "</tbody>\n",
              "</table>\n"
            ]
          },
          "metadata": {}
        }
      ]
    },
    {
      "cell_type": "code",
      "metadata": {
        "colab": {
          "base_uri": "https://localhost:8080/",
          "height": 129
        },
        "id": "fhx2vZy1AhvE",
        "outputId": "f0d0518c-58f5-42ec-a3e7-1232d9427dda"
      },
      "source": [
        "sales_data %>%\n",
        "  summarise(is_NULL=sum(is.na(Critic_Score)==1),\n",
        "            is_NOT_NULL=sum(!is.na(Critic_Score)==1)\n",
        "            )"
      ],
      "execution_count": 22,
      "outputs": [
        {
          "output_type": "display_data",
          "data": {
            "text/plain": [
              "  is_NULL is_NOT_NULL\n",
              "1 7719    6839       "
            ],
            "text/latex": "A data.frame: 1 × 2\n\\begin{tabular}{ll}\n is\\_NULL & is\\_NOT\\_NULL\\\\\n <int> & <int>\\\\\n\\hline\n\t 7719 & 6839\\\\\n\\end{tabular}\n",
            "text/markdown": "\nA data.frame: 1 × 2\n\n| is_NULL &lt;int&gt; | is_NOT_NULL &lt;int&gt; |\n|---|---|\n| 7719 | 6839 |\n\n",
            "text/html": [
              "<table class=\"dataframe\">\n",
              "<caption>A data.frame: 1 × 2</caption>\n",
              "<thead>\n",
              "\t<tr><th scope=col>is_NULL</th><th scope=col>is_NOT_NULL</th></tr>\n",
              "\t<tr><th scope=col>&lt;int&gt;</th><th scope=col>&lt;int&gt;</th></tr>\n",
              "</thead>\n",
              "<tbody>\n",
              "\t<tr><td>7719</td><td>6839</td></tr>\n",
              "</tbody>\n",
              "</table>\n"
            ]
          },
          "metadata": {}
        }
      ]
    },
    {
      "cell_type": "code",
      "metadata": {
        "colab": {
          "base_uri": "https://localhost:8080/",
          "height": 129
        },
        "id": "jRKcn697AuS8",
        "outputId": "985cca38-55fc-49e2-a2eb-5a95ec541eea"
      },
      "source": [
        "sales_data %>%\n",
        "  filter(!is.na(Critic_Score))%>%\n",
        "  summarise(\n",
        "    Max=max(Critic_Score),\n",
        "    Min=min(Critic_Score),\n",
        "    Mean=mean(Critic_Score),\n",
        "    Median=median(Critic_Score),\n",
        "    QUA1=quantile(Critic_Score,1/4),\n",
        "    QUA3=quantile(Critic_Score,3/4),\n",
        "    IQR=IQR(Critic_Score)\n",
        ")"
      ],
      "execution_count": 23,
      "outputs": [
        {
          "output_type": "display_data",
          "data": {
            "text/plain": [
              "  Max Min Mean     Median QUA1 QUA3 IQR\n",
              "1 98  13  69.01331 71     60   80   20 "
            ],
            "text/latex": "A data.frame: 1 × 7\n\\begin{tabular}{lllllll}\n Max & Min & Mean & Median & QUA1 & QUA3 & IQR\\\\\n <int> & <int> & <dbl> & <int> & <dbl> & <dbl> & <dbl>\\\\\n\\hline\n\t 98 & 13 & 69.01331 & 71 & 60 & 80 & 20\\\\\n\\end{tabular}\n",
            "text/markdown": "\nA data.frame: 1 × 7\n\n| Max &lt;int&gt; | Min &lt;int&gt; | Mean &lt;dbl&gt; | Median &lt;int&gt; | QUA1 &lt;dbl&gt; | QUA3 &lt;dbl&gt; | IQR &lt;dbl&gt; |\n|---|---|---|---|---|---|---|\n| 98 | 13 | 69.01331 | 71 | 60 | 80 | 20 |\n\n",
            "text/html": [
              "<table class=\"dataframe\">\n",
              "<caption>A data.frame: 1 × 7</caption>\n",
              "<thead>\n",
              "\t<tr><th scope=col>Max</th><th scope=col>Min</th><th scope=col>Mean</th><th scope=col>Median</th><th scope=col>QUA1</th><th scope=col>QUA3</th><th scope=col>IQR</th></tr>\n",
              "\t<tr><th scope=col>&lt;int&gt;</th><th scope=col>&lt;int&gt;</th><th scope=col>&lt;dbl&gt;</th><th scope=col>&lt;int&gt;</th><th scope=col>&lt;dbl&gt;</th><th scope=col>&lt;dbl&gt;</th><th scope=col>&lt;dbl&gt;</th></tr>\n",
              "</thead>\n",
              "<tbody>\n",
              "\t<tr><td>98</td><td>13</td><td>69.01331</td><td>71</td><td>60</td><td>80</td><td>20</td></tr>\n",
              "</tbody>\n",
              "</table>\n"
            ]
          },
          "metadata": {}
        }
      ]
    },
    {
      "cell_type": "code",
      "metadata": {
        "colab": {
          "base_uri": "https://localhost:8080/",
          "height": 129
        },
        "id": "16X4N7mnA2Fz",
        "outputId": "08fac264-33f9-4cbd-c6c3-fbd76bf36d74"
      },
      "source": [
        "sales_data %>%\n",
        "  summarise(is_NULL=sum(is.na(Critic_Count)==1),\n",
        "            is_NOT_NULL=sum(!is.na(Critic_Count)==1)\n",
        "            )"
      ],
      "execution_count": 24,
      "outputs": [
        {
          "output_type": "display_data",
          "data": {
            "text/plain": [
              "  is_NULL is_NOT_NULL\n",
              "1 7719    6839       "
            ],
            "text/latex": "A data.frame: 1 × 2\n\\begin{tabular}{ll}\n is\\_NULL & is\\_NOT\\_NULL\\\\\n <int> & <int>\\\\\n\\hline\n\t 7719 & 6839\\\\\n\\end{tabular}\n",
            "text/markdown": "\nA data.frame: 1 × 2\n\n| is_NULL &lt;int&gt; | is_NOT_NULL &lt;int&gt; |\n|---|---|\n| 7719 | 6839 |\n\n",
            "text/html": [
              "<table class=\"dataframe\">\n",
              "<caption>A data.frame: 1 × 2</caption>\n",
              "<thead>\n",
              "\t<tr><th scope=col>is_NULL</th><th scope=col>is_NOT_NULL</th></tr>\n",
              "\t<tr><th scope=col>&lt;int&gt;</th><th scope=col>&lt;int&gt;</th></tr>\n",
              "</thead>\n",
              "<tbody>\n",
              "\t<tr><td>7719</td><td>6839</td></tr>\n",
              "</tbody>\n",
              "</table>\n"
            ]
          },
          "metadata": {}
        }
      ]
    },
    {
      "cell_type": "code",
      "metadata": {
        "colab": {
          "base_uri": "https://localhost:8080/",
          "height": 129
        },
        "id": "59F4DRQRBECk",
        "outputId": "84ea02f6-ff20-40c6-91e9-190432f0cfa2"
      },
      "source": [
        "sales_data %>%\n",
        "  filter(!is.na(Critic_Count))%>%\n",
        "  summarise(\n",
        "    Max=max(Critic_Count),\n",
        "    Min=min(Critic_Count),\n",
        "    Mean=mean(Critic_Count),\n",
        "    Median=median(Critic_Count),\n",
        "    QUA1=quantile(Critic_Count,1/4),\n",
        "    QUA3=quantile(Critic_Count,3/4),\n",
        "    IQR=IQR(Critic_Count)\n",
        ")"
      ],
      "execution_count": 25,
      "outputs": [
        {
          "output_type": "display_data",
          "data": {
            "text/plain": [
              "  Max Min Mean     Median QUA1 QUA3 IQR\n",
              "1 113 3   26.89867 22     11   38   27 "
            ],
            "text/latex": "A data.frame: 1 × 7\n\\begin{tabular}{lllllll}\n Max & Min & Mean & Median & QUA1 & QUA3 & IQR\\\\\n <int> & <int> & <dbl> & <int> & <dbl> & <dbl> & <dbl>\\\\\n\\hline\n\t 113 & 3 & 26.89867 & 22 & 11 & 38 & 27\\\\\n\\end{tabular}\n",
            "text/markdown": "\nA data.frame: 1 × 7\n\n| Max &lt;int&gt; | Min &lt;int&gt; | Mean &lt;dbl&gt; | Median &lt;int&gt; | QUA1 &lt;dbl&gt; | QUA3 &lt;dbl&gt; | IQR &lt;dbl&gt; |\n|---|---|---|---|---|---|---|\n| 113 | 3 | 26.89867 | 22 | 11 | 38 | 27 |\n\n",
            "text/html": [
              "<table class=\"dataframe\">\n",
              "<caption>A data.frame: 1 × 7</caption>\n",
              "<thead>\n",
              "\t<tr><th scope=col>Max</th><th scope=col>Min</th><th scope=col>Mean</th><th scope=col>Median</th><th scope=col>QUA1</th><th scope=col>QUA3</th><th scope=col>IQR</th></tr>\n",
              "\t<tr><th scope=col>&lt;int&gt;</th><th scope=col>&lt;int&gt;</th><th scope=col>&lt;dbl&gt;</th><th scope=col>&lt;int&gt;</th><th scope=col>&lt;dbl&gt;</th><th scope=col>&lt;dbl&gt;</th><th scope=col>&lt;dbl&gt;</th></tr>\n",
              "</thead>\n",
              "<tbody>\n",
              "\t<tr><td>113</td><td>3</td><td>26.89867</td><td>22</td><td>11</td><td>38</td><td>27</td></tr>\n",
              "</tbody>\n",
              "</table>\n"
            ]
          },
          "metadata": {}
        }
      ]
    },
    {
      "cell_type": "code",
      "metadata": {
        "colab": {
          "base_uri": "https://localhost:8080/",
          "height": 129
        },
        "id": "izdserkdBHc7",
        "outputId": "2374159d-2d7a-4460-d5cc-a00d48cd1f89"
      },
      "source": [
        "sales_data %>%\n",
        "  summarise(is_NULL=sum(is.na(User_Score)==1),\n",
        "            is_NOT_NULL=sum(!is.na(User_Score)==1),\n",
        "            is_tbd=sum(User_Score==\"tbd\")\n",
        "            )"
      ],
      "execution_count": 26,
      "outputs": [
        {
          "output_type": "display_data",
          "data": {
            "text/plain": [
              "  is_NULL is_NOT_NULL is_tbd\n",
              "1 0       14558       2185  "
            ],
            "text/latex": "A data.frame: 1 × 3\n\\begin{tabular}{lll}\n is\\_NULL & is\\_NOT\\_NULL & is\\_tbd\\\\\n <int> & <int> & <int>\\\\\n\\hline\n\t 0 & 14558 & 2185\\\\\n\\end{tabular}\n",
            "text/markdown": "\nA data.frame: 1 × 3\n\n| is_NULL &lt;int&gt; | is_NOT_NULL &lt;int&gt; | is_tbd &lt;int&gt; |\n|---|---|---|\n| 0 | 14558 | 2185 |\n\n",
            "text/html": [
              "<table class=\"dataframe\">\n",
              "<caption>A data.frame: 1 × 3</caption>\n",
              "<thead>\n",
              "\t<tr><th scope=col>is_NULL</th><th scope=col>is_NOT_NULL</th><th scope=col>is_tbd</th></tr>\n",
              "\t<tr><th scope=col>&lt;int&gt;</th><th scope=col>&lt;int&gt;</th><th scope=col>&lt;int&gt;</th></tr>\n",
              "</thead>\n",
              "<tbody>\n",
              "\t<tr><td>0</td><td>14558</td><td>2185</td></tr>\n",
              "</tbody>\n",
              "</table>\n"
            ]
          },
          "metadata": {}
        }
      ]
    },
    {
      "cell_type": "code",
      "metadata": {
        "colab": {
          "base_uri": "https://localhost:8080/",
          "height": 164
        },
        "id": "it1HLDMNBK4-",
        "outputId": "c3f32aef-92f9-4671-d385-fd0428591506"
      },
      "source": [
        "sales_data %>%\n",
        "  mutate(User_Score = as.numeric(User_Score)) %>%\n",
        "  filter(!is.na(User_Score) & User_Score!=\"tbd\") %>%\n",
        "  summarise(\n",
        "    Max=max(User_Score),\n",
        "    Min=min(User_Score),\n",
        "    Mean=mean(User_Score),\n",
        "    Median=median(User_Score),\n",
        "    QUA1=quantile(User_Score,1/4),\n",
        "    QUA3=quantile(User_Score,3/4),\n",
        "    IQR=IQR(User_Score)\n",
        "  )"
      ],
      "execution_count": 27,
      "outputs": [
        {
          "output_type": "stream",
          "name": "stderr",
          "text": [
            "Warning message in mask$eval_all_mutate(quo):\n",
            "“NAs introduced by coercion”\n"
          ]
        },
        {
          "output_type": "display_data",
          "data": {
            "text/plain": [
              "  Max Min Mean     Median QUA1 QUA3 IQR\n",
              "1 9.7 0   7.026965 7.4    6.3  8.1  1.8"
            ],
            "text/latex": "A data.frame: 1 × 7\n\\begin{tabular}{lllllll}\n Max & Min & Mean & Median & QUA1 & QUA3 & IQR\\\\\n <dbl> & <dbl> & <dbl> & <dbl> & <dbl> & <dbl> & <dbl>\\\\\n\\hline\n\t 9.7 & 0 & 7.026965 & 7.4 & 6.3 & 8.1 & 1.8\\\\\n\\end{tabular}\n",
            "text/markdown": "\nA data.frame: 1 × 7\n\n| Max &lt;dbl&gt; | Min &lt;dbl&gt; | Mean &lt;dbl&gt; | Median &lt;dbl&gt; | QUA1 &lt;dbl&gt; | QUA3 &lt;dbl&gt; | IQR &lt;dbl&gt; |\n|---|---|---|---|---|---|---|\n| 9.7 | 0 | 7.026965 | 7.4 | 6.3 | 8.1 | 1.8 |\n\n",
            "text/html": [
              "<table class=\"dataframe\">\n",
              "<caption>A data.frame: 1 × 7</caption>\n",
              "<thead>\n",
              "\t<tr><th scope=col>Max</th><th scope=col>Min</th><th scope=col>Mean</th><th scope=col>Median</th><th scope=col>QUA1</th><th scope=col>QUA3</th><th scope=col>IQR</th></tr>\n",
              "\t<tr><th scope=col>&lt;dbl&gt;</th><th scope=col>&lt;dbl&gt;</th><th scope=col>&lt;dbl&gt;</th><th scope=col>&lt;dbl&gt;</th><th scope=col>&lt;dbl&gt;</th><th scope=col>&lt;dbl&gt;</th><th scope=col>&lt;dbl&gt;</th></tr>\n",
              "</thead>\n",
              "<tbody>\n",
              "\t<tr><td>9.7</td><td>0</td><td>7.026965</td><td>7.4</td><td>6.3</td><td>8.1</td><td>1.8</td></tr>\n",
              "</tbody>\n",
              "</table>\n"
            ]
          },
          "metadata": {}
        }
      ]
    },
    {
      "cell_type": "code",
      "metadata": {
        "colab": {
          "base_uri": "https://localhost:8080/",
          "height": 129
        },
        "id": "GKYOgqV6BPZG",
        "outputId": "09470026-fab0-4e66-ba26-843b8a634ff7"
      },
      "source": [
        "sales_data %>%\n",
        "  summarise(is_NULL=sum(is.na(User_Count)==1),\n",
        "            is_NOT_NULL=sum(!is.na(User_Count)==1)\n",
        "            )"
      ],
      "execution_count": 28,
      "outputs": [
        {
          "output_type": "display_data",
          "data": {
            "text/plain": [
              "  is_NULL is_NOT_NULL\n",
              "1 8209    6349       "
            ],
            "text/latex": "A data.frame: 1 × 2\n\\begin{tabular}{ll}\n is\\_NULL & is\\_NOT\\_NULL\\\\\n <int> & <int>\\\\\n\\hline\n\t 8209 & 6349\\\\\n\\end{tabular}\n",
            "text/markdown": "\nA data.frame: 1 × 2\n\n| is_NULL &lt;int&gt; | is_NOT_NULL &lt;int&gt; |\n|---|---|\n| 8209 | 6349 |\n\n",
            "text/html": [
              "<table class=\"dataframe\">\n",
              "<caption>A data.frame: 1 × 2</caption>\n",
              "<thead>\n",
              "\t<tr><th scope=col>is_NULL</th><th scope=col>is_NOT_NULL</th></tr>\n",
              "\t<tr><th scope=col>&lt;int&gt;</th><th scope=col>&lt;int&gt;</th></tr>\n",
              "</thead>\n",
              "<tbody>\n",
              "\t<tr><td>8209</td><td>6349</td></tr>\n",
              "</tbody>\n",
              "</table>\n"
            ]
          },
          "metadata": {}
        }
      ]
    },
    {
      "cell_type": "code",
      "metadata": {
        "colab": {
          "base_uri": "https://localhost:8080/",
          "height": 129
        },
        "id": "SvgYE7v4BYox",
        "outputId": "cff4291c-af82-419f-e987-e4a20e5cbe3d"
      },
      "source": [
        "sales_data %>%\n",
        "  filter(!is.na(User_Count))%>%\n",
        "  summarise(\n",
        "    Max=max(User_Count),\n",
        "    Min=min(User_Count),\n",
        "    Mean=mean(User_Count),\n",
        "    Median=median(User_Count),\n",
        "    QUA1=quantile(User_Count,1/4),\n",
        "    QUA3=quantile(User_Count,3/4),\n",
        "    IQR=IQR(User_Count)\n",
        ")"
      ],
      "execution_count": 29,
      "outputs": [
        {
          "output_type": "display_data",
          "data": {
            "text/plain": [
              "  Max   Min Mean     Median QUA1 QUA3 IQR\n",
              "1 10665 4   185.4054 27     10   97   87 "
            ],
            "text/latex": "A data.frame: 1 × 7\n\\begin{tabular}{lllllll}\n Max & Min & Mean & Median & QUA1 & QUA3 & IQR\\\\\n <int> & <int> & <dbl> & <int> & <dbl> & <dbl> & <dbl>\\\\\n\\hline\n\t 10665 & 4 & 185.4054 & 27 & 10 & 97 & 87\\\\\n\\end{tabular}\n",
            "text/markdown": "\nA data.frame: 1 × 7\n\n| Max &lt;int&gt; | Min &lt;int&gt; | Mean &lt;dbl&gt; | Median &lt;int&gt; | QUA1 &lt;dbl&gt; | QUA3 &lt;dbl&gt; | IQR &lt;dbl&gt; |\n|---|---|---|---|---|---|---|\n| 10665 | 4 | 185.4054 | 27 | 10 | 97 | 87 |\n\n",
            "text/html": [
              "<table class=\"dataframe\">\n",
              "<caption>A data.frame: 1 × 7</caption>\n",
              "<thead>\n",
              "\t<tr><th scope=col>Max</th><th scope=col>Min</th><th scope=col>Mean</th><th scope=col>Median</th><th scope=col>QUA1</th><th scope=col>QUA3</th><th scope=col>IQR</th></tr>\n",
              "\t<tr><th scope=col>&lt;int&gt;</th><th scope=col>&lt;int&gt;</th><th scope=col>&lt;dbl&gt;</th><th scope=col>&lt;int&gt;</th><th scope=col>&lt;dbl&gt;</th><th scope=col>&lt;dbl&gt;</th><th scope=col>&lt;dbl&gt;</th></tr>\n",
              "</thead>\n",
              "<tbody>\n",
              "\t<tr><td>10665</td><td>4</td><td>185.4054</td><td>27</td><td>10</td><td>97</td><td>87</td></tr>\n",
              "</tbody>\n",
              "</table>\n"
            ]
          },
          "metadata": {}
        }
      ]
    },
    {
      "cell_type": "code",
      "metadata": {
        "colab": {
          "base_uri": "https://localhost:8080/",
          "height": 708
        },
        "id": "kdVTjsx_BeRr",
        "outputId": "56c45436-cf08-4257-b710-9a4d1f12ecd1"
      },
      "source": [
        "summary(sales_data)\n"
      ],
      "execution_count": 30,
      "outputs": [
        {
          "output_type": "display_data",
          "data": {
            "text/plain": [
              "       X             Name              Platform    Year_of_Release\n",
              " Min.   :    1   Length:14558       DS     :2152   Min.   :1980   \n",
              " 1st Qu.: 4320   Class :character   PS3    :1331   1st Qu.:2003   \n",
              " Median : 8606   Mode  :character   Wii    :1320   Median :2008   \n",
              " Mean   : 8490                      X360   :1262   Mean   :2007   \n",
              " 3rd Qu.:12670                      PSP    :1209   3rd Qu.:2011   \n",
              " Max.   :16719                      PS     :1197   Max.   :2020   \n",
              "                                    (Other):6087   NA's   :235    \n",
              "          Genre                             Publisher      NA_players     \n",
              " Action      :3022   Electronic Arts             :1157   Min.   : 0.0000  \n",
              " Sports      :1948   Activision                  : 882   1st Qu.: 0.0000  \n",
              " Misc        :1528   Ubisoft                     : 863   Median : 0.0800  \n",
              " Role-Playing:1313   Namco Bandai Games          : 832   Mean   : 0.2623  \n",
              " Shooter     :1163   Nintendo                    : 706   3rd Qu.: 0.2300  \n",
              " Adventure   :1107   Konami Digital Entertainment: 671   Max.   :41.3600  \n",
              " (Other)     :4477   (Other)                     :9447                    \n",
              "   EU_players        JP_players       Other_players     Global_players   \n",
              " Min.   : 0.0000   Min.   : 0.00000   Min.   :0.00000   Min.   : 0.0100  \n",
              " 1st Qu.: 0.0000   1st Qu.: 0.00000   1st Qu.:0.00000   1st Qu.: 0.0600  \n",
              " Median : 0.0200   Median : 0.00000   Median :0.01000   Median : 0.1600  \n",
              " Mean   : 0.1432   Mean   : 0.07956   Mean   :0.04107   Mean   : 0.5265  \n",
              " 3rd Qu.: 0.1000   3rd Qu.: 0.04000   3rd Qu.:0.03000   3rd Qu.: 0.4500  \n",
              " Max.   :28.9600   Max.   :10.22000   Max.   :8.45000   Max.   :82.5300  \n",
              "                                                                         \n",
              "  Critic_Score    Critic_Count    User_Score          User_Count     \n",
              " Min.   :13.00   Min.   :  3.0   Length:14558       Min.   :    4.0  \n",
              " 1st Qu.:60.00   1st Qu.: 11.0   Class :character   1st Qu.:   10.0  \n",
              " Median :71.00   Median : 22.0   Mode  :character   Median :   27.0  \n",
              " Mean   :69.01   Mean   : 26.9                      Mean   :  185.4  \n",
              " 3rd Qu.:80.00   3rd Qu.: 38.0                      3rd Qu.:   97.0  \n",
              " Max.   :98.00   Max.   :113.0                      Max.   :10665.0  \n",
              " NA's   :7719    NA's   :7719                       NA's   :8209     \n",
              "     Developer        Rating    \n",
              "          :5943          :6089  \n",
              " Ubisoft  : 188   E      :3435  \n",
              " EA Canada: 136   T      :2385  \n",
              " EA Sports: 133   M      :1340  \n",
              " Konami   : 127   E10+   :1295  \n",
              " Capcom   : 107   EC     :   7  \n",
              " (Other)  :7924   (Other):   7  "
            ]
          },
          "metadata": {}
        }
      ]
    },
    {
      "cell_type": "code",
      "metadata": {
        "colab": {
          "base_uri": "https://localhost:8080/",
          "height": 437
        },
        "id": "yIHlLY-rBjTi",
        "outputId": "658cc071-263c-4c69-a568-478b237d34e4"
      },
      "source": [
        "outlier_global_players <- qplot(y = Global_players, ylab = \"Outliers Global Sales\", data = sales_data, geom = \"boxplot\", fill=I(\"tomato\")) + theme_minimal() + theme(axis.text.x = element_text(angle = 90))\n",
        "\n",
        "outlier_global_players"
      ],
      "execution_count": 31,
      "outputs": [
        {
          "output_type": "display_data",
          "data": {
            "image/png": "[encoded data removed]",
            "text/plain": [
              "plot without title"
            ]
          },
          "metadata": {
            "image/png": {
              "width": 420,
              "height": 420
            }
          }
        }
      ]
    },
    {
      "cell_type": "code",
      "metadata": {
        "id": "LWHJc_BXCQYU"
      },
      "source": [
        "sales_data = subset(sales_data, select = -c(NA_players,EU_players,JP_players,Other_players))\n"
      ],
      "execution_count": 32,
      "outputs": []
    },
    {
      "cell_type": "code",
      "metadata": {
        "id": "C354HjNUCtyT"
      },
      "source": [
        "sales_data <- subset(sales_data, sales_data$Platform != \"PCFX\")\n",
        "sales_data <- subset(sales_data, sales_data$Platform != \"GG\")\n"
      ],
      "execution_count": 33,
      "outputs": []
    },
    {
      "cell_type": "code",
      "metadata": {
        "id": "SMhFau-ZD9fh"
      },
      "source": [
        "sales_data$Year_of_Release <- 2021 \n",
        "names(sales_data)[3] <- \"Age\""
      ],
      "execution_count": 34,
      "outputs": []
    },
    {
      "cell_type": "code",
      "metadata": {
        "id": "i1C4Kp7eEOia"
      },
      "source": [
        "sales_data <- subset(sales_data, sales_data$Name != \"\" | sales_data$Genre != \"\")\n"
      ],
      "execution_count": 35,
      "outputs": []
    },
    {
      "cell_type": "code",
      "metadata": {
        "id": "4z1yX4CaEvCU"
      },
      "source": [
        "is.na(sales_data) <- sales_data == ''\n"
      ],
      "execution_count": 36,
      "outputs": []
    },
    {
      "cell_type": "code",
      "metadata": {
        "id": "TCR0b4XrE7Sc"
      },
      "source": [
        "sales_data$User_Score <- as.character(sales_data$User_Score)\n",
        "sales_data$User_Score[sales_data$User_Score == \"tbd\"] <- \"\""
      ],
      "execution_count": 37,
      "outputs": []
    },
    {
      "cell_type": "code",
      "metadata": {
        "id": "GxrbljieFDH7"
      },
      "source": [
        "sales_data$User_Score=as.double(sales_data$User_Score)\n",
        "\n",
        "df_imputation <- data.frame(sales_data$Age, sales_data$Rating, sales_data$Critic_Score, sales_data$Critic_Count, sales_data$User_Score, sales_data$User_Count)\n",
        "names(df_imputation) <- c(\"Age_imp\",\"Rating_imp\", \"Critic_Score_imp\", \"Critic_Count_imp\", \"User_Score_imp\", \"User_Count_imp\")\n",
        "\n",
        "df_imputation$Rating_imp = factor(df_imputation$Rating_imp, \n",
        "                       levels = c('AO', 'E', 'E10+', 'EC', 'K-A', 'M', 'RP', 'T'), labels = c(1, 2, 3, 4, 5, 6, 7, 8))"
      ],
      "execution_count": 38,
      "outputs": []
    },
    {
      "cell_type": "code",
      "metadata": {
        "colab": {
          "base_uri": "https://localhost:8080/",
          "height": 96
        },
        "id": "xKb-cCR9FGY0",
        "outputId": "8dc6b4c2-feb2-4be8-d3c1-fc481b88bb67"
      },
      "source": [
        "md.pattern(df_imputation)\n",
        "df_imputation_imp <- mice(df_imputation, m=5, seed = 123)\n",
        "df_imputation <- complete(df_imputation_imp, 1)\n",
        "plot_missing(df_imputation)\n"
      ],
      "execution_count": 39,
      "outputs": [
        {
          "output_type": "error",
          "ename": "ERROR",
          "evalue": "ignored",
          "traceback": [
            "Error in md.pattern(df_imputation): could not find function \"md.pattern\"\nTraceback:\n"
          ]
        }
      ]
    },
    {
      "cell_type": "code",
      "metadata": {
        "id": "1Zt6vDMGGDKz"
      },
      "source": [
        "df_imputation$Rating_imp = factor(df_imputation$Rating_imp, \n",
        "                       levels = c(1, 2, 3, 4, 5, 6, 7, 8), labels = c('AO', 'E', 'E10+', 'EC', 'K-A', 'M', 'RP', 'T'))\n",
        "sales_data <- sales_data %>% mutate(ID = row_number())\n",
        "df_imputation <- df_imputation %>% mutate(ID = row_number())\n",
        "sales_data <- merge(sales_data,df_imputation,by=\"ID\")\n",
        "sales_data = subset(sales_data, select = -c(ID, Rating, Age, Critic_Score, Critic_Count, User_Score, User_Count))"
      ],
      "execution_count": 40,
      "outputs": []
    },
    {
      "cell_type": "code",
      "metadata": {
        "colab": {
          "base_uri": "https://localhost:8080/",
          "height": 437
        },
        "id": "ZMfn64omLU1b",
        "outputId": "0de267e1-c8c4-4179-93ed-42c450097bf0"
      },
      "source": [
        "publisher_data <- sales_data %>%\n",
        "  group_by(Publisher) %>%\n",
        "  summarise(count = n()) %>%\n",
        "  top_n(n = 10, wt = count)\n",
        "\n",
        "publisher_charts <- ggplot(publisher_data, aes(x = Publisher, y = count, fill=count)) + geom_col(fill=\"orange\")+\n",
        "  labs(title = \"Top 10 Publisher\", x=\"Publisher\",y=\"Total\") + coord_flip()\n",
        "publisher_charts\n"
      ],
      "execution_count": 41,
      "outputs": [
        {
          "output_type": "display_data",
          "data": {
            "image/png": "[encoded data removed]",
            "text/plain": [
              "plot without title"
            ]
          },
          "metadata": {
            "image/png": {
              "width": 420,
              "height": 420
            }
          }
        }
      ]
    },
    {
      "cell_type": "code",
      "metadata": {
        "colab": {
          "base_uri": "https://localhost:8080/",
          "height": 96
        },
        "id": "X1fEkz9kLg3C",
        "outputId": "c5ac8e3d-3510-42c3-e61e-5b01ee3c7082"
      },
      "source": [
        "md.pattern(df_imputation)\n",
        "df_imputation_imp <- mice(df_imputation, m=5, seed = 123)\n",
        "df_imputation <- complete(df_imputation_imp, 1)\n",
        "plot_missing(df_imputation)"
      ],
      "execution_count": 42,
      "outputs": [
        {
          "output_type": "error",
          "ename": "ERROR",
          "evalue": "ignored",
          "traceback": [
            "Error in md.pattern(df_imputation): could not find function \"md.pattern\"\nTraceback:\n"
          ]
        }
      ]
    },
    {
      "cell_type": "code",
      "metadata": {
        "colab": {
          "base_uri": "https://localhost:8080/",
          "height": 437
        },
        "id": "eYQT9A6XL6Xw",
        "outputId": "39f25397-b852-4b00-e771-c657a68fc7d1"
      },
      "source": [
        "genre_data <- sales_data %>%\n",
        "  group_by(Genre) %>%\n",
        "  summarise(count = n()) %>%\n",
        "  top_n(n = 5, wt = count)\n",
        "\n",
        "genre_charts <- ggplot(genre_data, aes(x = Genre, y = count, fill=count)) + geom_col(fill=\"red\")+\n",
        "  labs(title = \"Top 5 Genres\", x=\"Genre\",y=\"Total\")\n",
        "genre_charts"
      ],
      "execution_count": 43,
      "outputs": [
        {
          "output_type": "display_data",
          "data": {
            "image/png": "[encoded data removed]",
            "text/plain": [
              "plot without title"
            ]
          },
          "metadata": {
            "image/png": {
              "width": 420,
              "height": 420
            }
          }
        }
      ]
    },
    {
      "cell_type": "code",
      "metadata": {
        "colab": {
          "base_uri": "https://localhost:8080/",
          "height": 437
        },
        "id": "R3761Us1MELl",
        "outputId": "5339188c-a2af-4cae-ccae-e1011295d478"
      },
      "source": [
        "qplot(x = Genre, data = sales_data) + geom_bar(fill = \"purple\") + coord_flip()  + facet_wrap(~Rating_imp, nrow = 2)"
      ],
      "execution_count": 44,
      "outputs": [
        {
          "output_type": "display_data",
          "data": {
            "image/png": "[encoded data removed]",
            "text/plain": [
              "plot without title"
            ]
          },
          "metadata": {
            "image/png": {
              "width": 420,
              "height": 420
            }
          }
        }
      ]
    },
    {
      "cell_type": "code",
      "metadata": {
        "colab": {
          "base_uri": "https://localhost:8080/",
          "height": 1000
        },
        "id": "gHBrogUaMI8N",
        "outputId": "b65bc563-ecc7-4e6b-c3fe-8fd226ca81b3"
      },
      "source": [
        "sales_data"
      ],
      "execution_count": 103,
      "outputs": [
        {
          "output_type": "display_data",
          "data": {
            "text/plain": [
              "      ID    X     Name                                                       \n",
              "1      1     1    Wii Sports                                                 \n",
              "2      2     2    Super Mario Bros.                                          \n",
              "3      3     3    Mario Kart Wii                                             \n",
              "4      4     4    Wii Sports Resort                                          \n",
              "5      5     5    Pokemon Red/Pokemon Blue                                   \n",
              "6      6     6    Tetris                                                     \n",
              "7      7     7    New Super Mario Bros.                                      \n",
              "8      8     8    Wii Play                                                   \n",
              "9      9     9    New Super Mario Bros. Wii                                  \n",
              "10    10    10    Duck Hunt                                                  \n",
              "11    11    11    Nintendogs                                                 \n",
              "12    12    12    Mario Kart DS                                              \n",
              "13    13    13    Pokemon Gold/Pokemon Silver                                \n",
              "14    14    14    Wii Fit                                                    \n",
              "15    15    15    Kinect Adventures!                                         \n",
              "16    16    16    Wii Fit Plus                                               \n",
              "17    17    17    Grand Theft Auto V                                         \n",
              "18    18    18    Grand Theft Auto: San Andreas                              \n",
              "19    19    19    Super Mario World                                          \n",
              "20    20    20    Brain Age: Train Your Brain in Minutes a Day               \n",
              "21    21    21    Pokemon Diamond/Pokemon Pearl                              \n",
              "22    22    22    Super Mario Land                                           \n",
              "23    23    23    Super Mario Bros. 3                                        \n",
              "24    24    24    Grand Theft Auto V                                         \n",
              "25    25    25    Grand Theft Auto: Vice City                                \n",
              "26    26    26    Pokemon Ruby/Pokemon Sapphire                              \n",
              "27    27    27    Brain Age 2: More Training in Minutes a Day                \n",
              "28    28    28    Pokemon Black/Pokemon White                                \n",
              "29    29    29    Gran Turismo 3: A-Spec                                     \n",
              "30    30    30    Call of Duty: Modern Warfare 3                             \n",
              "⋮     ⋮     ⋮     ⋮                                                          \n",
              "16686 16686 16690 Help Wanted: 50 Wacky Jobs (jp sales)                      \n",
              "16687 16687 16691 Yattaman Wii: BikkuriDokkiri Machine de Mou Race da Koron  \n",
              "16688 16688 16692 Neo Angelique Special                                      \n",
              "16689 16689 16693 Outdoors Unleashed: Africa 3D                              \n",
              "16690 16690 16694 Real Rode                                                  \n",
              "16691 16691 16695 Pony Friends 2                                             \n",
              "16692 16692 16696 Dynasty Warriors: Eiketsuden                               \n",
              "16693 16693 16697 Metal Gear Solid V: Ground Zeroes                          \n",
              "16694 16694 16698 PGA European Tour                                          \n",
              "16695 16695 16699 Carmageddon 64                                             \n",
              "16696 16696 16700 Planet Monsters                                            \n",
              "16697 16697 16701 Breach                                                     \n",
              "16698 16698 16702 Bust-A-Move 3000                                           \n",
              "16699 16699 16703 Mega Brain Boost                                           \n",
              "16700 16700 16704 The Longest 5 Minutes                                      \n",
              "16701 16701 16705 Mezase!! Tsuri Master DS                                   \n",
              "16702 16702 16706 Eiyuu Densetsu: Sora no Kiseki Material Collection Portable\n",
              "16703 16703 16707 STORM: Frontline Nation                                    \n",
              "16704 16704 16708 Strawberry Nauts                                           \n",
              "16705 16705 16709 Plushees                                                   \n",
              "16706 16706 16710 15 Days                                                    \n",
              "16707 16707 16711 Men in Black II: Alien Escape                              \n",
              "16708 16708 16712 Aiyoku no Eustia                                           \n",
              "16709 16709 16713 Woody Woodpecker in Crazy Castle 5                         \n",
              "16710 16710 16714 SCORE International Baja 1000: The Official Game           \n",
              "16711 16711 16715 Samurai Warriors: Sanada Maru                              \n",
              "16712 16712 16716 LMA Manager 2007                                           \n",
              "16713 16713 16717 Haitaka no Psychedelica                                    \n",
              "16714 16714 16718 Spirits & Spells                                           \n",
              "16715 16715 16719 Winning Post 8 2016                                        \n",
              "      Year_of_Release Genre        Publisher                    Global_players\n",
              "1     2021            Sports       Nintendo                     82.53         \n",
              "2     2021            Platform     Nintendo                     40.24         \n",
              "3     2021            Racing       Nintendo                     35.52         \n",
              "4     2021            Sports       Nintendo                     32.77         \n",
              "5     2021            Role-Playing Nintendo                     31.37         \n",
              "6     2021            Puzzle       Nintendo                     30.26         \n",
              "7     2021            Platform     Nintendo                     29.80         \n",
              "8     2021            Misc         Nintendo                     28.92         \n",
              "9     2021            Platform     Nintendo                     28.32         \n",
              "10    2021            Shooter      Nintendo                     28.31         \n",
              "11    2021            Simulation   Nintendo                     24.67         \n",
              "12    2021            Racing       Nintendo                     23.21         \n",
              "13    2021            Role-Playing Nintendo                     23.10         \n",
              "14    2021            Sports       Nintendo                     22.70         \n",
              "15    2021            Misc         Microsoft Game Studios       21.81         \n",
              "16    2021            Sports       Nintendo                     21.79         \n",
              "17    2021            Action       Take-Two Interactive         21.04         \n",
              "18    2021            Action       Take-Two Interactive         20.81         \n",
              "19    2021            Platform     Nintendo                     20.61         \n",
              "20    2021            Misc         Nintendo                     20.15         \n",
              "21    2021            Role-Playing Nintendo                     18.25         \n",
              "22    2021            Platform     Nintendo                     18.14         \n",
              "23    2021            Platform     Nintendo                     17.28         \n",
              "24    2021            Action       Take-Two Interactive         16.27         \n",
              "25    2021            Action       Take-Two Interactive         16.15         \n",
              "26    2021            Role-Playing Nintendo                     15.85         \n",
              "27    2021            Puzzle       Nintendo                     15.29         \n",
              "28    2021            Role-Playing Nintendo                     15.14         \n",
              "29    2021            Racing       Sony Computer Entertainment  14.98         \n",
              "30    2021            Shooter      Activision                   14.73         \n",
              "⋮     ⋮               ⋮            ⋮                            ⋮             \n",
              "16686 2021            Simulation   Hudson Soft                  0.01          \n",
              "16687 2021            Racing       Takara Tomy                  0.01          \n",
              "16688 2021            Adventure    Tecmo Koei                   0.01          \n",
              "16689 2021            Sports       Mastiff                      0.01          \n",
              "16690 2021            Adventure    Kadokawa Shoten              0.01          \n",
              "16691 2021            Simulation   Eidos Interactive            0.01          \n",
              "16692 2021            Action       Tecmo Koei                   0.01          \n",
              "16693 2021            Action       Konami Digital Entertainment 0.01          \n",
              "16694 2021            Sports       Infogrames                   0.01          \n",
              "16695 2021            Action       Virgin Interactive           0.01          \n",
              "16696 2021            Action       Titus                        0.01          \n",
              "16697 2021            Shooter      Destineer                    0.01          \n",
              "16698 2021            Puzzle       Ubisoft                      0.01          \n",
              "16699 2021            Puzzle       Majesco Entertainment        0.01          \n",
              "16700 2021            Action       Nippon Ichi Software         0.01          \n",
              "16701 2021            Sports       Hudson Soft                  0.01          \n",
              "16702 2021            Role-Playing Falcom Corporation           0.01          \n",
              "16703 2021            Strategy     Unknown                      0.01          \n",
              "16704 2021            Adventure    Unknown                      0.01          \n",
              "16705 2021            Simulation   Destineer                    0.01          \n",
              "16706 2021            Adventure    DTP Entertainment            0.01          \n",
              "16707 2021            Shooter      Infogrames                   0.01          \n",
              "16708 2021            Misc         dramatic create              0.01          \n",
              "16709 2021            Platform     Kemco                        0.01          \n",
              "16710 2021            Racing       Activision                   0.01          \n",
              "16711 2021            Action       Tecmo Koei                   0.01          \n",
              "16712 2021            Sports       Codemasters                  0.01          \n",
              "16713 2021            Adventure    Idea Factory                 0.01          \n",
              "16714 2021            Platform     Wanadoo                      0.01          \n",
              "16715 2021            Simulation   Tecmo Koei                   0.01          \n",
              "      Developer                         Age_imp.x Rating_imp.x ⋯\n",
              "1     Nintendo                          Wii       NA           ⋯\n",
              "2     NA                                NES       NA           ⋯\n",
              "3     Nintendo                          Wii       NA           ⋯\n",
              "4     Nintendo                          Wii       NA           ⋯\n",
              "5     NA                                GB        NA           ⋯\n",
              "6     NA                                GB        NA           ⋯\n",
              "7     Nintendo                          DS        NA           ⋯\n",
              "8     Nintendo                          Wii       NA           ⋯\n",
              "9     Nintendo                          Wii       NA           ⋯\n",
              "10    NA                                NES       NA           ⋯\n",
              "11    NA                                DS        NA           ⋯\n",
              "12    Nintendo                          DS        NA           ⋯\n",
              "13    NA                                GB        NA           ⋯\n",
              "14    Nintendo                          Wii       NA           ⋯\n",
              "15    Good Science Studio               X360      NA           ⋯\n",
              "16    Nintendo                          Wii       NA           ⋯\n",
              "17    Rockstar North                    PS3       NA           ⋯\n",
              "18    Rockstar North                    PS2       NA           ⋯\n",
              "19    NA                                SNES      NA           ⋯\n",
              "20    Nintendo                          DS        NA           ⋯\n",
              "21    NA                                DS        NA           ⋯\n",
              "22    NA                                GB        NA           ⋯\n",
              "23    NA                                NES       NA           ⋯\n",
              "24    Rockstar North                    X360      NA           ⋯\n",
              "25    Rockstar North                    PS2       NA           ⋯\n",
              "26    NA                                GBA       NA           ⋯\n",
              "27    Nintendo                          DS        NA           ⋯\n",
              "28    NA                                DS        NA           ⋯\n",
              "29    Polyphony Digital                 PS2       NA           ⋯\n",
              "30    Infinity Ward, Sledgehammer Games X360      NA           ⋯\n",
              "⋮     ⋮                                 ⋮         ⋮            ⋱\n",
              "16686 NA                                Wii       NA           ⋯\n",
              "16687 NA                                Wii       NA           ⋯\n",
              "16688 NA                                PSP       NA           ⋯\n",
              "16689 Mastiff                           3DS       NA           ⋯\n",
              "16690 NA                                PS2       NA           ⋯\n",
              "16691 NA                                PC        NA           ⋯\n",
              "16692 NA                                PS3       NA           ⋯\n",
              "16693 Kojima Productions                PC        NA           ⋯\n",
              "16694 NA                                N64       NA           ⋯\n",
              "16695 NA                                N64       NA           ⋯\n",
              "16696 Planet Interactive                GBA       NA           ⋯\n",
              "16697 Atomic Games                      PC        NA           ⋯\n",
              "16698 Taito Corporation                 GC        NA           ⋯\n",
              "16699 Interchannel-Holon                DS        NA           ⋯\n",
              "16700 NA                                PSV       NA           ⋯\n",
              "16701 NA                                DS        NA           ⋯\n",
              "16702 NA                                PSP       NA           ⋯\n",
              "16703 SimBin                            PC        NA           ⋯\n",
              "16704 NA                                PSV       NA           ⋯\n",
              "16705 Big John Games                    DS        NA           ⋯\n",
              "16706 DTP Entertainment                 PC        NA           ⋯\n",
              "16707 Atari                             GC        NA           ⋯\n",
              "16708 NA                                PSV       NA           ⋯\n",
              "16709 NA                                GBA       NA           ⋯\n",
              "16710 NA                                PS2       NA           ⋯\n",
              "16711 NA                                PS3       NA           ⋯\n",
              "16712 NA                                X360      NA           ⋯\n",
              "16713 NA                                PSV       NA           ⋯\n",
              "16714 NA                                GBA       NA           ⋯\n",
              "16715 NA                                PSV       NA           ⋯\n",
              "      Critic_Count_imp.x User_Score_imp.x User_Count_imp.x User_Score Age_imp.y\n",
              "1     51                 8.0               322             8.0        Wii      \n",
              "2     NA                  NA                NA              NA        NES      \n",
              "3     73                 8.3               709             8.3        Wii      \n",
              "4     73                 8.0               192             8.0        Wii      \n",
              "5     NA                  NA                NA              NA        GB       \n",
              "6     NA                  NA                NA              NA        GB       \n",
              "7     65                 8.5               431             8.5        DS       \n",
              "8     41                 6.6               129             6.6        Wii      \n",
              "9     80                 8.4               594             8.4        Wii      \n",
              "10    NA                  NA                NA              NA        NES      \n",
              "11    NA                  NA                NA              NA        DS       \n",
              "12    64                 8.6               464             8.6        DS       \n",
              "13    NA                  NA                NA              NA        GB       \n",
              "14    63                 7.7               146             7.7        Wii      \n",
              "15    45                 6.3               106             6.3        X360     \n",
              "16    33                 7.4                52             7.4        Wii      \n",
              "17    50                 8.2              3994             8.2        PS3      \n",
              "18    80                 9.0              1588             9.0        PS2      \n",
              "19    NA                  NA                NA              NA        SNES     \n",
              "20    58                 7.9                50             7.9        DS       \n",
              "21    NA                  NA                NA              NA        DS       \n",
              "22    NA                  NA                NA              NA        GB       \n",
              "23    NA                  NA                NA              NA        NES      \n",
              "24    58                 8.1              3711             8.1        X360     \n",
              "25    62                 8.7               730             8.7        PS2      \n",
              "26    NA                  NA                NA              NA        GBA      \n",
              "27    37                 7.1                19             7.1        DS       \n",
              "28    NA                  NA                NA              NA        DS       \n",
              "29    54                 8.4               314             8.4        PS2      \n",
              "30    81                 3.4              8713             3.4        X360     \n",
              "⋮     ⋮                  ⋮                ⋮                ⋮          ⋮        \n",
              "16686 NA                  NA               NA               NA        Wii      \n",
              "16687 NA                  NA               NA               NA        Wii      \n",
              "16688 NA                  NA               NA               NA        PSP      \n",
              "16689 NA                  NA               NA               NA        3DS      \n",
              "16690 NA                  NA               NA               NA        PS2      \n",
              "16691 NA                  NA               NA               NA        PC       \n",
              "16692 NA                  NA               NA               NA        PS3      \n",
              "16693 20                 7.6              412              7.6        PC       \n",
              "16694 NA                  NA               NA               NA        N64      \n",
              "16695 NA                  NA               NA               NA        N64      \n",
              "16696  9                  NA               NA               NA        GBA      \n",
              "16697 12                 5.8               43              5.8        PC       \n",
              "16698  4                  NA               NA               NA        GC       \n",
              "16699 10                  NA               NA               NA        DS       \n",
              "16700 NA                  NA               NA               NA        PSV      \n",
              "16701 NA                  NA               NA               NA        DS       \n",
              "16702 NA                  NA               NA               NA        PSP      \n",
              "16703 12                 7.2               13              7.2        PC       \n",
              "16704 NA                  NA               NA               NA        PSV      \n",
              "16705 NA                  NA               NA               NA        DS       \n",
              "16706  6                 5.8                8              5.8        PC       \n",
              "16707 NA                  NA               NA               NA        GC       \n",
              "16708 NA                  NA               NA               NA        PSV      \n",
              "16709 NA                  NA               NA               NA        GBA      \n",
              "16710 NA                  NA               NA               NA        PS2      \n",
              "16711 NA                  NA               NA               NA        PS3      \n",
              "16712 NA                  NA               NA               NA        X360     \n",
              "16713 NA                  NA               NA               NA        PSV      \n",
              "16714 NA                  NA               NA               NA        GBA      \n",
              "16715 NA                  NA               NA               NA        PSV      \n",
              "      Rating_imp.y Critic_Score_imp.y Critic_Count_imp.y User_Score_imp.y\n",
              "1     NA           76                 51                 8.0             \n",
              "2     NA           NA                 NA                  NA             \n",
              "3     NA           82                 73                 8.3             \n",
              "4     NA           80                 73                 8.0             \n",
              "5     NA           NA                 NA                  NA             \n",
              "6     NA           NA                 NA                  NA             \n",
              "7     NA           89                 65                 8.5             \n",
              "8     NA           58                 41                 6.6             \n",
              "9     NA           87                 80                 8.4             \n",
              "10    NA           NA                 NA                  NA             \n",
              "11    NA           NA                 NA                  NA             \n",
              "12    NA           91                 64                 8.6             \n",
              "13    NA           NA                 NA                  NA             \n",
              "14    NA           80                 63                 7.7             \n",
              "15    NA           61                 45                 6.3             \n",
              "16    NA           80                 33                 7.4             \n",
              "17    NA           97                 50                 8.2             \n",
              "18    NA           95                 80                 9.0             \n",
              "19    NA           NA                 NA                  NA             \n",
              "20    NA           77                 58                 7.9             \n",
              "21    NA           NA                 NA                  NA             \n",
              "22    NA           NA                 NA                  NA             \n",
              "23    NA           NA                 NA                  NA             \n",
              "24    NA           97                 58                 8.1             \n",
              "25    NA           95                 62                 8.7             \n",
              "26    NA           NA                 NA                  NA             \n",
              "27    NA           77                 37                 7.1             \n",
              "28    NA           NA                 NA                  NA             \n",
              "29    NA           95                 54                 8.4             \n",
              "30    NA           88                 81                 3.4             \n",
              "⋮     ⋮            ⋮                  ⋮                  ⋮               \n",
              "16686 NA           NA                 NA                  NA             \n",
              "16687 NA           NA                 NA                  NA             \n",
              "16688 NA           NA                 NA                  NA             \n",
              "16689 NA           NA                 NA                  NA             \n",
              "16690 NA           NA                 NA                  NA             \n",
              "16691 NA           NA                 NA                  NA             \n",
              "16692 NA           NA                 NA                  NA             \n",
              "16693 NA           80                 20                 7.6             \n",
              "16694 NA           NA                 NA                  NA             \n",
              "16695 NA           NA                 NA                  NA             \n",
              "16696 NA           67                  9                  NA             \n",
              "16697 NA           61                 12                 5.8             \n",
              "16698 NA           53                  4                  NA             \n",
              "16699 NA           48                 10                  NA             \n",
              "16700 NA           NA                 NA                  NA             \n",
              "16701 NA           NA                 NA                  NA             \n",
              "16702 NA           NA                 NA                  NA             \n",
              "16703 NA           60                 12                 7.2             \n",
              "16704 NA           NA                 NA                  NA             \n",
              "16705 NA           NA                 NA                  NA             \n",
              "16706 NA           63                  6                 5.8             \n",
              "16707 NA           NA                 NA                  NA             \n",
              "16708 NA           NA                 NA                  NA             \n",
              "16709 NA           NA                 NA                  NA             \n",
              "16710 NA           NA                 NA                  NA             \n",
              "16711 NA           NA                 NA                  NA             \n",
              "16712 NA           NA                 NA                  NA             \n",
              "16713 NA           NA                 NA                  NA             \n",
              "16714 NA           NA                 NA                  NA             \n",
              "16715 NA           NA                 NA                  NA             \n",
              "      User_Count_imp.y\n",
              "1      322            \n",
              "2       NA            \n",
              "3      709            \n",
              "4      192            \n",
              "5       NA            \n",
              "6       NA            \n",
              "7      431            \n",
              "8      129            \n",
              "9      594            \n",
              "10      NA            \n",
              "11      NA            \n",
              "12     464            \n",
              "13      NA            \n",
              "14     146            \n",
              "15     106            \n",
              "16      52            \n",
              "17    3994            \n",
              "18    1588            \n",
              "19      NA            \n",
              "20      50            \n",
              "21      NA            \n",
              "22      NA            \n",
              "23      NA            \n",
              "24    3711            \n",
              "25     730            \n",
              "26      NA            \n",
              "27      19            \n",
              "28      NA            \n",
              "29     314            \n",
              "30    8713            \n",
              "⋮     ⋮               \n",
              "16686  NA             \n",
              "16687  NA             \n",
              "16688  NA             \n",
              "16689  NA             \n",
              "16690  NA             \n",
              "16691  NA             \n",
              "16692  NA             \n",
              "16693 412             \n",
              "16694  NA             \n",
              "16695  NA             \n",
              "16696  NA             \n",
              "16697  43             \n",
              "16698  NA             \n",
              "16699  NA             \n",
              "16700  NA             \n",
              "16701  NA             \n",
              "16702  NA             \n",
              "16703  13             \n",
              "16704  NA             \n",
              "16705  NA             \n",
              "16706   8             \n",
              "16707  NA             \n",
              "16708  NA             \n",
              "16709  NA             \n",
              "16710  NA             \n",
              "16711  NA             \n",
              "16712  NA             \n",
              "16713  NA             \n",
              "16714  NA             \n",
              "16715  NA             "
            ],
            "text/latex": "A data.frame: 16715 × 21\n\\begin{tabular}{lllllllllllllllllllll}\n ID & X & Name & Year\\_of\\_Release & Genre & Publisher & Global\\_players & Developer & Age\\_imp.x & Rating\\_imp.x & ⋯ & Critic\\_Count\\_imp.x & User\\_Score\\_imp.x & User\\_Count\\_imp.x & User\\_Score & Age\\_imp.y & Rating\\_imp.y & Critic\\_Score\\_imp.y & Critic\\_Count\\_imp.y & User\\_Score\\_imp.y & User\\_Count\\_imp.y\\\\\n <int> & <int> & <chr> & <dbl> & <chr> & <chr> & <dbl> & <chr> & <chr> & <fct> & ⋯ & <int> & <dbl> & <int> & <dbl> & <chr> & <fct> & <int> & <int> & <dbl> & <int>\\\\\n\\hline\n\t  1 &  1 & Wii Sports                                   & 2021 & Sports       & Nintendo                    & 82.53 & Nintendo                          & Wii  & NA & ⋯ & 51 & 8.0 &  322 & 8.0 & Wii  & NA & 76 & 51 & 8.0 &  322\\\\\n\t  2 &  2 & Super Mario Bros.                            & 2021 & Platform     & Nintendo                    & 40.24 & NA                                & NES  & NA & ⋯ & NA &  NA &   NA &  NA & NES  & NA & NA & NA &  NA &   NA\\\\\n\t  3 &  3 & Mario Kart Wii                               & 2021 & Racing       & Nintendo                    & 35.52 & Nintendo                          & Wii  & NA & ⋯ & 73 & 8.3 &  709 & 8.3 & Wii  & NA & 82 & 73 & 8.3 &  709\\\\\n\t  4 &  4 & Wii Sports Resort                            & 2021 & Sports       & Nintendo                    & 32.77 & Nintendo                          & Wii  & NA & ⋯ & 73 & 8.0 &  192 & 8.0 & Wii  & NA & 80 & 73 & 8.0 &  192\\\\\n\t  5 &  5 & Pokemon Red/Pokemon Blue                     & 2021 & Role-Playing & Nintendo                    & 31.37 & NA                                & GB   & NA & ⋯ & NA &  NA &   NA &  NA & GB   & NA & NA & NA &  NA &   NA\\\\\n\t  6 &  6 & Tetris                                       & 2021 & Puzzle       & Nintendo                    & 30.26 & NA                                & GB   & NA & ⋯ & NA &  NA &   NA &  NA & GB   & NA & NA & NA &  NA &   NA\\\\\n\t  7 &  7 & New Super Mario Bros.                        & 2021 & Platform     & Nintendo                    & 29.80 & Nintendo                          & DS   & NA & ⋯ & 65 & 8.5 &  431 & 8.5 & DS   & NA & 89 & 65 & 8.5 &  431\\\\\n\t  8 &  8 & Wii Play                                     & 2021 & Misc         & Nintendo                    & 28.92 & Nintendo                          & Wii  & NA & ⋯ & 41 & 6.6 &  129 & 6.6 & Wii  & NA & 58 & 41 & 6.6 &  129\\\\\n\t  9 &  9 & New Super Mario Bros. Wii                    & 2021 & Platform     & Nintendo                    & 28.32 & Nintendo                          & Wii  & NA & ⋯ & 80 & 8.4 &  594 & 8.4 & Wii  & NA & 87 & 80 & 8.4 &  594\\\\\n\t 10 & 10 & Duck Hunt                                    & 2021 & Shooter      & Nintendo                    & 28.31 & NA                                & NES  & NA & ⋯ & NA &  NA &   NA &  NA & NES  & NA & NA & NA &  NA &   NA\\\\\n\t 11 & 11 & Nintendogs                                   & 2021 & Simulation   & Nintendo                    & 24.67 & NA                                & DS   & NA & ⋯ & NA &  NA &   NA &  NA & DS   & NA & NA & NA &  NA &   NA\\\\\n\t 12 & 12 & Mario Kart DS                                & 2021 & Racing       & Nintendo                    & 23.21 & Nintendo                          & DS   & NA & ⋯ & 64 & 8.6 &  464 & 8.6 & DS   & NA & 91 & 64 & 8.6 &  464\\\\\n\t 13 & 13 & Pokemon Gold/Pokemon Silver                  & 2021 & Role-Playing & Nintendo                    & 23.10 & NA                                & GB   & NA & ⋯ & NA &  NA &   NA &  NA & GB   & NA & NA & NA &  NA &   NA\\\\\n\t 14 & 14 & Wii Fit                                      & 2021 & Sports       & Nintendo                    & 22.70 & Nintendo                          & Wii  & NA & ⋯ & 63 & 7.7 &  146 & 7.7 & Wii  & NA & 80 & 63 & 7.7 &  146\\\\\n\t 15 & 15 & Kinect Adventures!                           & 2021 & Misc         & Microsoft Game Studios      & 21.81 & Good Science Studio               & X360 & NA & ⋯ & 45 & 6.3 &  106 & 6.3 & X360 & NA & 61 & 45 & 6.3 &  106\\\\\n\t 16 & 16 & Wii Fit Plus                                 & 2021 & Sports       & Nintendo                    & 21.79 & Nintendo                          & Wii  & NA & ⋯ & 33 & 7.4 &   52 & 7.4 & Wii  & NA & 80 & 33 & 7.4 &   52\\\\\n\t 17 & 17 & Grand Theft Auto V                           & 2021 & Action       & Take-Two Interactive        & 21.04 & Rockstar North                    & PS3  & NA & ⋯ & 50 & 8.2 & 3994 & 8.2 & PS3  & NA & 97 & 50 & 8.2 & 3994\\\\\n\t 18 & 18 & Grand Theft Auto: San Andreas                & 2021 & Action       & Take-Two Interactive        & 20.81 & Rockstar North                    & PS2  & NA & ⋯ & 80 & 9.0 & 1588 & 9.0 & PS2  & NA & 95 & 80 & 9.0 & 1588\\\\\n\t 19 & 19 & Super Mario World                            & 2021 & Platform     & Nintendo                    & 20.61 & NA                                & SNES & NA & ⋯ & NA &  NA &   NA &  NA & SNES & NA & NA & NA &  NA &   NA\\\\\n\t 20 & 20 & Brain Age: Train Your Brain in Minutes a Day & 2021 & Misc         & Nintendo                    & 20.15 & Nintendo                          & DS   & NA & ⋯ & 58 & 7.9 &   50 & 7.9 & DS   & NA & 77 & 58 & 7.9 &   50\\\\\n\t 21 & 21 & Pokemon Diamond/Pokemon Pearl                & 2021 & Role-Playing & Nintendo                    & 18.25 & NA                                & DS   & NA & ⋯ & NA &  NA &   NA &  NA & DS   & NA & NA & NA &  NA &   NA\\\\\n\t 22 & 22 & Super Mario Land                             & 2021 & Platform     & Nintendo                    & 18.14 & NA                                & GB   & NA & ⋯ & NA &  NA &   NA &  NA & GB   & NA & NA & NA &  NA &   NA\\\\\n\t 23 & 23 & Super Mario Bros. 3                          & 2021 & Platform     & Nintendo                    & 17.28 & NA                                & NES  & NA & ⋯ & NA &  NA &   NA &  NA & NES  & NA & NA & NA &  NA &   NA\\\\\n\t 24 & 24 & Grand Theft Auto V                           & 2021 & Action       & Take-Two Interactive        & 16.27 & Rockstar North                    & X360 & NA & ⋯ & 58 & 8.1 & 3711 & 8.1 & X360 & NA & 97 & 58 & 8.1 & 3711\\\\\n\t 25 & 25 & Grand Theft Auto: Vice City                  & 2021 & Action       & Take-Two Interactive        & 16.15 & Rockstar North                    & PS2  & NA & ⋯ & 62 & 8.7 &  730 & 8.7 & PS2  & NA & 95 & 62 & 8.7 &  730\\\\\n\t 26 & 26 & Pokemon Ruby/Pokemon Sapphire                & 2021 & Role-Playing & Nintendo                    & 15.85 & NA                                & GBA  & NA & ⋯ & NA &  NA &   NA &  NA & GBA  & NA & NA & NA &  NA &   NA\\\\\n\t 27 & 27 & Brain Age 2: More Training in Minutes a Day  & 2021 & Puzzle       & Nintendo                    & 15.29 & Nintendo                          & DS   & NA & ⋯ & 37 & 7.1 &   19 & 7.1 & DS   & NA & 77 & 37 & 7.1 &   19\\\\\n\t 28 & 28 & Pokemon Black/Pokemon White                  & 2021 & Role-Playing & Nintendo                    & 15.14 & NA                                & DS   & NA & ⋯ & NA &  NA &   NA &  NA & DS   & NA & NA & NA &  NA &   NA\\\\\n\t 29 & 29 & Gran Turismo 3: A-Spec                       & 2021 & Racing       & Sony Computer Entertainment & 14.98 & Polyphony Digital                 & PS2  & NA & ⋯ & 54 & 8.4 &  314 & 8.4 & PS2  & NA & 95 & 54 & 8.4 &  314\\\\\n\t 30 & 30 & Call of Duty: Modern Warfare 3               & 2021 & Shooter      & Activision                  & 14.73 & Infinity Ward, Sledgehammer Games & X360 & NA & ⋯ & 81 & 3.4 & 8713 & 3.4 & X360 & NA & 88 & 81 & 3.4 & 8713\\\\\n\t ⋮ & ⋮ & ⋮ & ⋮ & ⋮ & ⋮ & ⋮ & ⋮ & ⋮ & ⋮ & ⋱ & ⋮ & ⋮ & ⋮ & ⋮ & ⋮ & ⋮ & ⋮ & ⋮ & ⋮ & ⋮\\\\\n\t 16686 & 16690 & Help Wanted: 50 Wacky Jobs (jp sales)                       & 2021 & Simulation   & Hudson Soft                  & 0.01 & NA                 & Wii  & NA & ⋯ & NA &  NA &  NA &  NA & Wii  & NA & NA & NA &  NA &  NA\\\\\n\t 16687 & 16691 & Yattaman Wii: BikkuriDokkiri Machine de Mou Race da Koron   & 2021 & Racing       & Takara Tomy                  & 0.01 & NA                 & Wii  & NA & ⋯ & NA &  NA &  NA &  NA & Wii  & NA & NA & NA &  NA &  NA\\\\\n\t 16688 & 16692 & Neo Angelique Special                                       & 2021 & Adventure    & Tecmo Koei                   & 0.01 & NA                 & PSP  & NA & ⋯ & NA &  NA &  NA &  NA & PSP  & NA & NA & NA &  NA &  NA\\\\\n\t 16689 & 16693 & Outdoors Unleashed: Africa 3D                               & 2021 & Sports       & Mastiff                      & 0.01 & Mastiff            & 3DS  & NA & ⋯ & NA &  NA &  NA &  NA & 3DS  & NA & NA & NA &  NA &  NA\\\\\n\t 16690 & 16694 & Real Rode                                                   & 2021 & Adventure    & Kadokawa Shoten              & 0.01 & NA                 & PS2  & NA & ⋯ & NA &  NA &  NA &  NA & PS2  & NA & NA & NA &  NA &  NA\\\\\n\t 16691 & 16695 & Pony Friends 2                                              & 2021 & Simulation   & Eidos Interactive            & 0.01 & NA                 & PC   & NA & ⋯ & NA &  NA &  NA &  NA & PC   & NA & NA & NA &  NA &  NA\\\\\n\t 16692 & 16696 & Dynasty Warriors: Eiketsuden                                & 2021 & Action       & Tecmo Koei                   & 0.01 & NA                 & PS3  & NA & ⋯ & NA &  NA &  NA &  NA & PS3  & NA & NA & NA &  NA &  NA\\\\\n\t 16693 & 16697 & Metal Gear Solid V: Ground Zeroes                           & 2021 & Action       & Konami Digital Entertainment & 0.01 & Kojima Productions & PC   & NA & ⋯ & 20 & 7.6 & 412 & 7.6 & PC   & NA & 80 & 20 & 7.6 & 412\\\\\n\t 16694 & 16698 & PGA European Tour                                           & 2021 & Sports       & Infogrames                   & 0.01 & NA                 & N64  & NA & ⋯ & NA &  NA &  NA &  NA & N64  & NA & NA & NA &  NA &  NA\\\\\n\t 16695 & 16699 & Carmageddon 64                                              & 2021 & Action       & Virgin Interactive           & 0.01 & NA                 & N64  & NA & ⋯ & NA &  NA &  NA &  NA & N64  & NA & NA & NA &  NA &  NA\\\\\n\t 16696 & 16700 & Planet Monsters                                             & 2021 & Action       & Titus                        & 0.01 & Planet Interactive & GBA  & NA & ⋯ &  9 &  NA &  NA &  NA & GBA  & NA & 67 &  9 &  NA &  NA\\\\\n\t 16697 & 16701 & Breach                                                      & 2021 & Shooter      & Destineer                    & 0.01 & Atomic Games       & PC   & NA & ⋯ & 12 & 5.8 &  43 & 5.8 & PC   & NA & 61 & 12 & 5.8 &  43\\\\\n\t 16698 & 16702 & Bust-A-Move 3000                                            & 2021 & Puzzle       & Ubisoft                      & 0.01 & Taito Corporation  & GC   & NA & ⋯ &  4 &  NA &  NA &  NA & GC   & NA & 53 &  4 &  NA &  NA\\\\\n\t 16699 & 16703 & Mega Brain Boost                                            & 2021 & Puzzle       & Majesco Entertainment        & 0.01 & Interchannel-Holon & DS   & NA & ⋯ & 10 &  NA &  NA &  NA & DS   & NA & 48 & 10 &  NA &  NA\\\\\n\t 16700 & 16704 & The Longest 5 Minutes                                       & 2021 & Action       & Nippon Ichi Software         & 0.01 & NA                 & PSV  & NA & ⋯ & NA &  NA &  NA &  NA & PSV  & NA & NA & NA &  NA &  NA\\\\\n\t 16701 & 16705 & Mezase!! Tsuri Master DS                                    & 2021 & Sports       & Hudson Soft                  & 0.01 & NA                 & DS   & NA & ⋯ & NA &  NA &  NA &  NA & DS   & NA & NA & NA &  NA &  NA\\\\\n\t 16702 & 16706 & Eiyuu Densetsu: Sora no Kiseki Material Collection Portable & 2021 & Role-Playing & Falcom Corporation           & 0.01 & NA                 & PSP  & NA & ⋯ & NA &  NA &  NA &  NA & PSP  & NA & NA & NA &  NA &  NA\\\\\n\t 16703 & 16707 & STORM: Frontline Nation                                     & 2021 & Strategy     & Unknown                      & 0.01 & SimBin             & PC   & NA & ⋯ & 12 & 7.2 &  13 & 7.2 & PC   & NA & 60 & 12 & 7.2 &  13\\\\\n\t 16704 & 16708 & Strawberry Nauts                                            & 2021 & Adventure    & Unknown                      & 0.01 & NA                 & PSV  & NA & ⋯ & NA &  NA &  NA &  NA & PSV  & NA & NA & NA &  NA &  NA\\\\\n\t 16705 & 16709 & Plushees                                                    & 2021 & Simulation   & Destineer                    & 0.01 & Big John Games     & DS   & NA & ⋯ & NA &  NA &  NA &  NA & DS   & NA & NA & NA &  NA &  NA\\\\\n\t 16706 & 16710 & 15 Days                                                     & 2021 & Adventure    & DTP Entertainment            & 0.01 & DTP Entertainment  & PC   & NA & ⋯ &  6 & 5.8 &   8 & 5.8 & PC   & NA & 63 &  6 & 5.8 &   8\\\\\n\t 16707 & 16711 & Men in Black II: Alien Escape                               & 2021 & Shooter      & Infogrames                   & 0.01 & Atari              & GC   & NA & ⋯ & NA &  NA &  NA &  NA & GC   & NA & NA & NA &  NA &  NA\\\\\n\t 16708 & 16712 & Aiyoku no Eustia                                            & 2021 & Misc         & dramatic create              & 0.01 & NA                 & PSV  & NA & ⋯ & NA &  NA &  NA &  NA & PSV  & NA & NA & NA &  NA &  NA\\\\\n\t 16709 & 16713 & Woody Woodpecker in Crazy Castle 5                          & 2021 & Platform     & Kemco                        & 0.01 & NA                 & GBA  & NA & ⋯ & NA &  NA &  NA &  NA & GBA  & NA & NA & NA &  NA &  NA\\\\\n\t 16710 & 16714 & SCORE International Baja 1000: The Official Game            & 2021 & Racing       & Activision                   & 0.01 & NA                 & PS2  & NA & ⋯ & NA &  NA &  NA &  NA & PS2  & NA & NA & NA &  NA &  NA\\\\\n\t 16711 & 16715 & Samurai Warriors: Sanada Maru                               & 2021 & Action       & Tecmo Koei                   & 0.01 & NA                 & PS3  & NA & ⋯ & NA &  NA &  NA &  NA & PS3  & NA & NA & NA &  NA &  NA\\\\\n\t 16712 & 16716 & LMA Manager 2007                                            & 2021 & Sports       & Codemasters                  & 0.01 & NA                 & X360 & NA & ⋯ & NA &  NA &  NA &  NA & X360 & NA & NA & NA &  NA &  NA\\\\\n\t 16713 & 16717 & Haitaka no Psychedelica                                     & 2021 & Adventure    & Idea Factory                 & 0.01 & NA                 & PSV  & NA & ⋯ & NA &  NA &  NA &  NA & PSV  & NA & NA & NA &  NA &  NA\\\\\n\t 16714 & 16718 & Spirits \\& Spells                                            & 2021 & Platform     & Wanadoo                      & 0.01 & NA                 & GBA  & NA & ⋯ & NA &  NA &  NA &  NA & GBA  & NA & NA & NA &  NA &  NA\\\\\n\t 16715 & 16719 & Winning Post 8 2016                                         & 2021 & Simulation   & Tecmo Koei                   & 0.01 & NA                 & PSV  & NA & ⋯ & NA &  NA &  NA &  NA & PSV  & NA & NA & NA &  NA &  NA\\\\\n\\end{tabular}\n",
            "text/markdown": "\nA data.frame: 16715 × 21\n\n| ID &lt;int&gt; | X &lt;int&gt; | Name &lt;chr&gt; | Year_of_Release &lt;dbl&gt; | Genre &lt;chr&gt; | Publisher &lt;chr&gt; | Global_players &lt;dbl&gt; | Developer &lt;chr&gt; | Age_imp.x &lt;chr&gt; | Rating_imp.x &lt;fct&gt; | ⋯ ⋯ | Critic_Count_imp.x &lt;int&gt; | User_Score_imp.x &lt;dbl&gt; | User_Count_imp.x &lt;int&gt; | User_Score &lt;dbl&gt; | Age_imp.y &lt;chr&gt; | Rating_imp.y &lt;fct&gt; | Critic_Score_imp.y &lt;int&gt; | Critic_Count_imp.y &lt;int&gt; | User_Score_imp.y &lt;dbl&gt; | User_Count_imp.y &lt;int&gt; |\n|---|---|---|---|---|---|---|---|---|---|---|---|---|---|---|---|---|---|---|---|---|\n|  1 |  1 | Wii Sports                                   | 2021 | Sports       | Nintendo                    | 82.53 | Nintendo                          | Wii  | NA | ⋯ | 51 | 8.0 |  322 | 8.0 | Wii  | NA | 76 | 51 | 8.0 |  322 |\n|  2 |  2 | Super Mario Bros.                            | 2021 | Platform     | Nintendo                    | 40.24 | NA                                | NES  | NA | ⋯ | NA |  NA |   NA |  NA | NES  | NA | NA | NA |  NA |   NA |\n|  3 |  3 | Mario Kart Wii                               | 2021 | Racing       | Nintendo                    | 35.52 | Nintendo                          | Wii  | NA | ⋯ | 73 | 8.3 |  709 | 8.3 | Wii  | NA | 82 | 73 | 8.3 |  709 |\n|  4 |  4 | Wii Sports Resort                            | 2021 | Sports       | Nintendo                    | 32.77 | Nintendo                          | Wii  | NA | ⋯ | 73 | 8.0 |  192 | 8.0 | Wii  | NA | 80 | 73 | 8.0 |  192 |\n|  5 |  5 | Pokemon Red/Pokemon Blue                     | 2021 | Role-Playing | Nintendo                    | 31.37 | NA                                | GB   | NA | ⋯ | NA |  NA |   NA |  NA | GB   | NA | NA | NA |  NA |   NA |\n|  6 |  6 | Tetris                                       | 2021 | Puzzle       | Nintendo                    | 30.26 | NA                                | GB   | NA | ⋯ | NA |  NA |   NA |  NA | GB   | NA | NA | NA |  NA |   NA |\n|  7 |  7 | New Super Mario Bros.                        | 2021 | Platform     | Nintendo                    | 29.80 | Nintendo                          | DS   | NA | ⋯ | 65 | 8.5 |  431 | 8.5 | DS   | NA | 89 | 65 | 8.5 |  431 |\n|  8 |  8 | Wii Play                                     | 2021 | Misc         | Nintendo                    | 28.92 | Nintendo                          | Wii  | NA | ⋯ | 41 | 6.6 |  129 | 6.6 | Wii  | NA | 58 | 41 | 6.6 |  129 |\n|  9 |  9 | New Super Mario Bros. Wii                    | 2021 | Platform     | Nintendo                    | 28.32 | Nintendo                          | Wii  | NA | ⋯ | 80 | 8.4 |  594 | 8.4 | Wii  | NA | 87 | 80 | 8.4 |  594 |\n| 10 | 10 | Duck Hunt                                    | 2021 | Shooter      | Nintendo                    | 28.31 | NA                                | NES  | NA | ⋯ | NA |  NA |   NA |  NA | NES  | NA | NA | NA |  NA |   NA |\n| 11 | 11 | Nintendogs                                   | 2021 | Simulation   | Nintendo                    | 24.67 | NA                                | DS   | NA | ⋯ | NA |  NA |   NA |  NA | DS   | NA | NA | NA |  NA |   NA |\n| 12 | 12 | Mario Kart DS                                | 2021 | Racing       | Nintendo                    | 23.21 | Nintendo                          | DS   | NA | ⋯ | 64 | 8.6 |  464 | 8.6 | DS   | NA | 91 | 64 | 8.6 |  464 |\n| 13 | 13 | Pokemon Gold/Pokemon Silver                  | 2021 | Role-Playing | Nintendo                    | 23.10 | NA                                | GB   | NA | ⋯ | NA |  NA |   NA |  NA | GB   | NA | NA | NA |  NA |   NA |\n| 14 | 14 | Wii Fit                                      | 2021 | Sports       | Nintendo                    | 22.70 | Nintendo                          | Wii  | NA | ⋯ | 63 | 7.7 |  146 | 7.7 | Wii  | NA | 80 | 63 | 7.7 |  146 |\n| 15 | 15 | Kinect Adventures!                           | 2021 | Misc         | Microsoft Game Studios      | 21.81 | Good Science Studio               | X360 | NA | ⋯ | 45 | 6.3 |  106 | 6.3 | X360 | NA | 61 | 45 | 6.3 |  106 |\n| 16 | 16 | Wii Fit Plus                                 | 2021 | Sports       | Nintendo                    | 21.79 | Nintendo                          | Wii  | NA | ⋯ | 33 | 7.4 |   52 | 7.4 | Wii  | NA | 80 | 33 | 7.4 |   52 |\n| 17 | 17 | Grand Theft Auto V                           | 2021 | Action       | Take-Two Interactive        | 21.04 | Rockstar North                    | PS3  | NA | ⋯ | 50 | 8.2 | 3994 | 8.2 | PS3  | NA | 97 | 50 | 8.2 | 3994 |\n| 18 | 18 | Grand Theft Auto: San Andreas                | 2021 | Action       | Take-Two Interactive        | 20.81 | Rockstar North                    | PS2  | NA | ⋯ | 80 | 9.0 | 1588 | 9.0 | PS2  | NA | 95 | 80 | 9.0 | 1588 |\n| 19 | 19 | Super Mario World                            | 2021 | Platform     | Nintendo                    | 20.61 | NA                                | SNES | NA | ⋯ | NA |  NA |   NA |  NA | SNES | NA | NA | NA |  NA |   NA |\n| 20 | 20 | Brain Age: Train Your Brain in Minutes a Day | 2021 | Misc         | Nintendo                    | 20.15 | Nintendo                          | DS   | NA | ⋯ | 58 | 7.9 |   50 | 7.9 | DS   | NA | 77 | 58 | 7.9 |   50 |\n| 21 | 21 | Pokemon Diamond/Pokemon Pearl                | 2021 | Role-Playing | Nintendo                    | 18.25 | NA                                | DS   | NA | ⋯ | NA |  NA |   NA |  NA | DS   | NA | NA | NA |  NA |   NA |\n| 22 | 22 | Super Mario Land                             | 2021 | Platform     | Nintendo                    | 18.14 | NA                                | GB   | NA | ⋯ | NA |  NA |   NA |  NA | GB   | NA | NA | NA |  NA |   NA |\n| 23 | 23 | Super Mario Bros. 3                          | 2021 | Platform     | Nintendo                    | 17.28 | NA                                | NES  | NA | ⋯ | NA |  NA |   NA |  NA | NES  | NA | NA | NA |  NA |   NA |\n| 24 | 24 | Grand Theft Auto V                           | 2021 | Action       | Take-Two Interactive        | 16.27 | Rockstar North                    | X360 | NA | ⋯ | 58 | 8.1 | 3711 | 8.1 | X360 | NA | 97 | 58 | 8.1 | 3711 |\n| 25 | 25 | Grand Theft Auto: Vice City                  | 2021 | Action       | Take-Two Interactive        | 16.15 | Rockstar North                    | PS2  | NA | ⋯ | 62 | 8.7 |  730 | 8.7 | PS2  | NA | 95 | 62 | 8.7 |  730 |\n| 26 | 26 | Pokemon Ruby/Pokemon Sapphire                | 2021 | Role-Playing | Nintendo                    | 15.85 | NA                                | GBA  | NA | ⋯ | NA |  NA |   NA |  NA | GBA  | NA | NA | NA |  NA |   NA |\n| 27 | 27 | Brain Age 2: More Training in Minutes a Day  | 2021 | Puzzle       | Nintendo                    | 15.29 | Nintendo                          | DS   | NA | ⋯ | 37 | 7.1 |   19 | 7.1 | DS   | NA | 77 | 37 | 7.1 |   19 |\n| 28 | 28 | Pokemon Black/Pokemon White                  | 2021 | Role-Playing | Nintendo                    | 15.14 | NA                                | DS   | NA | ⋯ | NA |  NA |   NA |  NA | DS   | NA | NA | NA |  NA |   NA |\n| 29 | 29 | Gran Turismo 3: A-Spec                       | 2021 | Racing       | Sony Computer Entertainment | 14.98 | Polyphony Digital                 | PS2  | NA | ⋯ | 54 | 8.4 |  314 | 8.4 | PS2  | NA | 95 | 54 | 8.4 |  314 |\n| 30 | 30 | Call of Duty: Modern Warfare 3               | 2021 | Shooter      | Activision                  | 14.73 | Infinity Ward, Sledgehammer Games | X360 | NA | ⋯ | 81 | 3.4 | 8713 | 3.4 | X360 | NA | 88 | 81 | 3.4 | 8713 |\n| ⋮ | ⋮ | ⋮ | ⋮ | ⋮ | ⋮ | ⋮ | ⋮ | ⋮ | ⋮ | ⋱ | ⋮ | ⋮ | ⋮ | ⋮ | ⋮ | ⋮ | ⋮ | ⋮ | ⋮ | ⋮ |\n| 16686 | 16690 | Help Wanted: 50 Wacky Jobs (jp sales)                       | 2021 | Simulation   | Hudson Soft                  | 0.01 | NA                 | Wii  | NA | ⋯ | NA |  NA |  NA |  NA | Wii  | NA | NA | NA |  NA |  NA |\n| 16687 | 16691 | Yattaman Wii: BikkuriDokkiri Machine de Mou Race da Koron   | 2021 | Racing       | Takara Tomy                  | 0.01 | NA                 | Wii  | NA | ⋯ | NA |  NA |  NA |  NA | Wii  | NA | NA | NA |  NA |  NA |\n| 16688 | 16692 | Neo Angelique Special                                       | 2021 | Adventure    | Tecmo Koei                   | 0.01 | NA                 | PSP  | NA | ⋯ | NA |  NA |  NA |  NA | PSP  | NA | NA | NA |  NA |  NA |\n| 16689 | 16693 | Outdoors Unleashed: Africa 3D                               | 2021 | Sports       | Mastiff                      | 0.01 | Mastiff            | 3DS  | NA | ⋯ | NA |  NA |  NA |  NA | 3DS  | NA | NA | NA |  NA |  NA |\n| 16690 | 16694 | Real Rode                                                   | 2021 | Adventure    | Kadokawa Shoten              | 0.01 | NA                 | PS2  | NA | ⋯ | NA |  NA |  NA |  NA | PS2  | NA | NA | NA |  NA |  NA |\n| 16691 | 16695 | Pony Friends 2                                              | 2021 | Simulation   | Eidos Interactive            | 0.01 | NA                 | PC   | NA | ⋯ | NA |  NA |  NA |  NA | PC   | NA | NA | NA |  NA |  NA |\n| 16692 | 16696 | Dynasty Warriors: Eiketsuden                                | 2021 | Action       | Tecmo Koei                   | 0.01 | NA                 | PS3  | NA | ⋯ | NA |  NA |  NA |  NA | PS3  | NA | NA | NA |  NA |  NA |\n| 16693 | 16697 | Metal Gear Solid V: Ground Zeroes                           | 2021 | Action       | Konami Digital Entertainment | 0.01 | Kojima Productions | PC   | NA | ⋯ | 20 | 7.6 | 412 | 7.6 | PC   | NA | 80 | 20 | 7.6 | 412 |\n| 16694 | 16698 | PGA European Tour                                           | 2021 | Sports       | Infogrames                   | 0.01 | NA                 | N64  | NA | ⋯ | NA |  NA |  NA |  NA | N64  | NA | NA | NA |  NA |  NA |\n| 16695 | 16699 | Carmageddon 64                                              | 2021 | Action       | Virgin Interactive           | 0.01 | NA                 | N64  | NA | ⋯ | NA |  NA |  NA |  NA | N64  | NA | NA | NA |  NA |  NA |\n| 16696 | 16700 | Planet Monsters                                             | 2021 | Action       | Titus                        | 0.01 | Planet Interactive | GBA  | NA | ⋯ |  9 |  NA |  NA |  NA | GBA  | NA | 67 |  9 |  NA |  NA |\n| 16697 | 16701 | Breach                                                      | 2021 | Shooter      | Destineer                    | 0.01 | Atomic Games       | PC   | NA | ⋯ | 12 | 5.8 |  43 | 5.8 | PC   | NA | 61 | 12 | 5.8 |  43 |\n| 16698 | 16702 | Bust-A-Move 3000                                            | 2021 | Puzzle       | Ubisoft                      | 0.01 | Taito Corporation  | GC   | NA | ⋯ |  4 |  NA |  NA |  NA | GC   | NA | 53 |  4 |  NA |  NA |\n| 16699 | 16703 | Mega Brain Boost                                            | 2021 | Puzzle       | Majesco Entertainment        | 0.01 | Interchannel-Holon | DS   | NA | ⋯ | 10 |  NA |  NA |  NA | DS   | NA | 48 | 10 |  NA |  NA |\n| 16700 | 16704 | The Longest 5 Minutes                                       | 2021 | Action       | Nippon Ichi Software         | 0.01 | NA                 | PSV  | NA | ⋯ | NA |  NA |  NA |  NA | PSV  | NA | NA | NA |  NA |  NA |\n| 16701 | 16705 | Mezase!! Tsuri Master DS                                    | 2021 | Sports       | Hudson Soft                  | 0.01 | NA                 | DS   | NA | ⋯ | NA |  NA |  NA |  NA | DS   | NA | NA | NA |  NA |  NA |\n| 16702 | 16706 | Eiyuu Densetsu: Sora no Kiseki Material Collection Portable | 2021 | Role-Playing | Falcom Corporation           | 0.01 | NA                 | PSP  | NA | ⋯ | NA |  NA |  NA |  NA | PSP  | NA | NA | NA |  NA |  NA |\n| 16703 | 16707 | STORM: Frontline Nation                                     | 2021 | Strategy     | Unknown                      | 0.01 | SimBin             | PC   | NA | ⋯ | 12 | 7.2 |  13 | 7.2 | PC   | NA | 60 | 12 | 7.2 |  13 |\n| 16704 | 16708 | Strawberry Nauts                                            | 2021 | Adventure    | Unknown                      | 0.01 | NA                 | PSV  | NA | ⋯ | NA |  NA |  NA |  NA | PSV  | NA | NA | NA |  NA |  NA |\n| 16705 | 16709 | Plushees                                                    | 2021 | Simulation   | Destineer                    | 0.01 | Big John Games     | DS   | NA | ⋯ | NA |  NA |  NA |  NA | DS   | NA | NA | NA |  NA |  NA |\n| 16706 | 16710 | 15 Days                                                     | 2021 | Adventure    | DTP Entertainment            | 0.01 | DTP Entertainment  | PC   | NA | ⋯ |  6 | 5.8 |   8 | 5.8 | PC   | NA | 63 |  6 | 5.8 |   8 |\n| 16707 | 16711 | Men in Black II: Alien Escape                               | 2021 | Shooter      | Infogrames                   | 0.01 | Atari              | GC   | NA | ⋯ | NA |  NA |  NA |  NA | GC   | NA | NA | NA |  NA |  NA |\n| 16708 | 16712 | Aiyoku no Eustia                                            | 2021 | Misc         | dramatic create              | 0.01 | NA                 | PSV  | NA | ⋯ | NA |  NA |  NA |  NA | PSV  | NA | NA | NA |  NA |  NA |\n| 16709 | 16713 | Woody Woodpecker in Crazy Castle 5                          | 2021 | Platform     | Kemco                        | 0.01 | NA                 | GBA  | NA | ⋯ | NA |  NA |  NA |  NA | GBA  | NA | NA | NA |  NA |  NA |\n| 16710 | 16714 | SCORE International Baja 1000: The Official Game            | 2021 | Racing       | Activision                   | 0.01 | NA                 | PS2  | NA | ⋯ | NA |  NA |  NA |  NA | PS2  | NA | NA | NA |  NA |  NA |\n| 16711 | 16715 | Samurai Warriors: Sanada Maru                               | 2021 | Action       | Tecmo Koei                   | 0.01 | NA                 | PS3  | NA | ⋯ | NA |  NA |  NA |  NA | PS3  | NA | NA | NA |  NA |  NA |\n| 16712 | 16716 | LMA Manager 2007                                            | 2021 | Sports       | Codemasters                  | 0.01 | NA                 | X360 | NA | ⋯ | NA |  NA |  NA |  NA | X360 | NA | NA | NA |  NA |  NA |\n| 16713 | 16717 | Haitaka no Psychedelica                                     | 2021 | Adventure    | Idea Factory                 | 0.01 | NA                 | PSV  | NA | ⋯ | NA |  NA |  NA |  NA | PSV  | NA | NA | NA |  NA |  NA |\n| 16714 | 16718 | Spirits &amp; Spells                                            | 2021 | Platform     | Wanadoo                      | 0.01 | NA                 | GBA  | NA | ⋯ | NA |  NA |  NA |  NA | GBA  | NA | NA | NA |  NA |  NA |\n| 16715 | 16719 | Winning Post 8 2016                                         | 2021 | Simulation   | Tecmo Koei                   | 0.01 | NA                 | PSV  | NA | ⋯ | NA |  NA |  NA |  NA | PSV  | NA | NA | NA |  NA |  NA |\n\n",
            "text/html": [
              "<table class=\"dataframe\">\n",
              "<caption>A data.frame: 16715 × 21</caption>\n",
              "<thead>\n",
              "\t<tr><th scope=col>ID</th><th scope=col>X</th><th scope=col>Name</th><th scope=col>Year_of_Release</th><th scope=col>Genre</th><th scope=col>Publisher</th><th scope=col>Global_players</th><th scope=col>Developer</th><th scope=col>Age_imp.x</th><th scope=col>Rating_imp.x</th><th scope=col>⋯</th><th scope=col>Critic_Count_imp.x</th><th scope=col>User_Score_imp.x</th><th scope=col>User_Count_imp.x</th><th scope=col>User_Score</th><th scope=col>Age_imp.y</th><th scope=col>Rating_imp.y</th><th scope=col>Critic_Score_imp.y</th><th scope=col>Critic_Count_imp.y</th><th scope=col>User_Score_imp.y</th><th scope=col>User_Count_imp.y</th></tr>\n",
              "\t<tr><th scope=col>&lt;int&gt;</th><th scope=col>&lt;int&gt;</th><th scope=col>&lt;chr&gt;</th><th scope=col>&lt;dbl&gt;</th><th scope=col>&lt;chr&gt;</th><th scope=col>&lt;chr&gt;</th><th scope=col>&lt;dbl&gt;</th><th scope=col>&lt;chr&gt;</th><th scope=col>&lt;chr&gt;</th><th scope=col>&lt;fct&gt;</th><th scope=col>⋯</th><th scope=col>&lt;int&gt;</th><th scope=col>&lt;dbl&gt;</th><th scope=col>&lt;int&gt;</th><th scope=col>&lt;dbl&gt;</th><th scope=col>&lt;chr&gt;</th><th scope=col>&lt;fct&gt;</th><th scope=col>&lt;int&gt;</th><th scope=col>&lt;int&gt;</th><th scope=col>&lt;dbl&gt;</th><th scope=col>&lt;int&gt;</th></tr>\n",
              "</thead>\n",
              "<tbody>\n",
              "\t<tr><td> 1</td><td> 1</td><td>Wii Sports                                  </td><td>2021</td><td>Sports      </td><td>Nintendo                   </td><td>82.53</td><td>Nintendo                         </td><td>Wii </td><td>NA</td><td>⋯</td><td>51</td><td>8.0</td><td> 322</td><td>8.0</td><td>Wii </td><td>NA</td><td>76</td><td>51</td><td>8.0</td><td> 322</td></tr>\n",
              "\t<tr><td> 2</td><td> 2</td><td>Super Mario Bros.                           </td><td>2021</td><td>Platform    </td><td>Nintendo                   </td><td>40.24</td><td>NA                               </td><td>NES </td><td>NA</td><td>⋯</td><td>NA</td><td> NA</td><td>  NA</td><td> NA</td><td>NES </td><td>NA</td><td>NA</td><td>NA</td><td> NA</td><td>  NA</td></tr>\n",
              "\t<tr><td> 3</td><td> 3</td><td>Mario Kart Wii                              </td><td>2021</td><td>Racing      </td><td>Nintendo                   </td><td>35.52</td><td>Nintendo                         </td><td>Wii </td><td>NA</td><td>⋯</td><td>73</td><td>8.3</td><td> 709</td><td>8.3</td><td>Wii </td><td>NA</td><td>82</td><td>73</td><td>8.3</td><td> 709</td></tr>\n",
              "\t<tr><td> 4</td><td> 4</td><td>Wii Sports Resort                           </td><td>2021</td><td>Sports      </td><td>Nintendo                   </td><td>32.77</td><td>Nintendo                         </td><td>Wii </td><td>NA</td><td>⋯</td><td>73</td><td>8.0</td><td> 192</td><td>8.0</td><td>Wii </td><td>NA</td><td>80</td><td>73</td><td>8.0</td><td> 192</td></tr>\n",
              "\t<tr><td> 5</td><td> 5</td><td>Pokemon Red/Pokemon Blue                    </td><td>2021</td><td>Role-Playing</td><td>Nintendo                   </td><td>31.37</td><td>NA                               </td><td>GB  </td><td>NA</td><td>⋯</td><td>NA</td><td> NA</td><td>  NA</td><td> NA</td><td>GB  </td><td>NA</td><td>NA</td><td>NA</td><td> NA</td><td>  NA</td></tr>\n",
              "\t<tr><td> 6</td><td> 6</td><td>Tetris                                      </td><td>2021</td><td>Puzzle      </td><td>Nintendo                   </td><td>30.26</td><td>NA                               </td><td>GB  </td><td>NA</td><td>⋯</td><td>NA</td><td> NA</td><td>  NA</td><td> NA</td><td>GB  </td><td>NA</td><td>NA</td><td>NA</td><td> NA</td><td>  NA</td></tr>\n",
              "\t<tr><td> 7</td><td> 7</td><td>New Super Mario Bros.                       </td><td>2021</td><td>Platform    </td><td>Nintendo                   </td><td>29.80</td><td>Nintendo                         </td><td>DS  </td><td>NA</td><td>⋯</td><td>65</td><td>8.5</td><td> 431</td><td>8.5</td><td>DS  </td><td>NA</td><td>89</td><td>65</td><td>8.5</td><td> 431</td></tr>\n",
              "\t<tr><td> 8</td><td> 8</td><td>Wii Play                                    </td><td>2021</td><td>Misc        </td><td>Nintendo                   </td><td>28.92</td><td>Nintendo                         </td><td>Wii </td><td>NA</td><td>⋯</td><td>41</td><td>6.6</td><td> 129</td><td>6.6</td><td>Wii </td><td>NA</td><td>58</td><td>41</td><td>6.6</td><td> 129</td></tr>\n",
              "\t<tr><td> 9</td><td> 9</td><td>New Super Mario Bros. Wii                   </td><td>2021</td><td>Platform    </td><td>Nintendo                   </td><td>28.32</td><td>Nintendo                         </td><td>Wii </td><td>NA</td><td>⋯</td><td>80</td><td>8.4</td><td> 594</td><td>8.4</td><td>Wii </td><td>NA</td><td>87</td><td>80</td><td>8.4</td><td> 594</td></tr>\n",
              "\t<tr><td>10</td><td>10</td><td>Duck Hunt                                   </td><td>2021</td><td>Shooter     </td><td>Nintendo                   </td><td>28.31</td><td>NA                               </td><td>NES </td><td>NA</td><td>⋯</td><td>NA</td><td> NA</td><td>  NA</td><td> NA</td><td>NES </td><td>NA</td><td>NA</td><td>NA</td><td> NA</td><td>  NA</td></tr>\n",
              "\t<tr><td>11</td><td>11</td><td>Nintendogs                                  </td><td>2021</td><td>Simulation  </td><td>Nintendo                   </td><td>24.67</td><td>NA                               </td><td>DS  </td><td>NA</td><td>⋯</td><td>NA</td><td> NA</td><td>  NA</td><td> NA</td><td>DS  </td><td>NA</td><td>NA</td><td>NA</td><td> NA</td><td>  NA</td></tr>\n",
              "\t<tr><td>12</td><td>12</td><td>Mario Kart DS                               </td><td>2021</td><td>Racing      </td><td>Nintendo                   </td><td>23.21</td><td>Nintendo                         </td><td>DS  </td><td>NA</td><td>⋯</td><td>64</td><td>8.6</td><td> 464</td><td>8.6</td><td>DS  </td><td>NA</td><td>91</td><td>64</td><td>8.6</td><td> 464</td></tr>\n",
              "\t<tr><td>13</td><td>13</td><td>Pokemon Gold/Pokemon Silver                 </td><td>2021</td><td>Role-Playing</td><td>Nintendo                   </td><td>23.10</td><td>NA                               </td><td>GB  </td><td>NA</td><td>⋯</td><td>NA</td><td> NA</td><td>  NA</td><td> NA</td><td>GB  </td><td>NA</td><td>NA</td><td>NA</td><td> NA</td><td>  NA</td></tr>\n",
              "\t<tr><td>14</td><td>14</td><td>Wii Fit                                     </td><td>2021</td><td>Sports      </td><td>Nintendo                   </td><td>22.70</td><td>Nintendo                         </td><td>Wii </td><td>NA</td><td>⋯</td><td>63</td><td>7.7</td><td> 146</td><td>7.7</td><td>Wii </td><td>NA</td><td>80</td><td>63</td><td>7.7</td><td> 146</td></tr>\n",
              "\t<tr><td>15</td><td>15</td><td>Kinect Adventures!                          </td><td>2021</td><td>Misc        </td><td>Microsoft Game Studios     </td><td>21.81</td><td>Good Science Studio              </td><td>X360</td><td>NA</td><td>⋯</td><td>45</td><td>6.3</td><td> 106</td><td>6.3</td><td>X360</td><td>NA</td><td>61</td><td>45</td><td>6.3</td><td> 106</td></tr>\n",
              "\t<tr><td>16</td><td>16</td><td>Wii Fit Plus                                </td><td>2021</td><td>Sports      </td><td>Nintendo                   </td><td>21.79</td><td>Nintendo                         </td><td>Wii </td><td>NA</td><td>⋯</td><td>33</td><td>7.4</td><td>  52</td><td>7.4</td><td>Wii </td><td>NA</td><td>80</td><td>33</td><td>7.4</td><td>  52</td></tr>\n",
              "\t<tr><td>17</td><td>17</td><td>Grand Theft Auto V                          </td><td>2021</td><td>Action      </td><td>Take-Two Interactive       </td><td>21.04</td><td>Rockstar North                   </td><td>PS3 </td><td>NA</td><td>⋯</td><td>50</td><td>8.2</td><td>3994</td><td>8.2</td><td>PS3 </td><td>NA</td><td>97</td><td>50</td><td>8.2</td><td>3994</td></tr>\n",
              "\t<tr><td>18</td><td>18</td><td>Grand Theft Auto: San Andreas               </td><td>2021</td><td>Action      </td><td>Take-Two Interactive       </td><td>20.81</td><td>Rockstar North                   </td><td>PS2 </td><td>NA</td><td>⋯</td><td>80</td><td>9.0</td><td>1588</td><td>9.0</td><td>PS2 </td><td>NA</td><td>95</td><td>80</td><td>9.0</td><td>1588</td></tr>\n",
              "\t<tr><td>19</td><td>19</td><td>Super Mario World                           </td><td>2021</td><td>Platform    </td><td>Nintendo                   </td><td>20.61</td><td>NA                               </td><td>SNES</td><td>NA</td><td>⋯</td><td>NA</td><td> NA</td><td>  NA</td><td> NA</td><td>SNES</td><td>NA</td><td>NA</td><td>NA</td><td> NA</td><td>  NA</td></tr>\n",
              "\t<tr><td>20</td><td>20</td><td>Brain Age: Train Your Brain in Minutes a Day</td><td>2021</td><td>Misc        </td><td>Nintendo                   </td><td>20.15</td><td>Nintendo                         </td><td>DS  </td><td>NA</td><td>⋯</td><td>58</td><td>7.9</td><td>  50</td><td>7.9</td><td>DS  </td><td>NA</td><td>77</td><td>58</td><td>7.9</td><td>  50</td></tr>\n",
              "\t<tr><td>21</td><td>21</td><td>Pokemon Diamond/Pokemon Pearl               </td><td>2021</td><td>Role-Playing</td><td>Nintendo                   </td><td>18.25</td><td>NA                               </td><td>DS  </td><td>NA</td><td>⋯</td><td>NA</td><td> NA</td><td>  NA</td><td> NA</td><td>DS  </td><td>NA</td><td>NA</td><td>NA</td><td> NA</td><td>  NA</td></tr>\n",
              "\t<tr><td>22</td><td>22</td><td>Super Mario Land                            </td><td>2021</td><td>Platform    </td><td>Nintendo                   </td><td>18.14</td><td>NA                               </td><td>GB  </td><td>NA</td><td>⋯</td><td>NA</td><td> NA</td><td>  NA</td><td> NA</td><td>GB  </td><td>NA</td><td>NA</td><td>NA</td><td> NA</td><td>  NA</td></tr>\n",
              "\t<tr><td>23</td><td>23</td><td>Super Mario Bros. 3                         </td><td>2021</td><td>Platform    </td><td>Nintendo                   </td><td>17.28</td><td>NA                               </td><td>NES </td><td>NA</td><td>⋯</td><td>NA</td><td> NA</td><td>  NA</td><td> NA</td><td>NES </td><td>NA</td><td>NA</td><td>NA</td><td> NA</td><td>  NA</td></tr>\n",
              "\t<tr><td>24</td><td>24</td><td>Grand Theft Auto V                          </td><td>2021</td><td>Action      </td><td>Take-Two Interactive       </td><td>16.27</td><td>Rockstar North                   </td><td>X360</td><td>NA</td><td>⋯</td><td>58</td><td>8.1</td><td>3711</td><td>8.1</td><td>X360</td><td>NA</td><td>97</td><td>58</td><td>8.1</td><td>3711</td></tr>\n",
              "\t<tr><td>25</td><td>25</td><td>Grand Theft Auto: Vice City                 </td><td>2021</td><td>Action      </td><td>Take-Two Interactive       </td><td>16.15</td><td>Rockstar North                   </td><td>PS2 </td><td>NA</td><td>⋯</td><td>62</td><td>8.7</td><td> 730</td><td>8.7</td><td>PS2 </td><td>NA</td><td>95</td><td>62</td><td>8.7</td><td> 730</td></tr>\n",
              "\t<tr><td>26</td><td>26</td><td>Pokemon Ruby/Pokemon Sapphire               </td><td>2021</td><td>Role-Playing</td><td>Nintendo                   </td><td>15.85</td><td>NA                               </td><td>GBA </td><td>NA</td><td>⋯</td><td>NA</td><td> NA</td><td>  NA</td><td> NA</td><td>GBA </td><td>NA</td><td>NA</td><td>NA</td><td> NA</td><td>  NA</td></tr>\n",
              "\t<tr><td>27</td><td>27</td><td>Brain Age 2: More Training in Minutes a Day </td><td>2021</td><td>Puzzle      </td><td>Nintendo                   </td><td>15.29</td><td>Nintendo                         </td><td>DS  </td><td>NA</td><td>⋯</td><td>37</td><td>7.1</td><td>  19</td><td>7.1</td><td>DS  </td><td>NA</td><td>77</td><td>37</td><td>7.1</td><td>  19</td></tr>\n",
              "\t<tr><td>28</td><td>28</td><td>Pokemon Black/Pokemon White                 </td><td>2021</td><td>Role-Playing</td><td>Nintendo                   </td><td>15.14</td><td>NA                               </td><td>DS  </td><td>NA</td><td>⋯</td><td>NA</td><td> NA</td><td>  NA</td><td> NA</td><td>DS  </td><td>NA</td><td>NA</td><td>NA</td><td> NA</td><td>  NA</td></tr>\n",
              "\t<tr><td>29</td><td>29</td><td>Gran Turismo 3: A-Spec                      </td><td>2021</td><td>Racing      </td><td>Sony Computer Entertainment</td><td>14.98</td><td>Polyphony Digital                </td><td>PS2 </td><td>NA</td><td>⋯</td><td>54</td><td>8.4</td><td> 314</td><td>8.4</td><td>PS2 </td><td>NA</td><td>95</td><td>54</td><td>8.4</td><td> 314</td></tr>\n",
              "\t<tr><td>30</td><td>30</td><td>Call of Duty: Modern Warfare 3              </td><td>2021</td><td>Shooter     </td><td>Activision                 </td><td>14.73</td><td>Infinity Ward, Sledgehammer Games</td><td>X360</td><td>NA</td><td>⋯</td><td>81</td><td>3.4</td><td>8713</td><td>3.4</td><td>X360</td><td>NA</td><td>88</td><td>81</td><td>3.4</td><td>8713</td></tr>\n",
              "\t<tr><td>⋮</td><td>⋮</td><td>⋮</td><td>⋮</td><td>⋮</td><td>⋮</td><td>⋮</td><td>⋮</td><td>⋮</td><td>⋮</td><td>⋱</td><td>⋮</td><td>⋮</td><td>⋮</td><td>⋮</td><td>⋮</td><td>⋮</td><td>⋮</td><td>⋮</td><td>⋮</td><td>⋮</td></tr>\n",
              "\t<tr><td>16686</td><td>16690</td><td>Help Wanted: 50 Wacky Jobs (jp sales)                      </td><td>2021</td><td>Simulation  </td><td>Hudson Soft                 </td><td>0.01</td><td>NA                </td><td>Wii </td><td>NA</td><td>⋯</td><td>NA</td><td> NA</td><td> NA</td><td> NA</td><td>Wii </td><td>NA</td><td>NA</td><td>NA</td><td> NA</td><td> NA</td></tr>\n",
              "\t<tr><td>16687</td><td>16691</td><td>Yattaman Wii: BikkuriDokkiri Machine de Mou Race da Koron  </td><td>2021</td><td>Racing      </td><td>Takara Tomy                 </td><td>0.01</td><td>NA                </td><td>Wii </td><td>NA</td><td>⋯</td><td>NA</td><td> NA</td><td> NA</td><td> NA</td><td>Wii </td><td>NA</td><td>NA</td><td>NA</td><td> NA</td><td> NA</td></tr>\n",
              "\t<tr><td>16688</td><td>16692</td><td>Neo Angelique Special                                      </td><td>2021</td><td>Adventure   </td><td>Tecmo Koei                  </td><td>0.01</td><td>NA                </td><td>PSP </td><td>NA</td><td>⋯</td><td>NA</td><td> NA</td><td> NA</td><td> NA</td><td>PSP </td><td>NA</td><td>NA</td><td>NA</td><td> NA</td><td> NA</td></tr>\n",
              "\t<tr><td>16689</td><td>16693</td><td>Outdoors Unleashed: Africa 3D                              </td><td>2021</td><td>Sports      </td><td>Mastiff                     </td><td>0.01</td><td>Mastiff           </td><td>3DS </td><td>NA</td><td>⋯</td><td>NA</td><td> NA</td><td> NA</td><td> NA</td><td>3DS </td><td>NA</td><td>NA</td><td>NA</td><td> NA</td><td> NA</td></tr>\n",
              "\t<tr><td>16690</td><td>16694</td><td>Real Rode                                                  </td><td>2021</td><td>Adventure   </td><td>Kadokawa Shoten             </td><td>0.01</td><td>NA                </td><td>PS2 </td><td>NA</td><td>⋯</td><td>NA</td><td> NA</td><td> NA</td><td> NA</td><td>PS2 </td><td>NA</td><td>NA</td><td>NA</td><td> NA</td><td> NA</td></tr>\n",
              "\t<tr><td>16691</td><td>16695</td><td>Pony Friends 2                                             </td><td>2021</td><td>Simulation  </td><td>Eidos Interactive           </td><td>0.01</td><td>NA                </td><td>PC  </td><td>NA</td><td>⋯</td><td>NA</td><td> NA</td><td> NA</td><td> NA</td><td>PC  </td><td>NA</td><td>NA</td><td>NA</td><td> NA</td><td> NA</td></tr>\n",
              "\t<tr><td>16692</td><td>16696</td><td>Dynasty Warriors: Eiketsuden                               </td><td>2021</td><td>Action      </td><td>Tecmo Koei                  </td><td>0.01</td><td>NA                </td><td>PS3 </td><td>NA</td><td>⋯</td><td>NA</td><td> NA</td><td> NA</td><td> NA</td><td>PS3 </td><td>NA</td><td>NA</td><td>NA</td><td> NA</td><td> NA</td></tr>\n",
              "\t<tr><td>16693</td><td>16697</td><td>Metal Gear Solid V: Ground Zeroes                          </td><td>2021</td><td>Action      </td><td>Konami Digital Entertainment</td><td>0.01</td><td>Kojima Productions</td><td>PC  </td><td>NA</td><td>⋯</td><td>20</td><td>7.6</td><td>412</td><td>7.6</td><td>PC  </td><td>NA</td><td>80</td><td>20</td><td>7.6</td><td>412</td></tr>\n",
              "\t<tr><td>16694</td><td>16698</td><td>PGA European Tour                                          </td><td>2021</td><td>Sports      </td><td>Infogrames                  </td><td>0.01</td><td>NA                </td><td>N64 </td><td>NA</td><td>⋯</td><td>NA</td><td> NA</td><td> NA</td><td> NA</td><td>N64 </td><td>NA</td><td>NA</td><td>NA</td><td> NA</td><td> NA</td></tr>\n",
              "\t<tr><td>16695</td><td>16699</td><td>Carmageddon 64                                             </td><td>2021</td><td>Action      </td><td>Virgin Interactive          </td><td>0.01</td><td>NA                </td><td>N64 </td><td>NA</td><td>⋯</td><td>NA</td><td> NA</td><td> NA</td><td> NA</td><td>N64 </td><td>NA</td><td>NA</td><td>NA</td><td> NA</td><td> NA</td></tr>\n",
              "\t<tr><td>16696</td><td>16700</td><td>Planet Monsters                                            </td><td>2021</td><td>Action      </td><td>Titus                       </td><td>0.01</td><td>Planet Interactive</td><td>GBA </td><td>NA</td><td>⋯</td><td> 9</td><td> NA</td><td> NA</td><td> NA</td><td>GBA </td><td>NA</td><td>67</td><td> 9</td><td> NA</td><td> NA</td></tr>\n",
              "\t<tr><td>16697</td><td>16701</td><td>Breach                                                     </td><td>2021</td><td>Shooter     </td><td>Destineer                   </td><td>0.01</td><td>Atomic Games      </td><td>PC  </td><td>NA</td><td>⋯</td><td>12</td><td>5.8</td><td> 43</td><td>5.8</td><td>PC  </td><td>NA</td><td>61</td><td>12</td><td>5.8</td><td> 43</td></tr>\n",
              "\t<tr><td>16698</td><td>16702</td><td>Bust-A-Move 3000                                           </td><td>2021</td><td>Puzzle      </td><td>Ubisoft                     </td><td>0.01</td><td>Taito Corporation </td><td>GC  </td><td>NA</td><td>⋯</td><td> 4</td><td> NA</td><td> NA</td><td> NA</td><td>GC  </td><td>NA</td><td>53</td><td> 4</td><td> NA</td><td> NA</td></tr>\n",
              "\t<tr><td>16699</td><td>16703</td><td>Mega Brain Boost                                           </td><td>2021</td><td>Puzzle      </td><td>Majesco Entertainment       </td><td>0.01</td><td>Interchannel-Holon</td><td>DS  </td><td>NA</td><td>⋯</td><td>10</td><td> NA</td><td> NA</td><td> NA</td><td>DS  </td><td>NA</td><td>48</td><td>10</td><td> NA</td><td> NA</td></tr>\n",
              "\t<tr><td>16700</td><td>16704</td><td>The Longest 5 Minutes                                      </td><td>2021</td><td>Action      </td><td>Nippon Ichi Software        </td><td>0.01</td><td>NA                </td><td>PSV </td><td>NA</td><td>⋯</td><td>NA</td><td> NA</td><td> NA</td><td> NA</td><td>PSV </td><td>NA</td><td>NA</td><td>NA</td><td> NA</td><td> NA</td></tr>\n",
              "\t<tr><td>16701</td><td>16705</td><td>Mezase!! Tsuri Master DS                                   </td><td>2021</td><td>Sports      </td><td>Hudson Soft                 </td><td>0.01</td><td>NA                </td><td>DS  </td><td>NA</td><td>⋯</td><td>NA</td><td> NA</td><td> NA</td><td> NA</td><td>DS  </td><td>NA</td><td>NA</td><td>NA</td><td> NA</td><td> NA</td></tr>\n",
              "\t<tr><td>16702</td><td>16706</td><td>Eiyuu Densetsu: Sora no Kiseki Material Collection Portable</td><td>2021</td><td>Role-Playing</td><td>Falcom Corporation          </td><td>0.01</td><td>NA                </td><td>PSP </td><td>NA</td><td>⋯</td><td>NA</td><td> NA</td><td> NA</td><td> NA</td><td>PSP </td><td>NA</td><td>NA</td><td>NA</td><td> NA</td><td> NA</td></tr>\n",
              "\t<tr><td>16703</td><td>16707</td><td>STORM: Frontline Nation                                    </td><td>2021</td><td>Strategy    </td><td>Unknown                     </td><td>0.01</td><td>SimBin            </td><td>PC  </td><td>NA</td><td>⋯</td><td>12</td><td>7.2</td><td> 13</td><td>7.2</td><td>PC  </td><td>NA</td><td>60</td><td>12</td><td>7.2</td><td> 13</td></tr>\n",
              "\t<tr><td>16704</td><td>16708</td><td>Strawberry Nauts                                           </td><td>2021</td><td>Adventure   </td><td>Unknown                     </td><td>0.01</td><td>NA                </td><td>PSV </td><td>NA</td><td>⋯</td><td>NA</td><td> NA</td><td> NA</td><td> NA</td><td>PSV </td><td>NA</td><td>NA</td><td>NA</td><td> NA</td><td> NA</td></tr>\n",
              "\t<tr><td>16705</td><td>16709</td><td>Plushees                                                   </td><td>2021</td><td>Simulation  </td><td>Destineer                   </td><td>0.01</td><td>Big John Games    </td><td>DS  </td><td>NA</td><td>⋯</td><td>NA</td><td> NA</td><td> NA</td><td> NA</td><td>DS  </td><td>NA</td><td>NA</td><td>NA</td><td> NA</td><td> NA</td></tr>\n",
              "\t<tr><td>16706</td><td>16710</td><td>15 Days                                                    </td><td>2021</td><td>Adventure   </td><td>DTP Entertainment           </td><td>0.01</td><td>DTP Entertainment </td><td>PC  </td><td>NA</td><td>⋯</td><td> 6</td><td>5.8</td><td>  8</td><td>5.8</td><td>PC  </td><td>NA</td><td>63</td><td> 6</td><td>5.8</td><td>  8</td></tr>\n",
              "\t<tr><td>16707</td><td>16711</td><td>Men in Black II: Alien Escape                              </td><td>2021</td><td>Shooter     </td><td>Infogrames                  </td><td>0.01</td><td>Atari             </td><td>GC  </td><td>NA</td><td>⋯</td><td>NA</td><td> NA</td><td> NA</td><td> NA</td><td>GC  </td><td>NA</td><td>NA</td><td>NA</td><td> NA</td><td> NA</td></tr>\n",
              "\t<tr><td>16708</td><td>16712</td><td>Aiyoku no Eustia                                           </td><td>2021</td><td>Misc        </td><td>dramatic create             </td><td>0.01</td><td>NA                </td><td>PSV </td><td>NA</td><td>⋯</td><td>NA</td><td> NA</td><td> NA</td><td> NA</td><td>PSV </td><td>NA</td><td>NA</td><td>NA</td><td> NA</td><td> NA</td></tr>\n",
              "\t<tr><td>16709</td><td>16713</td><td>Woody Woodpecker in Crazy Castle 5                         </td><td>2021</td><td>Platform    </td><td>Kemco                       </td><td>0.01</td><td>NA                </td><td>GBA </td><td>NA</td><td>⋯</td><td>NA</td><td> NA</td><td> NA</td><td> NA</td><td>GBA </td><td>NA</td><td>NA</td><td>NA</td><td> NA</td><td> NA</td></tr>\n",
              "\t<tr><td>16710</td><td>16714</td><td>SCORE International Baja 1000: The Official Game           </td><td>2021</td><td>Racing      </td><td>Activision                  </td><td>0.01</td><td>NA                </td><td>PS2 </td><td>NA</td><td>⋯</td><td>NA</td><td> NA</td><td> NA</td><td> NA</td><td>PS2 </td><td>NA</td><td>NA</td><td>NA</td><td> NA</td><td> NA</td></tr>\n",
              "\t<tr><td>16711</td><td>16715</td><td>Samurai Warriors: Sanada Maru                              </td><td>2021</td><td>Action      </td><td>Tecmo Koei                  </td><td>0.01</td><td>NA                </td><td>PS3 </td><td>NA</td><td>⋯</td><td>NA</td><td> NA</td><td> NA</td><td> NA</td><td>PS3 </td><td>NA</td><td>NA</td><td>NA</td><td> NA</td><td> NA</td></tr>\n",
              "\t<tr><td>16712</td><td>16716</td><td>LMA Manager 2007                                           </td><td>2021</td><td>Sports      </td><td>Codemasters                 </td><td>0.01</td><td>NA                </td><td>X360</td><td>NA</td><td>⋯</td><td>NA</td><td> NA</td><td> NA</td><td> NA</td><td>X360</td><td>NA</td><td>NA</td><td>NA</td><td> NA</td><td> NA</td></tr>\n",
              "\t<tr><td>16713</td><td>16717</td><td>Haitaka no Psychedelica                                    </td><td>2021</td><td>Adventure   </td><td>Idea Factory                </td><td>0.01</td><td>NA                </td><td>PSV </td><td>NA</td><td>⋯</td><td>NA</td><td> NA</td><td> NA</td><td> NA</td><td>PSV </td><td>NA</td><td>NA</td><td>NA</td><td> NA</td><td> NA</td></tr>\n",
              "\t<tr><td>16714</td><td>16718</td><td><span style=white-space:pre-wrap>Spirits &amp; Spells                                           </span></td><td>2021</td><td><span style=white-space:pre-wrap>Platform    </span></td><td><span style=white-space:pre-wrap>Wanadoo                     </span></td><td>0.01</td><td><span style=white-space:pre-wrap>NA                </span></td><td>GBA </td><td>NA</td><td>⋯</td><td>NA</td><td> NA</td><td> NA</td><td> NA</td><td>GBA </td><td>NA</td><td>NA</td><td>NA</td><td> NA</td><td> NA</td></tr>\n",
              "\t<tr><td>16715</td><td>16719</td><td>Winning Post 8 2016                                        </td><td>2021</td><td>Simulation  </td><td>Tecmo Koei                  </td><td>0.01</td><td>NA                </td><td>PSV </td><td>NA</td><td>⋯</td><td>NA</td><td> NA</td><td> NA</td><td> NA</td><td>PSV </td><td>NA</td><td>NA</td><td>NA</td><td> NA</td><td> NA</td></tr>\n",
              "</tbody>\n",
              "</table>\n"
            ]
          },
          "metadata": {}
        }
      ]
    },
    {
      "cell_type": "code",
      "metadata": {
        "colab": {
          "base_uri": "https://localhost:8080/",
          "height": 148
        },
        "id": "R2HMP2-3Mc6D",
        "outputId": "3ac2881b-132d-46b7-f0c9-bfd094e7c888"
      },
      "source": [
        "qplot(x=Platform,data=sales_data)+ geom_bar(fill=\"navy\") + theme(axis.text = element_text) + coord_flip() + theme_minimal() + facet_wrap(~Genre,nrow=1)"
      ],
      "execution_count": 46,
      "outputs": [
        {
          "output_type": "error",
          "ename": "ERROR",
          "evalue": "ignored",
          "traceback": [
            "Error in eval_tidy(mapping$x, data, caller_env): object 'Platform' not found\nTraceback:\n",
            "1. qplot(x = Platform, data = sales_data)",
            "2. eval_tidy(mapping$x, data, caller_env)"
          ]
        }
      ]
    },
    {
      "cell_type": "code",
      "metadata": {
        "colab": {
          "base_uri": "https://localhost:8080/",
          "height": 148
        },
        "id": "ztlYYeBw6CtQ",
        "outputId": "7fc6c8cf-aee3-471a-9737-64d9875488a5"
      },
      "source": [
        "cor_df <- data.frame(sales_data$Age_imp, sales_data$Critic_Score_imp, sales_data$Critic_Count_imp, sales_data$User_Score_imp, sales_data$User_Count_imp, sales_data$Global)\n",
        "cor_matrix<-cor(cor_df)\n",
        "corrplot(cor_matrix, diag = FALSE, order = \"FPC\", tl.pos = \"td\", tl.cex = 0.5, method = \"circle\",type=\"upper\")\n"
      ],
      "execution_count": 47,
      "outputs": [
        {
          "output_type": "error",
          "ename": "ERROR",
          "evalue": "ignored",
          "traceback": [
            "Error in cor(cor_df): 'x' must be numeric\nTraceback:\n",
            "1. cor(cor_df)",
            "2. stop(\"'x' must be numeric\")"
          ]
        }
      ]
    },
    {
      "cell_type": "code",
      "metadata": {
        "colab": {
          "base_uri": "https://localhost:8080/"
        },
        "id": "28j3dB426-4_",
        "outputId": "5f469251-a669-4b38-df64-788f7d371537"
      },
      "source": [
        "install.packages('caTools')\n",
        "library(caTools)\n"
      ],
      "execution_count": 68,
      "outputs": [
        {
          "output_type": "stream",
          "name": "stderr",
          "text": [
            "Installing package into ‘/usr/local/lib/R/site-library’\n",
            "(as ‘lib’ is unspecified)\n",
            "\n"
          ]
        }
      ]
    },
    {
      "cell_type": "code",
      "metadata": {
        "id": "U-M1qikC7FO4"
      },
      "source": [
        "sales_dataset1 = subset(sales_data, select = -c(Name, Publisher, Developer))\n",
        "\n",
        "### Exp 1 - train:test 70:30, seed 555\n",
        "set.seed(555)\n",
        "split = sample.split(sales_dataset1$Global, SplitRatio = 0.7)\n",
        "train_dataset1 = subset(sales_dataset1, split == TRUE)\n",
        "test_dataset1 = subset(sales_dataset1, split == FALSE)\n",
        "\n"
      ],
      "execution_count": 74,
      "outputs": []
    },
    {
      "cell_type": "code",
      "metadata": {
        "colab": {
          "base_uri": "https://localhost:8080/",
          "height": 1000
        },
        "id": "GTM_Zuf-8dSd",
        "outputId": "dc664392-6381-4469-d4fa-cc3fb190393c"
      },
      "source": [
        "regressor1 = lm(formula = Global_players ~ .,\n",
        "               data = train_dataset1)\n",
        "summary(regressor1)\n",
        "summ(regressor1, confint = TRUE)\n",
        "\n",
        "\n",
        "y1 = predict(regressor1, train_dataset1)\n",
        "table(y1, train_dataset1$Global_players)\n",
        "\n",
        "y_pred1 = predict(regressor1, test_dataset1)\n",
        "table(y_pred1, test_dataset1$Global_players)"
      ],
      "execution_count": 75,
      "outputs": [
        {
          "output_type": "display_data",
          "data": {
            "text/plain": [
              "\n",
              "Call:\n",
              "lm(formula = Global_players ~ ., data = train_dataset1)\n",
              "\n",
              "Residuals:\n",
              "   Min     1Q Median     3Q    Max \n",
              "-7.086 -0.628 -0.196  0.285 79.380 \n",
              "\n",
              "Coefficients: (1 not defined because of singularities)\n",
              "                    Estimate Std. Error t value Pr(>|t|)    \n",
              "(Intercept)        8.171e-01  2.122e+00   0.385  0.70025    \n",
              "X                 -1.227e-04  9.587e-06 -12.803  < 2e-16 ***\n",
              "Year_of_Release           NA         NA      NA       NA    \n",
              "GenreAdventure     3.222e-02  1.909e-01   0.169  0.86596    \n",
              "GenreFighting     -1.600e-02  1.607e-01  -0.100  0.92068    \n",
              "GenreMisc          4.036e-01  1.600e-01   2.523  0.01169 *  \n",
              "GenrePlatform      1.116e-01  1.604e-01   0.696  0.48632    \n",
              "GenrePuzzle       -1.739e-01  2.575e-01  -0.675  0.49956    \n",
              "GenreRacing        1.314e-01  1.469e-01   0.894  0.37133    \n",
              "GenreRole-Playing -1.828e-01  1.263e-01  -1.448  0.14779    \n",
              "GenreShooter       7.914e-02  1.200e-01   0.659  0.50978    \n",
              "GenreSimulation    1.306e-01  1.771e-01   0.738  0.46076    \n",
              "GenreSports        1.337e-02  1.362e-01   0.098  0.92184    \n",
              "GenreStrategy      3.929e-02  1.837e-01   0.214  0.83067    \n",
              "Age_impDC         -2.581e-01  7.371e-01  -0.350  0.72623    \n",
              "Age_impDS          2.132e-01  2.446e-01   0.872  0.38348    \n",
              "Age_impGBA        -1.201e-01  2.732e-01  -0.439  0.66038    \n",
              "Age_impGC         -2.523e-01  2.567e-01  -0.983  0.32574    \n",
              "Age_impPC         -5.269e-01  2.501e-01  -2.107  0.03522 *  \n",
              "Age_impPS          4.936e-01  2.988e-01   1.652  0.09857 .  \n",
              "Age_impPS3        -2.627e-01  2.350e-01  -1.118  0.26362    \n",
              "Age_impPS4        -3.490e-01  2.696e-01  -1.295  0.19555    \n",
              "Age_impPSP        -1.908e-01  2.508e-01  -0.761  0.44671    \n",
              "Age_impPSV        -3.268e-01  3.130e-01  -1.044  0.29639    \n",
              "Age_impWii         6.484e-01  2.429e-01   2.669  0.00763 ** \n",
              "Age_impWiiU       -2.958e-01  3.417e-01  -0.866  0.38666    \n",
              "Age_impX360       -3.134e-01  2.342e-01  -1.338  0.18093    \n",
              "Age_impXB         -3.547e-01  2.445e-01  -1.451  0.14690    \n",
              "Age_impXOne       -3.061e-01  2.994e-01  -1.023  0.30655    \n",
              "Rating_impE        1.851e-01  2.100e+00   0.088  0.92979    \n",
              "Rating_impE10+    -2.352e-01  2.101e+00  -0.112  0.91084    \n",
              "Rating_impK-A     -6.128e-01  2.974e+00  -0.206  0.83677    \n",
              "Rating_impM       -1.566e-01  2.099e+00  -0.075  0.94055    \n",
              "Rating_impRP       8.179e-01  2.971e+00   0.275  0.78308    \n",
              "Rating_impT       -1.854e-01  2.099e+00  -0.088  0.92960    \n",
              "Critic_Score_imp   1.112e-02  3.597e-03   3.093  0.00200 ** \n",
              "Critic_Count_imp   1.532e-02  2.334e-03   6.562 5.98e-11 ***\n",
              "User_Score_imp    -4.880e-02  3.099e-02  -1.575  0.11535    \n",
              "User_Count_imp     7.772e-04  6.474e-05  12.006  < 2e-16 ***\n",
              "---\n",
              "Signif. codes:  0 ‘***’ 0.001 ‘**’ 0.01 ‘*’ 0.05 ‘.’ 0.1 ‘ ’ 1\n",
              "\n",
              "Residual standard error: 2.093 on 3999 degrees of freedom\n",
              "  (6194 observations deleted due to missingness)\n",
              "Multiple R-squared:  0.227,\tAdjusted R-squared:  0.2198 \n",
              "F-statistic: 31.73 on 37 and 3999 DF,  p-value: < 2.2e-16\n"
            ]
          },
          "metadata": {}
        },
        {
          "output_type": "error",
          "ename": "ERROR",
          "evalue": "ignored",
          "traceback": [
            "Error in summ(regressor1, confint = TRUE): could not find function \"summ\"\nTraceback:\n"
          ]
        }
      ]
    },
    {
      "cell_type": "code",
      "metadata": {
        "colab": {
          "base_uri": "https://localhost:8080/",
          "height": 96
        },
        "id": "HIk4_jRS8kb8",
        "outputId": "91afa03a-bd4a-4fe6-bd1f-8eec38502587"
      },
      "source": [
        "library(Metrics)\n",
        "RMSE(y1, train_dataset1$Global_Sales)\n",
        "# RMSE on test set\n",
        "RMSE(y_pred1, test_dataset1$Global_Sales)\n",
        "# MAE train dataset\n",
        "MAE(y1, train_dataset1$Global_Sales)\n",
        "# MAE test dataset\n",
        "MAE(y_pred1, test_dataset1$Global_Sales)"
      ],
      "execution_count": 79,
      "outputs": [
        {
          "output_type": "error",
          "ename": "ERROR",
          "evalue": "ignored",
          "traceback": [
            "Error in RMSE(y1, train_dataset1$Global_Sales): could not find function \"RMSE\"\nTraceback:\n"
          ]
        }
      ]
    },
    {
      "cell_type": "code",
      "metadata": {
        "colab": {
          "base_uri": "https://localhost:8080/",
          "height": 373
        },
        "id": "U5LfgA3Q91xN",
        "outputId": "0dc23bc5-5b62-49bf-ce30-8a7ef6d8e9a6"
      },
      "source": [
        "library(dplyr)\n",
        "library(tidyr)\n",
        "library(stringr)\n",
        "library(ggplot2)\n",
        "library(corrplot)\n",
        "library(dummies)\n",
        "library(broom)\n",
        "library(mice)\n",
        "library(DataExplorer)\n",
        "library(gridExtra)\n",
        "library(caret)\n",
        "library(RColorBrewer)\n",
        "library(missForest)\n",
        "library(caTools)\n",
        "library(jtools)\n",
        "library(randomForest)\n",
        "library(e1071)\n",
        "library(ROCR)\n",
        "library(klaR)"
      ],
      "execution_count": 84,
      "outputs": [
        {
          "output_type": "stream",
          "name": "stderr",
          "text": [
            "\n",
            "Attaching package: ‘mice’\n",
            "\n",
            "\n",
            "The following object is masked from ‘package:stats’:\n",
            "\n",
            "    filter\n",
            "\n",
            "\n",
            "The following objects are masked from ‘package:base’:\n",
            "\n",
            "    cbind, rbind\n",
            "\n",
            "\n"
          ]
        },
        {
          "output_type": "error",
          "ename": "ERROR",
          "evalue": "ignored",
          "traceback": [
            "Error in library(DataExplorer): there is no package called ‘DataExplorer’\nTraceback:\n",
            "1. library(DataExplorer)"
          ]
        }
      ]
    },
    {
      "cell_type": "code",
      "metadata": {
        "colab": {
          "base_uri": "https://localhost:8080/"
        },
        "id": "NEfwH_4b-F11",
        "outputId": "e0d200ff-ed8c-439b-bc25-4f0c60215d82"
      },
      "source": [
        "install.packages(\"DataExplorer\")"
      ],
      "execution_count": 85,
      "outputs": [
        {
          "output_type": "stream",
          "name": "stderr",
          "text": [
            "Installing package into ‘/usr/local/lib/R/site-library’\n",
            "(as ‘lib’ is unspecified)\n",
            "\n",
            "also installing the dependencies ‘plyr’, ‘htmlwidgets’, ‘igraph’, ‘reshape2’, ‘gridExtra’, ‘networkD3’\n",
            "\n",
            "\n"
          ]
        }
      ]
    },
    {
      "cell_type": "code",
      "metadata": {
        "id": "FJ9vyF-c-Z8d"
      },
      "source": [
        ""
      ],
      "execution_count": null,
      "outputs": []
    }
  ]
}