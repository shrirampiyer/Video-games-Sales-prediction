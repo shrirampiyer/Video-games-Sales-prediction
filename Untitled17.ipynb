{
  "nbformat": 4,
  "nbformat_minor": 0,
  "metadata": {
    "colab": {
      "name": "Untitled17.ipynb",
      "provenance": [],
      "authorship_tag": "ABX9TyOO4YAa89eMPehibcdIVE0R",
      "include_colab_link": true
    },
    "kernelspec": {
      "name": "ir",
      "display_name": "R"
    },
    "language_info": {
      "name": "R"
    }
  },
  "cells": [
    {
      "cell_type": "markdown",
      "metadata": {
        "id": "view-in-github",
        "colab_type": "text"
      },
      "source": [
        "<a href=\"https://colab.research.google.com/github/shrirampiyer/Video-games-Sales-prediction/blob/main/Untitled17.ipynb\" target=\"_parent\"><img src=\"https://colab.research.google.com/assets/colab-badge.svg\" alt=\"Open In Colab\"/></a>"
      ]
    },
    {
      "cell_type": "code",
      "metadata": {
        "colab": {
          "base_uri": "https://localhost:8080/",
          "height": 373
        },
        "id": "ElAnKG4kuVWE",
        "outputId": "077ac461-f936-4122-a9a7-352e0af5afc8"
      },
      "source": [
        "library(dplyr)\n",
        "library(tidyr)\n",
        "library(stringr)\n",
        "library(ggplot2)\n",
        "library(corrplot)\n",
        "library(dummies)\n",
        "library(broom)\n",
        "library(mice)\n",
        "library(DataExplorer)\n",
        "library(gridExtra)\n",
        "library(caret)\n",
        "library(RColorBrewer)\n",
        "library(missForest)\n",
        "library(caTools)\n",
        "library(jtools)\n",
        "library(randomForest)\n",
        "library(e1071)\n",
        "library(ROCR)\n",
        "library(klaR)\n"
      ],
      "execution_count": null,
      "outputs": [
        {
          "output_type": "stream",
          "name": "stderr",
          "text": [
            "\n",
            "Attaching package: ‘dplyr’\n",
            "\n",
            "\n",
            "The following objects are masked from ‘package:stats’:\n",
            "\n",
            "    filter, lag\n",
            "\n",
            "\n",
            "The following objects are masked from ‘package:base’:\n",
            "\n",
            "    intersect, setdiff, setequal, union\n",
            "\n",
            "\n"
          ]
        },
        {
          "output_type": "error",
          "ename": "ERROR",
          "evalue": "ignored",
          "traceback": [
            "Error in library(corrplot): there is no package called ‘corrplot’\nTraceback:\n",
            "1. library(corrplot)"
          ]
        }
      ]
    },
    {
      "cell_type": "code",
      "metadata": {
        "colab": {
          "base_uri": "https://localhost:8080/"
        },
        "id": "5Ihp1OVWuV98",
        "outputId": "b6ca9d71-1e65-4747-ffbc-51c4b4f49cce"
      },
      "source": [
        "install.packages(\"corrplot\")"
      ],
      "execution_count": null,
      "outputs": [
        {
          "output_type": "stream",
          "name": "stderr",
          "text": [
            "Installing package into ‘/usr/local/lib/R/site-library’\n",
            "(as ‘lib’ is unspecified)\n",
            "\n"
          ]
        }
      ]
    },
    {
      "cell_type": "code",
      "metadata": {
        "id": "j0R-_vA7uc2j"
      },
      "source": [
        "sales_data <- read.csv(\"/content/M4_Videogame.csv\")"
      ],
      "execution_count": null,
      "outputs": []
    },
    {
      "cell_type": "code",
      "metadata": {
        "colab": {
          "base_uri": "https://localhost:8080/"
        },
        "id": "Or9eTCZ6vAWX",
        "outputId": "3b50bda0-0bf5-4d1b-f478-d182b3259958"
      },
      "source": [
        "glimpse(sales_data)"
      ],
      "execution_count": null,
      "outputs": [
        {
          "output_type": "stream",
          "name": "stdout",
          "text": [
            "Rows: 16,719\n",
            "Columns: 17\n",
            "$ X               \u001b[3m\u001b[90m<int>\u001b[39m\u001b[23m 1, 2, 3, 4, 5, 6, 7, 8, 9, 10, 11, 12, 13, 14, 15, 16,…\n",
            "$ Name            \u001b[3m\u001b[90m<chr>\u001b[39m\u001b[23m \"Wii Sports\", \"Super Mario Bros.\", \"Mario Kart Wii\", \"…\n",
            "$ Platform        \u001b[3m\u001b[90m<chr>\u001b[39m\u001b[23m \"Wii\", \"NES\", \"Wii\", \"Wii\", \"GB\", \"GB\", \"DS\", \"Wii\", \"…\n",
            "$ Year_of_Release \u001b[3m\u001b[90m<chr>\u001b[39m\u001b[23m \"2006\", \"1985\", \"2008\", \"2009\", \"1996\", \"1989\", \"2006\"…\n",
            "$ Genre           \u001b[3m\u001b[90m<chr>\u001b[39m\u001b[23m \"Sports\", \"Platform\", \"Racing\", \"Sports\", \"Role-Playin…\n",
            "$ Publisher       \u001b[3m\u001b[90m<chr>\u001b[39m\u001b[23m \"Nintendo\", \"Nintendo\", \"Nintendo\", \"Nintendo\", \"Ninte…\n",
            "$ NA_players      \u001b[3m\u001b[90m<dbl>\u001b[39m\u001b[23m 41.36, 29.08, 15.68, 15.61, 11.27, 23.20, 11.28, 13.96…\n",
            "$ EU_players      \u001b[3m\u001b[90m<dbl>\u001b[39m\u001b[23m 28.96, 3.58, 12.76, 10.93, 8.89, 2.26, 9.14, 9.18, 6.9…\n",
            "$ JP_players      \u001b[3m\u001b[90m<dbl>\u001b[39m\u001b[23m 3.77, 6.81, 3.79, 3.28, 10.22, 4.22, 6.50, 2.93, 4.70,…\n",
            "$ Other_players   \u001b[3m\u001b[90m<dbl>\u001b[39m\u001b[23m 8.45, 0.77, 3.29, 2.95, 1.00, 0.58, 2.88, 2.84, 2.24, …\n",
            "$ Global_players  \u001b[3m\u001b[90m<dbl>\u001b[39m\u001b[23m 82.53, 40.24, 35.52, 32.77, 31.37, 30.26, 29.80, 28.92…\n",
            "$ Critic_Score    \u001b[3m\u001b[90m<int>\u001b[39m\u001b[23m 76, NA, 82, 80, NA, NA, 89, 58, 87, NA, NA, 91, NA, 80…\n",
            "$ Critic_Count    \u001b[3m\u001b[90m<int>\u001b[39m\u001b[23m 51, NA, 73, 73, NA, NA, 65, 41, 80, NA, NA, 64, NA, 63…\n",
            "$ User_Score      \u001b[3m\u001b[90m<chr>\u001b[39m\u001b[23m \"8\", \"\", \"8.3\", \"8\", \"\", \"\", \"8.5\", \"6.6\", \"8.4\", \"\", …\n",
            "$ User_Count      \u001b[3m\u001b[90m<int>\u001b[39m\u001b[23m 322, NA, 709, 192, NA, NA, 431, 129, 594, NA, NA, 464,…\n",
            "$ Developer       \u001b[3m\u001b[90m<chr>\u001b[39m\u001b[23m \"Nintendo\", \"\", \"Nintendo\", \"Nintendo\", \"\", \"\", \"Ninte…\n",
            "$ Rating          \u001b[3m\u001b[90m<chr>\u001b[39m\u001b[23m \"E\", \"\", \"E\", \"E\", \"\", \"\", \"E\", \"E\", \"E\", \"\", \"\", \"E\",…\n"
          ]
        }
      ]
    },
    {
      "cell_type": "code",
      "metadata": {
        "id": "jwwIVGVCvFlz"
      },
      "source": [
        "sales_data$Platform = as.factor(sales_data$Platform)\n",
        "sales_data$Year_of_Release = as.numeric(sales_data$Year_of_Release)\n",
        "sales_data$Genre = as.factor(sales_data$Genre)\n",
        "sales_data$Publisher = as.factor(sales_data$Publisher)\n",
        "sales_data$Developer=as.factor(sales_data$Developer)\n",
        "sales_data$Rating=as.factor(sales_data$Rating)"
      ],
      "execution_count": null,
      "outputs": []
    },
    {
      "cell_type": "code",
      "metadata": {
        "colab": {
          "base_uri": "https://localhost:8080/",
          "height": 129
        },
        "id": "ngYQKSm8vdS5",
        "outputId": "0c83d9a0-51e6-435a-9ddf-bdb0824ed035"
      },
      "source": [
        "\n",
        "sales_data %>% summarise(n_distinct(Name))"
      ],
      "execution_count": null,
      "outputs": [
        {
          "output_type": "display_data",
          "data": {
            "text/plain": [
              "  n_distinct(Name)\n",
              "1 11563           "
            ],
            "text/latex": "A data.frame: 1 × 1\n\\begin{tabular}{l}\n n\\_distinct(Name)\\\\\n <int>\\\\\n\\hline\n\t 11563\\\\\n\\end{tabular}\n",
            "text/markdown": "\nA data.frame: 1 × 1\n\n| n_distinct(Name) &lt;int&gt; |\n|---|\n| 11563 |\n\n",
            "text/html": [
              "<table class=\"dataframe\">\n",
              "<caption>A data.frame: 1 × 1</caption>\n",
              "<thead>\n",
              "\t<tr><th scope=col>n_distinct(Name)</th></tr>\n",
              "\t<tr><th scope=col>&lt;int&gt;</th></tr>\n",
              "</thead>\n",
              "<tbody>\n",
              "\t<tr><td>11563</td></tr>\n",
              "</tbody>\n",
              "</table>\n"
            ]
          },
          "metadata": {}
        }
      ]
    },
    {
      "cell_type": "code",
      "metadata": {
        "colab": {
          "base_uri": "https://localhost:8080/",
          "height": 1000
        },
        "id": "VvUj6U_D5SpZ",
        "outputId": "0b881113-7340-4e00-90b0-7608b1464755"
      },
      "source": [
        "sales_data <- subset(sales_data, sales_data$Platform != \"PS2\")\n",
        "sales_data %>%\n",
        "  group_by(Platform) %>%\n",
        "  summarise(Count = n(),Perc=round(n()/nrow(.)*100,2)) %>%\n",
        "  arrange(desc(Count))"
      ],
      "execution_count": null,
      "outputs": [
        {
          "output_type": "display_data",
          "data": {
            "text/plain": [
              "   Platform Count Perc \n",
              "1  DS       2152  14.78\n",
              "2  PS3      1331   9.14\n",
              "3  Wii      1320   9.07\n",
              "4  X360     1262   8.67\n",
              "5  PSP      1209   8.30\n",
              "6  PS       1197   8.22\n",
              "7  PC        974   6.69\n",
              "8  XB        824   5.66\n",
              "9  GBA       822   5.65\n",
              "10 GC        556   3.82\n",
              "11 3DS       520   3.57\n",
              "12 PSV       432   2.97\n",
              "13 PS4       393   2.70\n",
              "14 N64       319   2.19\n",
              "15 XOne      247   1.70\n",
              "16 SNES      239   1.64\n",
              "17 SAT       173   1.19\n",
              "18 WiiU      147   1.01\n",
              "19 2600      133   0.91\n",
              "20 GB         98   0.67\n",
              "21 NES        98   0.67\n",
              "22 DC         52   0.36\n",
              "23 GEN        29   0.20\n",
              "24 NG         12   0.08\n",
              "25 SCD         6   0.04\n",
              "26 WS          6   0.04\n",
              "27 3DO         3   0.02\n",
              "28 TG16        2   0.01\n",
              "29 GG          1   0.01\n",
              "30 PCFX        1   0.01"
            ],
            "text/latex": "A tibble: 30 × 3\n\\begin{tabular}{lll}\n Platform & Count & Perc\\\\\n <fct> & <int> & <dbl>\\\\\n\\hline\n\t DS   & 2152 & 14.78\\\\\n\t PS3  & 1331 &  9.14\\\\\n\t Wii  & 1320 &  9.07\\\\\n\t X360 & 1262 &  8.67\\\\\n\t PSP  & 1209 &  8.30\\\\\n\t PS   & 1197 &  8.22\\\\\n\t PC   &  974 &  6.69\\\\\n\t XB   &  824 &  5.66\\\\\n\t GBA  &  822 &  5.65\\\\\n\t GC   &  556 &  3.82\\\\\n\t 3DS  &  520 &  3.57\\\\\n\t PSV  &  432 &  2.97\\\\\n\t PS4  &  393 &  2.70\\\\\n\t N64  &  319 &  2.19\\\\\n\t XOne &  247 &  1.70\\\\\n\t SNES &  239 &  1.64\\\\\n\t SAT  &  173 &  1.19\\\\\n\t WiiU &  147 &  1.01\\\\\n\t 2600 &  133 &  0.91\\\\\n\t GB   &   98 &  0.67\\\\\n\t NES  &   98 &  0.67\\\\\n\t DC   &   52 &  0.36\\\\\n\t GEN  &   29 &  0.20\\\\\n\t NG   &   12 &  0.08\\\\\n\t SCD  &    6 &  0.04\\\\\n\t WS   &    6 &  0.04\\\\\n\t 3DO  &    3 &  0.02\\\\\n\t TG16 &    2 &  0.01\\\\\n\t GG   &    1 &  0.01\\\\\n\t PCFX &    1 &  0.01\\\\\n\\end{tabular}\n",
            "text/markdown": "\nA tibble: 30 × 3\n\n| Platform &lt;fct&gt; | Count &lt;int&gt; | Perc &lt;dbl&gt; |\n|---|---|---|\n| DS   | 2152 | 14.78 |\n| PS3  | 1331 |  9.14 |\n| Wii  | 1320 |  9.07 |\n| X360 | 1262 |  8.67 |\n| PSP  | 1209 |  8.30 |\n| PS   | 1197 |  8.22 |\n| PC   |  974 |  6.69 |\n| XB   |  824 |  5.66 |\n| GBA  |  822 |  5.65 |\n| GC   |  556 |  3.82 |\n| 3DS  |  520 |  3.57 |\n| PSV  |  432 |  2.97 |\n| PS4  |  393 |  2.70 |\n| N64  |  319 |  2.19 |\n| XOne |  247 |  1.70 |\n| SNES |  239 |  1.64 |\n| SAT  |  173 |  1.19 |\n| WiiU |  147 |  1.01 |\n| 2600 |  133 |  0.91 |\n| GB   |   98 |  0.67 |\n| NES  |   98 |  0.67 |\n| DC   |   52 |  0.36 |\n| GEN  |   29 |  0.20 |\n| NG   |   12 |  0.08 |\n| SCD  |    6 |  0.04 |\n| WS   |    6 |  0.04 |\n| 3DO  |    3 |  0.02 |\n| TG16 |    2 |  0.01 |\n| GG   |    1 |  0.01 |\n| PCFX |    1 |  0.01 |\n\n",
            "text/html": [
              "<table class=\"dataframe\">\n",
              "<caption>A tibble: 30 × 3</caption>\n",
              "<thead>\n",
              "\t<tr><th scope=col>Platform</th><th scope=col>Count</th><th scope=col>Perc</th></tr>\n",
              "\t<tr><th scope=col>&lt;fct&gt;</th><th scope=col>&lt;int&gt;</th><th scope=col>&lt;dbl&gt;</th></tr>\n",
              "</thead>\n",
              "<tbody>\n",
              "\t<tr><td>DS  </td><td>2152</td><td>14.78</td></tr>\n",
              "\t<tr><td>PS3 </td><td>1331</td><td> 9.14</td></tr>\n",
              "\t<tr><td>Wii </td><td>1320</td><td> 9.07</td></tr>\n",
              "\t<tr><td>X360</td><td>1262</td><td> 8.67</td></tr>\n",
              "\t<tr><td>PSP </td><td>1209</td><td> 8.30</td></tr>\n",
              "\t<tr><td>PS  </td><td>1197</td><td> 8.22</td></tr>\n",
              "\t<tr><td>PC  </td><td> 974</td><td> 6.69</td></tr>\n",
              "\t<tr><td>XB  </td><td> 824</td><td> 5.66</td></tr>\n",
              "\t<tr><td>GBA </td><td> 822</td><td> 5.65</td></tr>\n",
              "\t<tr><td>GC  </td><td> 556</td><td> 3.82</td></tr>\n",
              "\t<tr><td>3DS </td><td> 520</td><td> 3.57</td></tr>\n",
              "\t<tr><td>PSV </td><td> 432</td><td> 2.97</td></tr>\n",
              "\t<tr><td>PS4 </td><td> 393</td><td> 2.70</td></tr>\n",
              "\t<tr><td>N64 </td><td> 319</td><td> 2.19</td></tr>\n",
              "\t<tr><td>XOne</td><td> 247</td><td> 1.70</td></tr>\n",
              "\t<tr><td>SNES</td><td> 239</td><td> 1.64</td></tr>\n",
              "\t<tr><td>SAT </td><td> 173</td><td> 1.19</td></tr>\n",
              "\t<tr><td>WiiU</td><td> 147</td><td> 1.01</td></tr>\n",
              "\t<tr><td>2600</td><td> 133</td><td> 0.91</td></tr>\n",
              "\t<tr><td>GB  </td><td>  98</td><td> 0.67</td></tr>\n",
              "\t<tr><td>NES </td><td>  98</td><td> 0.67</td></tr>\n",
              "\t<tr><td>DC  </td><td>  52</td><td> 0.36</td></tr>\n",
              "\t<tr><td>GEN </td><td>  29</td><td> 0.20</td></tr>\n",
              "\t<tr><td>NG  </td><td>  12</td><td> 0.08</td></tr>\n",
              "\t<tr><td>SCD </td><td>   6</td><td> 0.04</td></tr>\n",
              "\t<tr><td>WS  </td><td>   6</td><td> 0.04</td></tr>\n",
              "\t<tr><td>3DO </td><td>   3</td><td> 0.02</td></tr>\n",
              "\t<tr><td>TG16</td><td>   2</td><td> 0.01</td></tr>\n",
              "\t<tr><td>GG  </td><td>   1</td><td> 0.01</td></tr>\n",
              "\t<tr><td>PCFX</td><td>   1</td><td> 0.01</td></tr>\n",
              "</tbody>\n",
              "</table>\n"
            ]
          },
          "metadata": {}
        }
      ]
    },
    {
      "cell_type": "code",
      "metadata": {
        "colab": {
          "base_uri": "https://localhost:8080/",
          "height": 504
        },
        "id": "h28CA_Og544b",
        "outputId": "a7cf5230-dabf-46da-df7f-cd7829cf7c2b"
      },
      "source": [
        "\n",
        "sales_data %>%\n",
        "  group_by(Genre) %>%\n",
        "  summarise(Count = n(),Perc=round(n()/nrow(.)*100,2)) %>%\n",
        "  arrange(desc(Count))"
      ],
      "execution_count": null,
      "outputs": [
        {
          "output_type": "display_data",
          "data": {
            "text/plain": [
              "   Genre        Count Perc \n",
              "1  Action       3022  20.76\n",
              "2  Sports       1948  13.38\n",
              "3  Misc         1528  10.50\n",
              "4  Role-Playing 1313   9.02\n",
              "5  Shooter      1163   7.99\n",
              "6  Adventure    1107   7.60\n",
              "7  Racing       1033   7.10\n",
              "8  Platform      785   5.39\n",
              "9  Simulation    784   5.39\n",
              "10 Fighting      699   4.80\n",
              "11 Strategy      612   4.20\n",
              "12 Puzzle        562   3.86\n",
              "13                 2   0.01"
            ],
            "text/latex": "A tibble: 13 × 3\n\\begin{tabular}{lll}\n Genre & Count & Perc\\\\\n <fct> & <int> & <dbl>\\\\\n\\hline\n\t Action       & 3022 & 20.76\\\\\n\t Sports       & 1948 & 13.38\\\\\n\t Misc         & 1528 & 10.50\\\\\n\t Role-Playing & 1313 &  9.02\\\\\n\t Shooter      & 1163 &  7.99\\\\\n\t Adventure    & 1107 &  7.60\\\\\n\t Racing       & 1033 &  7.10\\\\\n\t Platform     &  785 &  5.39\\\\\n\t Simulation   &  784 &  5.39\\\\\n\t Fighting     &  699 &  4.80\\\\\n\t Strategy     &  612 &  4.20\\\\\n\t Puzzle       &  562 &  3.86\\\\\n\t              &    2 &  0.01\\\\\n\\end{tabular}\n",
            "text/markdown": "\nA tibble: 13 × 3\n\n| Genre &lt;fct&gt; | Count &lt;int&gt; | Perc &lt;dbl&gt; |\n|---|---|---|\n| Action       | 3022 | 20.76 |\n| Sports       | 1948 | 13.38 |\n| Misc         | 1528 | 10.50 |\n| Role-Playing | 1313 |  9.02 |\n| Shooter      | 1163 |  7.99 |\n| Adventure    | 1107 |  7.60 |\n| Racing       | 1033 |  7.10 |\n| Platform     |  785 |  5.39 |\n| Simulation   |  784 |  5.39 |\n| Fighting     |  699 |  4.80 |\n| Strategy     |  612 |  4.20 |\n| Puzzle       |  562 |  3.86 |\n| <!----> |    2 |  0.01 |\n\n",
            "text/html": [
              "<table class=\"dataframe\">\n",
              "<caption>A tibble: 13 × 3</caption>\n",
              "<thead>\n",
              "\t<tr><th scope=col>Genre</th><th scope=col>Count</th><th scope=col>Perc</th></tr>\n",
              "\t<tr><th scope=col>&lt;fct&gt;</th><th scope=col>&lt;int&gt;</th><th scope=col>&lt;dbl&gt;</th></tr>\n",
              "</thead>\n",
              "<tbody>\n",
              "\t<tr><td>Action      </td><td>3022</td><td>20.76</td></tr>\n",
              "\t<tr><td>Sports      </td><td>1948</td><td>13.38</td></tr>\n",
              "\t<tr><td>Misc        </td><td>1528</td><td>10.50</td></tr>\n",
              "\t<tr><td>Role-Playing</td><td>1313</td><td> 9.02</td></tr>\n",
              "\t<tr><td>Shooter     </td><td>1163</td><td> 7.99</td></tr>\n",
              "\t<tr><td>Adventure   </td><td>1107</td><td> 7.60</td></tr>\n",
              "\t<tr><td>Racing      </td><td>1033</td><td> 7.10</td></tr>\n",
              "\t<tr><td>Platform    </td><td> 785</td><td> 5.39</td></tr>\n",
              "\t<tr><td>Simulation  </td><td> 784</td><td> 5.39</td></tr>\n",
              "\t<tr><td>Fighting    </td><td> 699</td><td> 4.80</td></tr>\n",
              "\t<tr><td>Strategy    </td><td> 612</td><td> 4.20</td></tr>\n",
              "\t<tr><td>Puzzle      </td><td> 562</td><td> 3.86</td></tr>\n",
              "\t<tr><td>            </td><td>   2</td><td> 0.01</td></tr>\n",
              "</tbody>\n",
              "</table>\n"
            ]
          },
          "metadata": {}
        }
      ]
    },
    {
      "cell_type": "code",
      "metadata": {
        "colab": {
          "base_uri": "https://localhost:8080/",
          "height": 1000
        },
        "id": "USo5Ki4H720K",
        "outputId": "8231792f-8c69-46e9-82aa-a881cca335dd"
      },
      "source": [
        "sales_data %>%\n",
        "  group_by(Publisher) %>%\n",
        "  summarise(Count = n(),Perc=round(n()/nrow(.)*100,2)) %>%\n",
        "  arrange(desc(Count))"
      ],
      "execution_count": null,
      "outputs": [
        {
          "output_type": "display_data",
          "data": {
            "text/plain": [
              "    Publisher                              Count Perc\n",
              "1   Electronic Arts                        1157  7.95\n",
              "2   Activision                              882  6.06\n",
              "3   Ubisoft                                 863  5.93\n",
              "4   Namco Bandai Games                      832  5.72\n",
              "5   Nintendo                                706  4.85\n",
              "6   Konami Digital Entertainment            671  4.61\n",
              "7   THQ                                     615  4.22\n",
              "8   Sega                                    555  3.81\n",
              "9   Sony Computer Entertainment             483  3.32\n",
              "10  Take-Two Interactive                    362  2.49\n",
              "11  Capcom                                  325  2.23\n",
              "12  Atari                                   297  2.04\n",
              "13  Tecmo Koei                              263  1.81\n",
              "14  Warner Bros. Interactive Entertainment  227  1.56\n",
              "15  Square Enix                             208  1.43\n",
              "16  Disney Interactive Studios              201  1.38\n",
              "17  Microsoft Game Studios                  191  1.31\n",
              "18  Unknown                                 177  1.22\n",
              "19  505 Games                               169  1.16\n",
              "20  D3Publisher                             160  1.10\n",
              "21  Eidos Interactive                       154  1.06\n",
              "22  Acclaim Entertainment                   153  1.05\n",
              "23  Midway Games                            148  1.02\n",
              "24  Codemasters                             133  0.91\n",
              "25  Vivendi Games                           133  0.91\n",
              "26  Deep Silver                             121  0.83\n",
              "27  Idea Factory                            116  0.80\n",
              "28  Nippon Ichi Software                    101  0.69\n",
              "29  Zoo Digital Publishing                   93  0.64\n",
              "30  Majesco Entertainment                    91  0.63\n",
              "⋮   ⋮                                      ⋮     ⋮   \n",
              "523 Summitsoft                             1     0.01\n",
              "524 Sunflowers                             1     0.01\n",
              "525 T&E Soft                               1     0.01\n",
              "526 Takuyo                                 1     0.01\n",
              "527 TalonSoft                              1     0.01\n",
              "528 Team17 Software                        1     0.01\n",
              "529 Technos Japan Corporation              1     0.01\n",
              "530 TechnoSoft                             1     0.01\n",
              "531 Tetris Online                          1     0.01\n",
              "532 The Learning Company                   1     0.01\n",
              "533 TOHO                                   1     0.01\n",
              "534 TYO                                    1     0.01\n",
              "535 Type-Moon                              1     0.01\n",
              "536 UEP Systems                            1     0.01\n",
              "537 UIG Entertainment                      1     0.01\n",
              "538 Ultravision                            1     0.01\n",
              "539 Universal Gamex                        1     0.01\n",
              "540 Valve                                  1     0.01\n",
              "541 Vap                                    1     0.01\n",
              "542 Visco                                  1     0.01\n",
              "543 Warashi                                1     0.01\n",
              "544 Wargaming.net                          1     0.01\n",
              "545 Warp                                   1     0.01\n",
              "546 WayForward Technologies                1     0.01\n",
              "547 Westwood Studios                       1     0.01\n",
              "548 White Park Bay Software                1     0.01\n",
              "549 Wizard Video Games                     1     0.01\n",
              "550 Xing Entertainment                     1     0.01\n",
              "551 Yamasa Entertainment                   1     0.01\n",
              "552 Yumedia                                1     0.01"
            ],
            "text/latex": "A tibble: 552 × 3\n\\begin{tabular}{lll}\n Publisher & Count & Perc\\\\\n <fct> & <int> & <dbl>\\\\\n\\hline\n\t Electronic Arts                        & 1157 & 7.95\\\\\n\t Activision                             &  882 & 6.06\\\\\n\t Ubisoft                                &  863 & 5.93\\\\\n\t Namco Bandai Games                     &  832 & 5.72\\\\\n\t Nintendo                               &  706 & 4.85\\\\\n\t Konami Digital Entertainment           &  671 & 4.61\\\\\n\t THQ                                    &  615 & 4.22\\\\\n\t Sega                                   &  555 & 3.81\\\\\n\t Sony Computer Entertainment            &  483 & 3.32\\\\\n\t Take-Two Interactive                   &  362 & 2.49\\\\\n\t Capcom                                 &  325 & 2.23\\\\\n\t Atari                                  &  297 & 2.04\\\\\n\t Tecmo Koei                             &  263 & 1.81\\\\\n\t Warner Bros. Interactive Entertainment &  227 & 1.56\\\\\n\t Square Enix                            &  208 & 1.43\\\\\n\t Disney Interactive Studios             &  201 & 1.38\\\\\n\t Microsoft Game Studios                 &  191 & 1.31\\\\\n\t Unknown                                &  177 & 1.22\\\\\n\t 505 Games                              &  169 & 1.16\\\\\n\t D3Publisher                            &  160 & 1.10\\\\\n\t Eidos Interactive                      &  154 & 1.06\\\\\n\t Acclaim Entertainment                  &  153 & 1.05\\\\\n\t Midway Games                           &  148 & 1.02\\\\\n\t Codemasters                            &  133 & 0.91\\\\\n\t Vivendi Games                          &  133 & 0.91\\\\\n\t Deep Silver                            &  121 & 0.83\\\\\n\t Idea Factory                           &  116 & 0.80\\\\\n\t Nippon Ichi Software                   &  101 & 0.69\\\\\n\t Zoo Digital Publishing                 &   93 & 0.64\\\\\n\t Majesco Entertainment                  &   91 & 0.63\\\\\n\t ⋮ & ⋮ & ⋮\\\\\n\t Summitsoft                & 1 & 0.01\\\\\n\t Sunflowers                & 1 & 0.01\\\\\n\t T\\&E Soft                  & 1 & 0.01\\\\\n\t Takuyo                    & 1 & 0.01\\\\\n\t TalonSoft                 & 1 & 0.01\\\\\n\t Team17 Software           & 1 & 0.01\\\\\n\t Technos Japan Corporation & 1 & 0.01\\\\\n\t TechnoSoft                & 1 & 0.01\\\\\n\t Tetris Online             & 1 & 0.01\\\\\n\t The Learning Company      & 1 & 0.01\\\\\n\t TOHO                      & 1 & 0.01\\\\\n\t TYO                       & 1 & 0.01\\\\\n\t Type-Moon                 & 1 & 0.01\\\\\n\t UEP Systems               & 1 & 0.01\\\\\n\t UIG Entertainment         & 1 & 0.01\\\\\n\t Ultravision               & 1 & 0.01\\\\\n\t Universal Gamex           & 1 & 0.01\\\\\n\t Valve                     & 1 & 0.01\\\\\n\t Vap                       & 1 & 0.01\\\\\n\t Visco                     & 1 & 0.01\\\\\n\t Warashi                   & 1 & 0.01\\\\\n\t Wargaming.net             & 1 & 0.01\\\\\n\t Warp                      & 1 & 0.01\\\\\n\t WayForward Technologies   & 1 & 0.01\\\\\n\t Westwood Studios          & 1 & 0.01\\\\\n\t White Park Bay Software   & 1 & 0.01\\\\\n\t Wizard Video Games        & 1 & 0.01\\\\\n\t Xing Entertainment        & 1 & 0.01\\\\\n\t Yamasa Entertainment      & 1 & 0.01\\\\\n\t Yumedia                   & 1 & 0.01\\\\\n\\end{tabular}\n",
            "text/markdown": "\nA tibble: 552 × 3\n\n| Publisher &lt;fct&gt; | Count &lt;int&gt; | Perc &lt;dbl&gt; |\n|---|---|---|\n| Electronic Arts                        | 1157 | 7.95 |\n| Activision                             |  882 | 6.06 |\n| Ubisoft                                |  863 | 5.93 |\n| Namco Bandai Games                     |  832 | 5.72 |\n| Nintendo                               |  706 | 4.85 |\n| Konami Digital Entertainment           |  671 | 4.61 |\n| THQ                                    |  615 | 4.22 |\n| Sega                                   |  555 | 3.81 |\n| Sony Computer Entertainment            |  483 | 3.32 |\n| Take-Two Interactive                   |  362 | 2.49 |\n| Capcom                                 |  325 | 2.23 |\n| Atari                                  |  297 | 2.04 |\n| Tecmo Koei                             |  263 | 1.81 |\n| Warner Bros. Interactive Entertainment |  227 | 1.56 |\n| Square Enix                            |  208 | 1.43 |\n| Disney Interactive Studios             |  201 | 1.38 |\n| Microsoft Game Studios                 |  191 | 1.31 |\n| Unknown                                |  177 | 1.22 |\n| 505 Games                              |  169 | 1.16 |\n| D3Publisher                            |  160 | 1.10 |\n| Eidos Interactive                      |  154 | 1.06 |\n| Acclaim Entertainment                  |  153 | 1.05 |\n| Midway Games                           |  148 | 1.02 |\n| Codemasters                            |  133 | 0.91 |\n| Vivendi Games                          |  133 | 0.91 |\n| Deep Silver                            |  121 | 0.83 |\n| Idea Factory                           |  116 | 0.80 |\n| Nippon Ichi Software                   |  101 | 0.69 |\n| Zoo Digital Publishing                 |   93 | 0.64 |\n| Majesco Entertainment                  |   91 | 0.63 |\n| ⋮ | ⋮ | ⋮ |\n| Summitsoft                | 1 | 0.01 |\n| Sunflowers                | 1 | 0.01 |\n| T&amp;E Soft                  | 1 | 0.01 |\n| Takuyo                    | 1 | 0.01 |\n| TalonSoft                 | 1 | 0.01 |\n| Team17 Software           | 1 | 0.01 |\n| Technos Japan Corporation | 1 | 0.01 |\n| TechnoSoft                | 1 | 0.01 |\n| Tetris Online             | 1 | 0.01 |\n| The Learning Company      | 1 | 0.01 |\n| TOHO                      | 1 | 0.01 |\n| TYO                       | 1 | 0.01 |\n| Type-Moon                 | 1 | 0.01 |\n| UEP Systems               | 1 | 0.01 |\n| UIG Entertainment         | 1 | 0.01 |\n| Ultravision               | 1 | 0.01 |\n| Universal Gamex           | 1 | 0.01 |\n| Valve                     | 1 | 0.01 |\n| Vap                       | 1 | 0.01 |\n| Visco                     | 1 | 0.01 |\n| Warashi                   | 1 | 0.01 |\n| Wargaming.net             | 1 | 0.01 |\n| Warp                      | 1 | 0.01 |\n| WayForward Technologies   | 1 | 0.01 |\n| Westwood Studios          | 1 | 0.01 |\n| White Park Bay Software   | 1 | 0.01 |\n| Wizard Video Games        | 1 | 0.01 |\n| Xing Entertainment        | 1 | 0.01 |\n| Yamasa Entertainment      | 1 | 0.01 |\n| Yumedia                   | 1 | 0.01 |\n\n",
            "text/html": [
              "<table class=\"dataframe\">\n",
              "<caption>A tibble: 552 × 3</caption>\n",
              "<thead>\n",
              "\t<tr><th scope=col>Publisher</th><th scope=col>Count</th><th scope=col>Perc</th></tr>\n",
              "\t<tr><th scope=col>&lt;fct&gt;</th><th scope=col>&lt;int&gt;</th><th scope=col>&lt;dbl&gt;</th></tr>\n",
              "</thead>\n",
              "<tbody>\n",
              "\t<tr><td>Electronic Arts                       </td><td>1157</td><td>7.95</td></tr>\n",
              "\t<tr><td>Activision                            </td><td> 882</td><td>6.06</td></tr>\n",
              "\t<tr><td>Ubisoft                               </td><td> 863</td><td>5.93</td></tr>\n",
              "\t<tr><td>Namco Bandai Games                    </td><td> 832</td><td>5.72</td></tr>\n",
              "\t<tr><td>Nintendo                              </td><td> 706</td><td>4.85</td></tr>\n",
              "\t<tr><td>Konami Digital Entertainment          </td><td> 671</td><td>4.61</td></tr>\n",
              "\t<tr><td>THQ                                   </td><td> 615</td><td>4.22</td></tr>\n",
              "\t<tr><td>Sega                                  </td><td> 555</td><td>3.81</td></tr>\n",
              "\t<tr><td>Sony Computer Entertainment           </td><td> 483</td><td>3.32</td></tr>\n",
              "\t<tr><td>Take-Two Interactive                  </td><td> 362</td><td>2.49</td></tr>\n",
              "\t<tr><td>Capcom                                </td><td> 325</td><td>2.23</td></tr>\n",
              "\t<tr><td>Atari                                 </td><td> 297</td><td>2.04</td></tr>\n",
              "\t<tr><td>Tecmo Koei                            </td><td> 263</td><td>1.81</td></tr>\n",
              "\t<tr><td>Warner Bros. Interactive Entertainment</td><td> 227</td><td>1.56</td></tr>\n",
              "\t<tr><td>Square Enix                           </td><td> 208</td><td>1.43</td></tr>\n",
              "\t<tr><td>Disney Interactive Studios            </td><td> 201</td><td>1.38</td></tr>\n",
              "\t<tr><td>Microsoft Game Studios                </td><td> 191</td><td>1.31</td></tr>\n",
              "\t<tr><td>Unknown                               </td><td> 177</td><td>1.22</td></tr>\n",
              "\t<tr><td>505 Games                             </td><td> 169</td><td>1.16</td></tr>\n",
              "\t<tr><td>D3Publisher                           </td><td> 160</td><td>1.10</td></tr>\n",
              "\t<tr><td>Eidos Interactive                     </td><td> 154</td><td>1.06</td></tr>\n",
              "\t<tr><td>Acclaim Entertainment                 </td><td> 153</td><td>1.05</td></tr>\n",
              "\t<tr><td>Midway Games                          </td><td> 148</td><td>1.02</td></tr>\n",
              "\t<tr><td>Codemasters                           </td><td> 133</td><td>0.91</td></tr>\n",
              "\t<tr><td>Vivendi Games                         </td><td> 133</td><td>0.91</td></tr>\n",
              "\t<tr><td>Deep Silver                           </td><td> 121</td><td>0.83</td></tr>\n",
              "\t<tr><td>Idea Factory                          </td><td> 116</td><td>0.80</td></tr>\n",
              "\t<tr><td>Nippon Ichi Software                  </td><td> 101</td><td>0.69</td></tr>\n",
              "\t<tr><td>Zoo Digital Publishing                </td><td>  93</td><td>0.64</td></tr>\n",
              "\t<tr><td>Majesco Entertainment                 </td><td>  91</td><td>0.63</td></tr>\n",
              "\t<tr><td>⋮</td><td>⋮</td><td>⋮</td></tr>\n",
              "\t<tr><td>Summitsoft               </td><td>1</td><td>0.01</td></tr>\n",
              "\t<tr><td>Sunflowers               </td><td>1</td><td>0.01</td></tr>\n",
              "\t<tr><td><span style=white-space:pre-wrap>T&amp;E Soft                 </span></td><td>1</td><td>0.01</td></tr>\n",
              "\t<tr><td>Takuyo                   </td><td>1</td><td>0.01</td></tr>\n",
              "\t<tr><td>TalonSoft                </td><td>1</td><td>0.01</td></tr>\n",
              "\t<tr><td>Team17 Software          </td><td>1</td><td>0.01</td></tr>\n",
              "\t<tr><td>Technos Japan Corporation</td><td>1</td><td>0.01</td></tr>\n",
              "\t<tr><td>TechnoSoft               </td><td>1</td><td>0.01</td></tr>\n",
              "\t<tr><td>Tetris Online            </td><td>1</td><td>0.01</td></tr>\n",
              "\t<tr><td>The Learning Company     </td><td>1</td><td>0.01</td></tr>\n",
              "\t<tr><td>TOHO                     </td><td>1</td><td>0.01</td></tr>\n",
              "\t<tr><td>TYO                      </td><td>1</td><td>0.01</td></tr>\n",
              "\t<tr><td>Type-Moon                </td><td>1</td><td>0.01</td></tr>\n",
              "\t<tr><td>UEP Systems              </td><td>1</td><td>0.01</td></tr>\n",
              "\t<tr><td>UIG Entertainment        </td><td>1</td><td>0.01</td></tr>\n",
              "\t<tr><td>Ultravision              </td><td>1</td><td>0.01</td></tr>\n",
              "\t<tr><td>Universal Gamex          </td><td>1</td><td>0.01</td></tr>\n",
              "\t<tr><td>Valve                    </td><td>1</td><td>0.01</td></tr>\n",
              "\t<tr><td>Vap                      </td><td>1</td><td>0.01</td></tr>\n",
              "\t<tr><td>Visco                    </td><td>1</td><td>0.01</td></tr>\n",
              "\t<tr><td>Warashi                  </td><td>1</td><td>0.01</td></tr>\n",
              "\t<tr><td>Wargaming.net            </td><td>1</td><td>0.01</td></tr>\n",
              "\t<tr><td>Warp                     </td><td>1</td><td>0.01</td></tr>\n",
              "\t<tr><td>WayForward Technologies  </td><td>1</td><td>0.01</td></tr>\n",
              "\t<tr><td>Westwood Studios         </td><td>1</td><td>0.01</td></tr>\n",
              "\t<tr><td>White Park Bay Software  </td><td>1</td><td>0.01</td></tr>\n",
              "\t<tr><td>Wizard Video Games       </td><td>1</td><td>0.01</td></tr>\n",
              "\t<tr><td>Xing Entertainment       </td><td>1</td><td>0.01</td></tr>\n",
              "\t<tr><td>Yamasa Entertainment     </td><td>1</td><td>0.01</td></tr>\n",
              "\t<tr><td>Yumedia                  </td><td>1</td><td>0.01</td></tr>\n",
              "</tbody>\n",
              "</table>\n"
            ]
          },
          "metadata": {}
        }
      ]
    },
    {
      "cell_type": "code",
      "metadata": {
        "colab": {
          "base_uri": "https://localhost:8080/"
        },
        "id": "iCWCSkeu8HVv",
        "outputId": "3b9a131f-93fa-4b31-f154-46941799fd1c"
      },
      "source": [
        "install.packages(\"forecast\")"
      ],
      "execution_count": null,
      "outputs": [
        {
          "output_type": "stream",
          "name": "stderr",
          "text": [
            "Installing package into ‘/usr/local/lib/R/site-library’\n",
            "(as ‘lib’ is unspecified)\n",
            "\n",
            "also installing the dependencies ‘xts’, ‘TTR’, ‘quadprog’, ‘quantmod’, ‘fracdiff’, ‘lmtest’, ‘timeDate’, ‘tseries’, ‘urca’, ‘zoo’, ‘RcppArmadillo’\n",
            "\n",
            "\n"
          ]
        }
      ]
    },
    {
      "cell_type": "code",
      "metadata": {
        "id": "k5_kCLXW5l36"
      },
      "source": [
        ""
      ],
      "execution_count": null,
      "outputs": []
    }
  ]
}